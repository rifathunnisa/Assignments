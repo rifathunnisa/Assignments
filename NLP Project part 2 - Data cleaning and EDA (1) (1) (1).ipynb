{
 "cells": [
  {
   "cell_type": "code",
   "execution_count": 1,
   "metadata": {
    "ExecuteTime": {
     "end_time": "2021-04-17T10:28:14.390441Z",
     "start_time": "2021-04-17T10:28:00.890848Z"
    }
   },
   "outputs": [],
   "source": [
    "import pandas as pd\n",
    "import spacy\n",
    "import nltk\n",
    "from nltk.sentiment.vader import SentimentIntensityAnalyzer\n",
    "import re\n",
    "from sklearn.metrics import accuracy_score,classification_report,confusion_matrix\n",
    "from spacy import displacy\n",
    "\n",
    "import seaborn as sns\n",
    "import string\n",
    "\n",
    "import matplotlib.pyplot as plt\n",
    "import wordcloud\n",
    "from wordcloud import WordCloud,STOPWORDS\n",
    "\n",
    "from PIL import Image\n",
    "import numpy as np"
   ]
  },
  {
   "cell_type": "code",
   "execution_count": 7,
   "metadata": {
    "ExecuteTime": {
     "end_time": "2021-04-17T10:04:59.308962Z",
     "start_time": "2021-04-17T10:04:57.786627Z"
    }
   },
   "outputs": [
    {
     "ename": "OSError",
     "evalue": "[E050] Can't find model 'en_core_web_sm'. It doesn't seem to be a Python package or a valid path to a data directory.",
     "output_type": "error",
     "traceback": [
      "\u001b[1;31m---------------------------------------------------------------------------\u001b[0m",
      "\u001b[1;31mOSError\u001b[0m                                   Traceback (most recent call last)",
      "\u001b[1;32m<ipython-input-7-12102ff9e1a9>\u001b[0m in \u001b[0;36m<module>\u001b[1;34m\u001b[0m\n\u001b[1;32m----> 1\u001b[1;33m \u001b[0mnlp\u001b[0m \u001b[1;33m=\u001b[0m \u001b[0mspacy\u001b[0m\u001b[1;33m.\u001b[0m\u001b[0mload\u001b[0m\u001b[1;33m(\u001b[0m\u001b[1;34m'en_core_web_sm'\u001b[0m\u001b[1;33m)\u001b[0m\u001b[1;33m\u001b[0m\u001b[1;33m\u001b[0m\u001b[0m\n\u001b[0m",
      "\u001b[1;32mC:\\python_install\\lib\\site-packages\\spacy\\__init__.py\u001b[0m in \u001b[0;36mload\u001b[1;34m(name, disable, exclude, config)\u001b[0m\n\u001b[0;32m     45\u001b[0m     \u001b[0mRETURNS\u001b[0m \u001b[1;33m(\u001b[0m\u001b[0mLanguage\u001b[0m\u001b[1;33m)\u001b[0m\u001b[1;33m:\u001b[0m \u001b[0mThe\u001b[0m \u001b[0mloaded\u001b[0m \u001b[0mnlp\u001b[0m \u001b[0mobject\u001b[0m\u001b[1;33m.\u001b[0m\u001b[1;33m\u001b[0m\u001b[1;33m\u001b[0m\u001b[0m\n\u001b[0;32m     46\u001b[0m     \"\"\"\n\u001b[1;32m---> 47\u001b[1;33m     \u001b[1;32mreturn\u001b[0m \u001b[0mutil\u001b[0m\u001b[1;33m.\u001b[0m\u001b[0mload_model\u001b[0m\u001b[1;33m(\u001b[0m\u001b[0mname\u001b[0m\u001b[1;33m,\u001b[0m \u001b[0mdisable\u001b[0m\u001b[1;33m=\u001b[0m\u001b[0mdisable\u001b[0m\u001b[1;33m,\u001b[0m \u001b[0mexclude\u001b[0m\u001b[1;33m=\u001b[0m\u001b[0mexclude\u001b[0m\u001b[1;33m,\u001b[0m \u001b[0mconfig\u001b[0m\u001b[1;33m=\u001b[0m\u001b[0mconfig\u001b[0m\u001b[1;33m)\u001b[0m\u001b[1;33m\u001b[0m\u001b[1;33m\u001b[0m\u001b[0m\n\u001b[0m\u001b[0;32m     48\u001b[0m \u001b[1;33m\u001b[0m\u001b[0m\n\u001b[0;32m     49\u001b[0m \u001b[1;33m\u001b[0m\u001b[0m\n",
      "\u001b[1;32mC:\\python_install\\lib\\site-packages\\spacy\\util.py\u001b[0m in \u001b[0;36mload_model\u001b[1;34m(name, vocab, disable, exclude, config)\u001b[0m\n\u001b[0;32m    327\u001b[0m     \u001b[1;32mif\u001b[0m \u001b[0mname\u001b[0m \u001b[1;32min\u001b[0m \u001b[0mOLD_MODEL_SHORTCUTS\u001b[0m\u001b[1;33m:\u001b[0m\u001b[1;33m\u001b[0m\u001b[1;33m\u001b[0m\u001b[0m\n\u001b[0;32m    328\u001b[0m         \u001b[1;32mraise\u001b[0m \u001b[0mIOError\u001b[0m\u001b[1;33m(\u001b[0m\u001b[0mErrors\u001b[0m\u001b[1;33m.\u001b[0m\u001b[0mE941\u001b[0m\u001b[1;33m.\u001b[0m\u001b[0mformat\u001b[0m\u001b[1;33m(\u001b[0m\u001b[0mname\u001b[0m\u001b[1;33m=\u001b[0m\u001b[0mname\u001b[0m\u001b[1;33m,\u001b[0m \u001b[0mfull\u001b[0m\u001b[1;33m=\u001b[0m\u001b[0mOLD_MODEL_SHORTCUTS\u001b[0m\u001b[1;33m[\u001b[0m\u001b[0mname\u001b[0m\u001b[1;33m]\u001b[0m\u001b[1;33m)\u001b[0m\u001b[1;33m)\u001b[0m\u001b[1;33m\u001b[0m\u001b[1;33m\u001b[0m\u001b[0m\n\u001b[1;32m--> 329\u001b[1;33m     \u001b[1;32mraise\u001b[0m \u001b[0mIOError\u001b[0m\u001b[1;33m(\u001b[0m\u001b[0mErrors\u001b[0m\u001b[1;33m.\u001b[0m\u001b[0mE050\u001b[0m\u001b[1;33m.\u001b[0m\u001b[0mformat\u001b[0m\u001b[1;33m(\u001b[0m\u001b[0mname\u001b[0m\u001b[1;33m=\u001b[0m\u001b[0mname\u001b[0m\u001b[1;33m)\u001b[0m\u001b[1;33m)\u001b[0m\u001b[1;33m\u001b[0m\u001b[1;33m\u001b[0m\u001b[0m\n\u001b[0m\u001b[0;32m    330\u001b[0m \u001b[1;33m\u001b[0m\u001b[0m\n\u001b[0;32m    331\u001b[0m \u001b[1;33m\u001b[0m\u001b[0m\n",
      "\u001b[1;31mOSError\u001b[0m: [E050] Can't find model 'en_core_web_sm'. It doesn't seem to be a Python package or a valid path to a data directory."
     ]
    }
   ],
   "source": [
    "nlp = spacy.load('en_core_web_sm')"
   ]
  },
  {
   "cell_type": "code",
   "execution_count": 5,
   "metadata": {
    "ExecuteTime": {
     "end_time": "2021-04-17T09:57:41.890045Z",
     "start_time": "2021-04-17T09:57:37.201590Z"
    }
   },
   "outputs": [
    {
     "name": "stdout",
     "output_type": "stream",
     "text": [
      "Requirement already satisfied: spacy in c:\\python_install\\lib\\site-packages (3.0.5)\n",
      "Requirement already satisfied: catalogue<2.1.0,>=2.0.1 in c:\\python_install\\lib\\site-packages (from spacy) (2.0.3)\n",
      "Requirement already satisfied: setuptools in c:\\python_install\\lib\\site-packages (from spacy) (49.2.0.post20200714)\n",
      "Requirement already satisfied: cymem<2.1.0,>=2.0.2 in c:\\python_install\\lib\\site-packages (from spacy) (2.0.5)\n",
      "Requirement already satisfied: tqdm<5.0.0,>=4.38.0 in c:\\python_install\\lib\\site-packages (from spacy) (4.47.0)\n",
      "Requirement already satisfied: typer<0.4.0,>=0.3.0 in c:\\python_install\\lib\\site-packages (from spacy) (0.3.2)\n",
      "Requirement already satisfied: packaging>=20.0 in c:\\python_install\\lib\\site-packages (from spacy) (20.4)\n",
      "Requirement already satisfied: murmurhash<1.1.0,>=0.28.0 in c:\\python_install\\lib\\site-packages (from spacy) (1.0.5)\n",
      "Requirement already satisfied: numpy>=1.15.0 in c:\\python_install\\lib\\site-packages (from spacy) (1.19.4)\n",
      "Requirement already satisfied: pydantic<1.8.0,>=1.7.1 in c:\\python_install\\lib\\site-packages (from spacy) (1.7.3)\n",
      "Requirement already satisfied: blis<0.8.0,>=0.4.0 in c:\\python_install\\lib\\site-packages (from spacy) (0.7.4)\n",
      "Requirement already satisfied: wasabi<1.1.0,>=0.8.1 in c:\\python_install\\lib\\site-packages (from spacy) (0.8.2)\n",
      "Requirement already satisfied: spacy-legacy<3.1.0,>=3.0.0 in c:\\python_install\\lib\\site-packages (from spacy) (3.0.2)\n",
      "Requirement already satisfied: thinc<8.1.0,>=8.0.2 in c:\\python_install\\lib\\site-packages (from spacy) (8.0.2)\n",
      "Requirement already satisfied: requests<3.0.0,>=2.13.0 in c:\\python_install\\lib\\site-packages (from spacy) (2.24.0)\n",
      "Requirement already satisfied: pathy>=0.3.5 in c:\\python_install\\lib\\site-packages (from spacy) (0.4.0)\n",
      "Requirement already satisfied: preshed<3.1.0,>=3.0.2 in c:\\python_install\\lib\\site-packages (from spacy) (3.0.5)\n",
      "Requirement already satisfied: jinja2 in c:\\python_install\\lib\\site-packages (from spacy) (2.11.2)\n",
      "Requirement already satisfied: srsly<3.0.0,>=2.4.0 in c:\\python_install\\lib\\site-packages (from spacy) (2.4.1)\n",
      "Requirement already satisfied: click<7.2.0,>=7.1.1 in c:\\python_install\\lib\\site-packages (from typer<0.4.0,>=0.3.0->spacy) (7.1.2)\n",
      "Requirement already satisfied: six in c:\\python_install\\lib\\site-packages (from packaging>=20.0->spacy) (1.15.0)\n",
      "Requirement already satisfied: pyparsing>=2.0.2 in c:\\python_install\\lib\\site-packages (from packaging>=20.0->spacy) (2.4.7)\n",
      "Requirement already satisfied: urllib3!=1.25.0,!=1.25.1,<1.26,>=1.21.1 in c:\\python_install\\lib\\site-packages (from requests<3.0.0,>=2.13.0->spacy) (1.25.9)\n",
      "Requirement already satisfied: chardet<4,>=3.0.2 in c:\\python_install\\lib\\site-packages (from requests<3.0.0,>=2.13.0->spacy) (3.0.4)\n",
      "Requirement already satisfied: idna<3,>=2.5 in c:\\python_install\\lib\\site-packages (from requests<3.0.0,>=2.13.0->spacy) (2.10)\n",
      "Requirement already satisfied: certifi>=2017.4.17 in c:\\python_install\\lib\\site-packages (from requests<3.0.0,>=2.13.0->spacy) (2020.6.20)\n",
      "Requirement already satisfied: smart-open<4.0.0,>=2.2.0 in c:\\python_install\\lib\\site-packages (from pathy>=0.3.5->spacy) (3.0.0)\n",
      "Requirement already satisfied: MarkupSafe>=0.23 in c:\\python_install\\lib\\site-packages (from jinja2->spacy) (1.1.1)\n"
     ]
    }
   ],
   "source": [
    "!pip install spacy"
   ]
  },
  {
   "cell_type": "markdown",
   "metadata": {},
   "source": [
    "## Text Classification"
   ]
  },
  {
   "cell_type": "code",
   "execution_count": 8,
   "metadata": {
    "ExecuteTime": {
     "end_time": "2021-04-17T10:05:21.976189Z",
     "start_time": "2021-04-17T10:05:21.434707Z"
    }
   },
   "outputs": [
    {
     "data": {
      "text/plain": [
       "Index(['title', 'rating', 'body', 'date'], dtype='object')"
      ]
     },
     "execution_count": 8,
     "metadata": {},
     "output_type": "execute_result"
    }
   ],
   "source": [
    "data = pd.read_csv('Product_reviews.csv')\n",
    "data.columns"
   ]
  },
  {
   "cell_type": "code",
   "execution_count": 9,
   "metadata": {
    "ExecuteTime": {
     "end_time": "2021-04-17T10:05:26.339056Z",
     "start_time": "2021-04-17T10:05:26.232054Z"
    }
   },
   "outputs": [
    {
     "name": "stdout",
     "output_type": "stream",
     "text": [
      "557\n"
     ]
    },
    {
     "data": {
      "text/html": [
       "<div>\n",
       "<style scoped>\n",
       "    .dataframe tbody tr th:only-of-type {\n",
       "        vertical-align: middle;\n",
       "    }\n",
       "\n",
       "    .dataframe tbody tr th {\n",
       "        vertical-align: top;\n",
       "    }\n",
       "\n",
       "    .dataframe thead th {\n",
       "        text-align: right;\n",
       "    }\n",
       "</style>\n",
       "<table border=\"1\" class=\"dataframe\">\n",
       "  <thead>\n",
       "    <tr style=\"text-align: right;\">\n",
       "      <th></th>\n",
       "      <th>rating</th>\n",
       "      <th>review</th>\n",
       "    </tr>\n",
       "  </thead>\n",
       "  <tbody>\n",
       "    <tr>\n",
       "      <th>0</th>\n",
       "      <td>5.0</td>\n",
       "      <td>IT IS MORE THAN VALUE FOR MONEY HAPPY WITH THE...</td>\n",
       "    </tr>\n",
       "    <tr>\n",
       "      <th>1</th>\n",
       "      <td>1.0</td>\n",
       "      <td>Earlier I gave a positive review, but after us...</td>\n",
       "    </tr>\n",
       "    <tr>\n",
       "      <th>2</th>\n",
       "      <td>5.0</td>\n",
       "      <td>Inalsa Air Fryer...this is awesome product ......</td>\n",
       "    </tr>\n",
       "    <tr>\n",
       "      <th>3</th>\n",
       "      <td>2.0</td>\n",
       "      <td>I bought this in the prime day sale on 15th Ju...</td>\n",
       "    </tr>\n",
       "    <tr>\n",
       "      <th>4</th>\n",
       "      <td>1.0</td>\n",
       "      <td>Product has manufacturing defect as the right ...</td>\n",
       "    </tr>\n",
       "  </tbody>\n",
       "</table>\n",
       "</div>"
      ],
      "text/plain": [
       "   rating                                             review\n",
       "0     5.0  IT IS MORE THAN VALUE FOR MONEY HAPPY WITH THE...\n",
       "1     1.0  Earlier I gave a positive review, but after us...\n",
       "2     5.0  Inalsa Air Fryer...this is awesome product ......\n",
       "3     2.0  I bought this in the prime day sale on 15th Ju...\n",
       "4     1.0  Product has manufacturing defect as the right ..."
      ]
     },
     "execution_count": 9,
     "metadata": {},
     "output_type": "execute_result"
    }
   ],
   "source": [
    "df = data.copy().drop(columns=['date', 'title'])\n",
    "df.rename(columns={'body':'review'},inplace=True)\n",
    "print(len(df))\n",
    "df.head()"
   ]
  },
  {
   "cell_type": "code",
   "execution_count": 10,
   "metadata": {
    "ExecuteTime": {
     "end_time": "2021-04-17T10:05:33.021956Z",
     "start_time": "2021-04-17T10:05:32.039642Z"
    },
    "scrolled": true
   },
   "outputs": [
    {
     "data": {
      "image/png": "[encoded data removed]",
      "text/plain": [
       "<Figure size 432x288 with 1 Axes>"
      ]
     },
     "metadata": {
      "needs_background": "light"
     },
     "output_type": "display_data"
    }
   ],
   "source": [
    "sns.countplot(data= df, x='rating')\n",
    "plt.title('Distribution of ratings');"
   ]
  },
  {
   "cell_type": "code",
   "execution_count": 11,
   "metadata": {
    "ExecuteTime": {
     "end_time": "2021-04-17T10:05:36.345590Z",
     "start_time": "2021-04-17T10:05:36.332588Z"
    }
   },
   "outputs": [],
   "source": [
    "def labeling(rating):\n",
    "    if rating >=3:\n",
    "        return 'pos'\n",
    "    else:\n",
    "        return 'neg'"
   ]
  },
  {
   "cell_type": "code",
   "execution_count": 12,
   "metadata": {
    "ExecuteTime": {
     "end_time": "2021-04-17T10:05:57.335108Z",
     "start_time": "2021-04-17T10:05:57.285076Z"
    }
   },
   "outputs": [],
   "source": [
    "df['rating_label'] = df['rating'].apply(labeling)"
   ]
  },
  {
   "cell_type": "markdown",
   "metadata": {},
   "source": [
    "<strong>Limitations:</strong><br>\n",
    "    Customers who have rated product as satisfactory, however reviewed it critically are misclassified<br>\n",
    "    Customers who have rated the product as 1/2 stars and reviewed it positively (mostly those unaware of the working of rating scale) <br>\n",
    "    Element of arbitrariness"
   ]
  },
  {
   "cell_type": "code",
   "execution_count": 13,
   "metadata": {
    "ExecuteTime": {
     "end_time": "2021-04-17T10:06:13.665377Z",
     "start_time": "2021-04-17T10:06:13.278929Z"
    },
    "scrolled": true
   },
   "outputs": [
    {
     "data": {
      "text/html": [
       "<div>\n",
       "<style scoped>\n",
       "    .dataframe tbody tr th:only-of-type {\n",
       "        vertical-align: middle;\n",
       "    }\n",
       "\n",
       "    .dataframe tbody tr th {\n",
       "        vertical-align: top;\n",
       "    }\n",
       "\n",
       "    .dataframe thead th {\n",
       "        text-align: right;\n",
       "    }\n",
       "</style>\n",
       "<table border=\"1\" class=\"dataframe\">\n",
       "  <thead>\n",
       "    <tr style=\"text-align: right;\">\n",
       "      <th></th>\n",
       "      <th>rating</th>\n",
       "      <th>review</th>\n",
       "      <th>rating_label</th>\n",
       "      <th>compound_score</th>\n",
       "      <th>vader_label</th>\n",
       "    </tr>\n",
       "  </thead>\n",
       "  <tbody>\n",
       "    <tr>\n",
       "      <th>0</th>\n",
       "      <td>5.0</td>\n",
       "      <td>IT IS MORE THAN VALUE FOR MONEY HAPPY WITH THE...</td>\n",
       "      <td>pos</td>\n",
       "      <td>0.9813</td>\n",
       "      <td>pos</td>\n",
       "    </tr>\n",
       "    <tr>\n",
       "      <th>1</th>\n",
       "      <td>1.0</td>\n",
       "      <td>Earlier I gave a positive review, but after us...</td>\n",
       "      <td>neg</td>\n",
       "      <td>0.7941</td>\n",
       "      <td>pos</td>\n",
       "    </tr>\n",
       "    <tr>\n",
       "      <th>2</th>\n",
       "      <td>5.0</td>\n",
       "      <td>Inalsa Air Fryer...this is awesome product ......</td>\n",
       "      <td>pos</td>\n",
       "      <td>0.6249</td>\n",
       "      <td>pos</td>\n",
       "    </tr>\n",
       "    <tr>\n",
       "      <th>3</th>\n",
       "      <td>2.0</td>\n",
       "      <td>I bought this in the prime day sale on 15th Ju...</td>\n",
       "      <td>neg</td>\n",
       "      <td>-0.6808</td>\n",
       "      <td>neg</td>\n",
       "    </tr>\n",
       "    <tr>\n",
       "      <th>4</th>\n",
       "      <td>1.0</td>\n",
       "      <td>Product has manufacturing defect as the right ...</td>\n",
       "      <td>neg</td>\n",
       "      <td>-0.8519</td>\n",
       "      <td>neg</td>\n",
       "    </tr>\n",
       "  </tbody>\n",
       "</table>\n",
       "</div>"
      ],
      "text/plain": [
       "   rating                                             review rating_label  \\\n",
       "0     5.0  IT IS MORE THAN VALUE FOR MONEY HAPPY WITH THE...          pos   \n",
       "1     1.0  Earlier I gave a positive review, but after us...          neg   \n",
       "2     5.0  Inalsa Air Fryer...this is awesome product ......          pos   \n",
       "3     2.0  I bought this in the prime day sale on 15th Ju...          neg   \n",
       "4     1.0  Product has manufacturing defect as the right ...          neg   \n",
       "\n",
       "   compound_score vader_label  \n",
       "0          0.9813         pos  \n",
       "1          0.7941         pos  \n",
       "2          0.6249         pos  \n",
       "3         -0.6808         neg  \n",
       "4         -0.8519         neg  "
      ]
     },
     "execution_count": 13,
     "metadata": {},
     "output_type": "execute_result"
    }
   ],
   "source": [
    "sid = SentimentIntensityAnalyzer()\n",
    "\n",
    "df['compound_score'] = df['review'].apply(lambda review: sid.polarity_scores(review)).apply(lambda score_dict: score_dict['compound'])\n",
    "# = df['scores']\n",
    "df['vader_label'] = df['compound_score'].apply(lambda c: 'pos' if c >= 0 else 'neg')\n",
    "df.head()"
   ]
  },
  {
   "cell_type": "code",
   "execution_count": 14,
   "metadata": {
    "ExecuteTime": {
     "end_time": "2021-04-17T10:06:16.743017Z",
     "start_time": "2021-04-17T10:06:16.693021Z"
    }
   },
   "outputs": [
    {
     "name": "stdout",
     "output_type": "stream",
     "text": [
      "Number of label mismatches: 56\n"
     ]
    }
   ],
   "source": [
    "temp = df[df['vader_label']!=df['rating_label']]\n",
    "print(f'Number of label mismatches: {len(temp)}')"
   ]
  },
  {
   "cell_type": "code",
   "execution_count": 11,
   "metadata": {
    "scrolled": true
   },
   "outputs": [
    {
     "data": {
      "text/html": [
       "<div>\n",
       "<style scoped>\n",
       "    .dataframe tbody tr th:only-of-type {\n",
       "        vertical-align: middle;\n",
       "    }\n",
       "\n",
       "    .dataframe tbody tr th {\n",
       "        vertical-align: top;\n",
       "    }\n",
       "\n",
       "    .dataframe thead th {\n",
       "        text-align: right;\n",
       "    }\n",
       "</style>\n",
       "<table border=\"1\" class=\"dataframe\">\n",
       "  <thead>\n",
       "    <tr style=\"text-align: right;\">\n",
       "      <th></th>\n",
       "      <th>rating</th>\n",
       "      <th>review</th>\n",
       "      <th>rating_label</th>\n",
       "      <th>compound_score</th>\n",
       "      <th>vader_label</th>\n",
       "    </tr>\n",
       "  </thead>\n",
       "  <tbody>\n",
       "    <tr>\n",
       "      <th>1</th>\n",
       "      <td>1.0</td>\n",
       "      <td>Earlier I gave a positive review, but after us...</td>\n",
       "      <td>neg</td>\n",
       "      <td>0.7941</td>\n",
       "      <td>pos</td>\n",
       "    </tr>\n",
       "    <tr>\n",
       "      <th>11</th>\n",
       "      <td>2.0</td>\n",
       "      <td>I brought this after comparing other fryers di...</td>\n",
       "      <td>neg</td>\n",
       "      <td>0.5859</td>\n",
       "      <td>pos</td>\n",
       "    </tr>\n",
       "    <tr>\n",
       "      <th>15</th>\n",
       "      <td>1.0</td>\n",
       "      <td>Helo I have purchased hairdryer of Inalsa dry ...</td>\n",
       "      <td>neg</td>\n",
       "      <td>0.4497</td>\n",
       "      <td>pos</td>\n",
       "    </tr>\n",
       "    <tr>\n",
       "      <th>19</th>\n",
       "      <td>4.0</td>\n",
       "      <td>I have not seen other compeny Air fryer so I c...</td>\n",
       "      <td>pos</td>\n",
       "      <td>-0.2617</td>\n",
       "      <td>neg</td>\n",
       "    </tr>\n",
       "    <tr>\n",
       "      <th>33</th>\n",
       "      <td>4.0</td>\n",
       "      <td>Original package had a hole on side and the pr...</td>\n",
       "      <td>pos</td>\n",
       "      <td>-0.1884</td>\n",
       "      <td>neg</td>\n",
       "    </tr>\n",
       "    <tr>\n",
       "      <th>34</th>\n",
       "      <td>1.0</td>\n",
       "      <td>Air frier is just delivered..First of all pack...</td>\n",
       "      <td>neg</td>\n",
       "      <td>0.0000</td>\n",
       "      <td>pos</td>\n",
       "    </tr>\n",
       "    <tr>\n",
       "      <th>39</th>\n",
       "      <td>1.0</td>\n",
       "      <td>Received defective product. Not able to return...</td>\n",
       "      <td>neg</td>\n",
       "      <td>0.6919</td>\n",
       "      <td>pos</td>\n",
       "    </tr>\n",
       "  </tbody>\n",
       "</table>\n",
       "</div>"
      ],
      "text/plain": [
       "    rating                                             review rating_label  \\\n",
       "1      1.0  Earlier I gave a positive review, but after us...          neg   \n",
       "11     2.0  I brought this after comparing other fryers di...          neg   \n",
       "15     1.0  Helo I have purchased hairdryer of Inalsa dry ...          neg   \n",
       "19     4.0  I have not seen other compeny Air fryer so I c...          pos   \n",
       "33     4.0  Original package had a hole on side and the pr...          pos   \n",
       "34     1.0  Air frier is just delivered..First of all pack...          neg   \n",
       "39     1.0  Received defective product. Not able to return...          neg   \n",
       "\n",
       "    compound_score vader_label  \n",
       "1           0.7941         pos  \n",
       "11          0.5859         pos  \n",
       "15          0.4497         pos  \n",
       "19         -0.2617         neg  \n",
       "33         -0.1884         neg  \n",
       "34          0.0000         pos  \n",
       "39          0.6919         pos  "
      ]
     },
     "execution_count": 11,
     "metadata": {},
     "output_type": "execute_result"
    }
   ],
   "source": [
    "temp.head(7)"
   ]
  },
  {
   "cell_type": "code",
   "execution_count": 15,
   "metadata": {
    "ExecuteTime": {
     "end_time": "2021-04-17T10:06:21.855767Z",
     "start_time": "2021-04-17T10:06:21.592746Z"
    },
    "scrolled": true
   },
   "outputs": [
    {
     "data": {
      "image/png": "[encoded data removed]",
      "text/plain": [
       "<Figure size 432x288 with 1 Axes>"
      ]
     },
     "metadata": {
      "needs_background": "light"
     },
     "output_type": "display_data"
    }
   ],
   "source": [
    "sns.countplot(data=temp, x= 'vader_label')\n",
    "plt.title('Countplot of mismatches');"
   ]
  },
  {
   "cell_type": "code",
   "execution_count": 16,
   "metadata": {
    "ExecuteTime": {
     "end_time": "2021-04-17T10:06:25.228282Z",
     "start_time": "2021-04-17T10:06:25.043098Z"
    }
   },
   "outputs": [
    {
     "ename": "TypeError",
     "evalue": "kdeplot() missing 1 required positional argument: 'data'",
     "output_type": "error",
     "traceback": [
      "\u001b[1;31m---------------------------------------------------------------------------\u001b[0m",
      "\u001b[1;31mTypeError\u001b[0m                                 Traceback (most recent call last)",
      "\u001b[1;32m<ipython-input-16-0d0b72937fa1>\u001b[0m in \u001b[0;36m<module>\u001b[1;34m\u001b[0m\n\u001b[1;32m----> 1\u001b[1;33m \u001b[0msns\u001b[0m\u001b[1;33m.\u001b[0m\u001b[0mkdeplot\u001b[0m\u001b[1;33m(\u001b[0m\u001b[0mx\u001b[0m\u001b[1;33m=\u001b[0m\u001b[0mtemp\u001b[0m\u001b[1;33m[\u001b[0m\u001b[0mtemp\u001b[0m\u001b[1;33m[\u001b[0m\u001b[1;34m'vader_label'\u001b[0m\u001b[1;33m]\u001b[0m\u001b[1;33m==\u001b[0m\u001b[1;34m'pos'\u001b[0m\u001b[1;33m]\u001b[0m\u001b[1;33m[\u001b[0m\u001b[1;34m'compound_score'\u001b[0m\u001b[1;33m]\u001b[0m\u001b[1;33m)\u001b[0m\u001b[1;33m\u001b[0m\u001b[1;33m\u001b[0m\u001b[0m\n\u001b[0m\u001b[0;32m      2\u001b[0m \u001b[0mplt\u001b[0m\u001b[1;33m.\u001b[0m\u001b[0mtitle\u001b[0m\u001b[1;33m(\u001b[0m\u001b[1;34m'Compound score distribution of mismatches classified as positive by VADER \\n'\u001b[0m\u001b[1;33m)\u001b[0m\u001b[1;33m;\u001b[0m\u001b[1;33m\u001b[0m\u001b[1;33m\u001b[0m\u001b[0m\n",
      "\u001b[1;31mTypeError\u001b[0m: kdeplot() missing 1 required positional argument: 'data'"
     ]
    }
   ],
   "source": [
    "sns.kdeplot(x=temp[temp['vader_label']=='pos']['compound_score'])\n",
    "plt.title('Compound score distribution of mismatches classified as positive by VADER \\n');"
   ]
  },
  {
   "cell_type": "code",
   "execution_count": 17,
   "metadata": {
    "ExecuteTime": {
     "end_time": "2021-04-17T10:06:28.813028Z",
     "start_time": "2021-04-17T10:06:28.608774Z"
    }
   },
   "outputs": [
    {
     "data": {
      "image/png": "[encoded data removed]",
      "text/plain": [
       "<Figure size 432x288 with 1 Axes>"
      ]
     },
     "metadata": {
      "needs_background": "light"
     },
     "output_type": "display_data"
    }
   ],
   "source": [
    "sns.countplot(x=temp[temp['vader_label']=='pos']['rating'])\n",
    "plt.title('Ratings of mismatches classified as positive by VADER');"
   ]
  },
  {
   "cell_type": "code",
   "execution_count": 18,
   "metadata": {
    "ExecuteTime": {
     "end_time": "2021-04-17T10:06:33.672007Z",
     "start_time": "2021-04-17T10:06:33.625879Z"
    }
   },
   "outputs": [
    {
     "name": "stdout",
     "output_type": "stream",
     "text": [
      "label: neg \t sentiment: pos \t rating: 1.0 \t compound score: 0.7941\n",
      "Earlier I gave a positive review, but after using it for 1 month I would like to take back all the good things I said about the product.It is indeed cheap and the polish of the tray is coming off.What is more disappointing is their customer service, who doesn't have any credibility. They make fake commitments all the time whenever contacted.All the best if you've also purchased this item.Unfortunate Buyer,Sumit Saxena \n",
      "\n",
      "label: neg \t sentiment: pos \t rating: 2.0 \t compound score: 0.5859\n",
      "I brought this after comparing other fryers displayed on Amazon. The reason I chose Inslsa, even though it was a bit costly than other models, is because it is shown as made in India among the queries section. This is MADE IN CHINA. I wish they are Frank enough to admit it, so that we can make a righteous choice. \n",
      "\n",
      "label: neg \t sentiment: pos \t rating: 1.0 \t compound score: 0.4497\n",
      "Helo I have purchased hairdryer of Inalsa dry light on 24 of August  2020. On 19 August  2020  I was using  airfryer first time just opened seal pack and using  it but that was not working evening  that was on heating up .It's  really unknowning a brand new one seal pack air dryer is not working first  time .I have spent 6000 rs for the please  sort this  out for me I have purchased  through AmazonRoopa Saini7859891122 \n",
      "\n",
      "label: neg \t sentiment: pos \t rating: 1.0 \t compound score: 0.0\n",
      "Air frier is just delivered..First of all package was not even sealed by tape.  It was delivered opened box.. can't expect this thing from AmazonI opened and checked it. The lock system is not working, the container comes out without pressing buttonThe inner container is have rust on the boundaries of container..and at the bottom also. I'm attaching pics of rust..I'm requesting exchange.  Let's see if the another product comes right.. I'll update my reviewHope the second product will come genuine. \n",
      "\n",
      "label: neg \t sentiment: pos \t rating: 1.0 \t compound score: 0.6919\n",
      "Received defective product. Not able to return as Amazon doesnot have the return policy. They have only replacement. In the name of discounts, Amazon and their team is clearing off the defective items. Not reliable amazon india. ALSO DO NOT BELIEVE THEIR NO COST EMI PLANS. DO NOT FALL PREY TO AMAZON INDIA.THEAE LURING PLANS ARE ONLY BENEFITTING AMAZON INDIA. BANKS ARE ALSO SUPPORTING THIS MENACE. \n",
      "\n",
      "label: neg \t sentiment: pos \t rating: 1.0 \t compound score: 0.5927\n",
      "Since the cost is less you might be tempted to go for this but it does not air fry the items deep inside only on the above surface. Better go for phillips . Also it gives a smell of burning plastic when used. \n",
      "\n",
      "label: neg \t sentiment: pos \t rating: 1.0 \t compound score: 0.4939\n",
      "ordered this after looking at majority positive reviews. However, the product stopped working after 1 use. Doesn't power on any more. The Box is missing user guide and recipe book as listed on the box. I will contact support to get it fixed or possibly replaced. \n",
      "\n",
      "label: neg \t sentiment: pos \t rating: 1.0 \t compound score: 0.0\n",
      "Received a non working set which was neither replaced nor refunded \n",
      "\n",
      "label: neg \t sentiment: pos \t rating: 2.0 \t compound score: 0.0\n",
      "only after a few uses the fitting of the drawer was not connecting. so now we have to put a wad of paper so that the point connects and then the fryer works. never again. \n",
      "\n",
      "label: neg \t sentiment: pos \t rating: 1.0 \t compound score: 0.0\n",
      "Was not working properly \n",
      "\n",
      "label: neg \t sentiment: pos \t rating: 1.0 \t compound score: 0.5423\n",
      "I bought this product on 19th july and it stopped working abruptly after few days(the day I am writing this product the date is 2nd of august).Please go with a better brand like Prestige or Phillip's \n",
      "\n",
      "label: neg \t sentiment: pos \t rating: 2.0 \t compound score: 0.0\n",
      "Doesn't the Air Fryer come with any Instruction Manual & Recipe Book? I just go the Air Fryer along with an Extended Warranty Coupon in a Cardboard Box Package! \n",
      "\n",
      "label: neg \t sentiment: pos \t rating: 1.0 \t compound score: 0.0\n",
      "It's made in China.. whereas it's written the manufacturer is Indian on product description.I have taken a screenshot of that \n",
      "\n",
      "label: neg \t sentiment: pos \t rating: 1.0 \t compound score: 0.4939\n",
      "Didn't receive warranty card nor recipe book. Only received the air fryer. Seller should take care of all this before packing \n",
      "\n",
      "label: neg \t sentiment: pos \t rating: 1.0 \t compound score: 0.2924\n",
      "Button sticking,  not working properly,  dissatisfied \n",
      "\n",
      "label: neg \t sentiment: pos \t rating: 2.0 \t compound score: 0.079\n",
      "The paint quality is very bad, it's started peeling off oyn three months, that to when it's very sparingly used. Needs definite improvement. \n",
      "\n",
      "label: neg \t sentiment: pos \t rating: 1.0 \t compound score: 0.1027\n",
      "It caught fire the first time I switched it on. Thankfully I got a refund. \n",
      "\n",
      "label: neg \t sentiment: pos \t rating: 1.0 \t compound score: 0.0\n",
      "Don't buy \n",
      "\n",
      "label: neg \t sentiment: pos \t rating: 1.0 \t compound score: 0.3182\n",
      "Defective,ehen I used yesterday,19 may 2020,what should I do? Please advice. \n",
      "\n",
      "label: neg \t sentiment: pos \t rating: 1.0 \t compound score: 0.0\n",
      "Item delivered is not in working condition. I have checked  late  after 10 days. Otherwise returned. \n",
      "\n",
      "label: neg \t sentiment: pos \t rating: 1.0 \t compound score: 0.0\n",
      "Pressing  button  not works.  It's  delivered today \n",
      "\n",
      "label: neg \t sentiment: pos \t rating: 1.0 \t compound score: 0.0\n",
      "My airfryer is not working \n",
      "\n",
      "label: neg \t sentiment: pos \t rating: 1.0 \t compound score: 0.0\n",
      "Its not working \n",
      "\n",
      "label: neg \t sentiment: pos \t rating: 1.0 \t compound score: 0.0\n",
      "Did not work properly even once \n",
      "\n",
      "label: neg \t sentiment: pos \t rating: 1.0 \t compound score: 0.0\n",
      "Opened after some days of receiving. It is not starting up \n",
      "\n",
      "label: neg \t sentiment: pos \t rating: 1.0 \t compound score: 0.0\n",
      "The product is not working  icame to know today because engineer come today for demo \n",
      "\n",
      "label: neg \t sentiment: pos \t rating: 1.0 \t compound score: 0.0\n",
      "this did not work \n",
      "\n",
      "label: neg \t sentiment: pos \t rating: 1.0 \t compound score: 0.0\n",
      "Didn’t work \n",
      "\n",
      "label: neg \t sentiment: pos \t rating: 1.0 \t compound score: 0.5719\n",
      "Excellent \n",
      "\n",
      "label: neg \t sentiment: pos \t rating: 1.0 \t compound score: 0.0\n",
      "This product is not working \n",
      "\n",
      "label: neg \t sentiment: pos \t rating: 1.0 \t compound score: 0.5423\n",
      "The push and release locking latch got stuck inside after pushing . I asked for product to be replaced which was done . Now the replaced same product also faces the same issue , the latch is stuck and not releasing , i am asking for refund this time and the refund window has lapsed . Please help if you can . thx \n",
      "\n",
      "label: neg \t sentiment: pos \t rating: 1.0 \t compound score: 0.4632\n",
      "got damaged within 1st use...cheap quality and plastic is also not good...give a burnt smell on cooking...go for havells or philips...this is aan honest review...plz dont waste your money people! \n",
      "\n",
      "label: neg \t sentiment: pos \t rating: 1.0 \t compound score: 0.6808\n",
      "V disappointed with this..its work only 2-3 times then its is  not working.I  called customer care number also..no response...give best service to ur customer \n",
      "\n",
      "label: neg \t sentiment: pos \t rating: 1.0 \t compound score: 0.0\n",
      "Even before pre heating it is not working.I requested for replacement but not yet replaced. \n",
      "\n",
      "label: neg \t sentiment: pos \t rating: 2.0 \t compound score: 0.9753\n",
      "Delivery feedback - unprofessional. Courier guy delivered the item at the security gate of residential complex after discussing with me but reported as ‘delivered direct to customer’ which isn’t appropriate.About item- Bought to have an initial experience of an air fryer. Product doesn’t seem to be of acceptable standards. Even at highest temp i.e. 200 degrees and using as per the recommended time, the food (eg thin home fries) couldn’t get crispy or tender. The demo provided by company isn’t satisfactory as the demo guy himself doesn’t know much about its working. Build quality is also very much average. If Inalsa wants to gain popularity in this segment then they need to improve drastically. Just selling a product for a cheaper price doesn’t help always \n",
      "\n",
      "label: neg \t sentiment: pos \t rating: 2.0 \t compound score: 0.2732\n",
      "An average product with delicate plastic components( I don't know if it's ABS or other kind of plastic).  Though, Philips is expensive, it's worth paying for their product . \n",
      "\n"
     ]
    }
   ],
   "source": [
    "pos = temp[temp['vader_label']=='pos']\n",
    "for i in range(len(pos)):\n",
    "    print(f'label: {pos.iloc[i,-3]} \\t sentiment: {pos.iloc[i,-1]} \\t rating: {pos.iloc[i,0]} \\t compound score: {pos.iloc[i,-2]}')\n",
    "    print(f'{pos.iloc[i,-4]} \\n')"
   ]
  },
  {
   "cell_type": "code",
   "execution_count": 19,
   "metadata": {
    "ExecuteTime": {
     "end_time": "2021-04-17T10:06:47.289234Z",
     "start_time": "2021-04-17T10:06:47.254235Z"
    }
   },
   "outputs": [
    {
     "ename": "TypeError",
     "evalue": "kdeplot() missing 1 required positional argument: 'data'",
     "output_type": "error",
     "traceback": [
      "\u001b[1;31m---------------------------------------------------------------------------\u001b[0m",
      "\u001b[1;31mTypeError\u001b[0m                                 Traceback (most recent call last)",
      "\u001b[1;32m<ipython-input-19-933f92211898>\u001b[0m in \u001b[0;36m<module>\u001b[1;34m\u001b[0m\n\u001b[1;32m----> 1\u001b[1;33m \u001b[0msns\u001b[0m\u001b[1;33m.\u001b[0m\u001b[0mkdeplot\u001b[0m\u001b[1;33m(\u001b[0m\u001b[0mx\u001b[0m\u001b[1;33m=\u001b[0m\u001b[0mtemp\u001b[0m\u001b[1;33m[\u001b[0m\u001b[0mtemp\u001b[0m\u001b[1;33m[\u001b[0m\u001b[1;34m'vader_label'\u001b[0m\u001b[1;33m]\u001b[0m\u001b[1;33m==\u001b[0m\u001b[1;34m'neg'\u001b[0m\u001b[1;33m]\u001b[0m\u001b[1;33m[\u001b[0m\u001b[1;34m'compound_score'\u001b[0m\u001b[1;33m]\u001b[0m\u001b[1;33m)\u001b[0m\u001b[1;33m;\u001b[0m\u001b[1;33m\u001b[0m\u001b[1;33m\u001b[0m\u001b[0m\n\u001b[0m",
      "\u001b[1;31mTypeError\u001b[0m: kdeplot() missing 1 required positional argument: 'data'"
     ]
    }
   ],
   "source": [
    "sns.kdeplot(x=temp[temp['vader_label']=='neg']['compound_score']);"
   ]
  },
  {
   "cell_type": "code",
   "execution_count": 17,
   "metadata": {},
   "outputs": [
    {
     "data": {
      "text/plain": [
       "<AxesSubplot:xlabel='rating', ylabel='count'>"
      ]
     },
     "execution_count": 17,
     "metadata": {},
     "output_type": "execute_result"
    },
    {
     "data": {
      "image/png": "[encoded data removed]",
      "text/plain": [
       "<Figure size 432x288 with 1 Axes>"
      ]
     },
     "metadata": {
      "needs_background": "light"
     },
     "output_type": "display_data"
    }
   ],
   "source": [
    "sns.countplot(x=temp[temp['vader_label']=='neg']['rating'])"
   ]
  },
  {
   "cell_type": "code",
   "execution_count": 20,
   "metadata": {
    "ExecuteTime": {
     "end_time": "2021-04-17T10:06:57.705238Z",
     "start_time": "2021-04-17T10:06:57.682232Z"
    }
   },
   "outputs": [
    {
     "name": "stdout",
     "output_type": "stream",
     "text": [
      "Rating label: pos \t Sentiment analysis label: neg \t rating: 4.0 \t compound score: -0.2617\n",
      "I have not seen other compeny Air fryer so I can not compare ..About this product I make 🍟 but it's not that mark .. uneven cooking was seen , one side of 🥔 was cooked and other raw even though I shake them several times during cooking .. And same was with chicken wings ... \n",
      "\n",
      "Rating label: pos \t Sentiment analysis label: neg \t rating: 4.0 \t compound score: -0.1884\n",
      "Original package had a hole on side and the product had broken handle. Received replacement which is working fine. One area of concern (reason for not giving 5 stars) is the handle to the basket is made of plastic and with no reinforcement the handle is very delicate. There is always a fear that it might break. If the handle had some kind of metal reinforcement in center then this fryer is best in its lot. \n",
      "\n",
      "Rating label: pos \t Sentiment analysis label: neg \t rating: 3.0 \t compound score: -0.4595\n",
      "Bought one recently and have started making a few items - they are coming out good but somehow feel the product is a little faulty - basket doesn't close properly and the timer doesn't beep when it goes off. Not too sure if it is my particular product or with the product in general. \n",
      "\n",
      "Rating label: pos \t Sentiment analysis label: neg \t rating: 4.0 \t compound score: -0.6891\n",
      "Its good product and easy to use, only try once so no feedback about durability; will write more once I tried it properly;Issues with packaging - I have replaced the product, and this time I got the product in proper packaging, but the first time I got the product in the worst condition, that's the area company needs to work. \n",
      "\n",
      "Rating label: pos \t Sentiment analysis label: neg \t rating: 3.0 \t compound score: -0.7096\n",
      "Had to return the product the next day because of poor quality of the locking system. the locking system became serviceable after a few operations on the first day itself. The fryer is useless without the locking system. \n",
      "\n",
      "Rating label: pos \t Sentiment analysis label: neg \t rating: 3.0 \t compound score: -0.4977\n",
      "Built quality very poor. Handle not working within 15 days. Plastic smell in early use. Extremely difficult to clean food basket (food stick to basket holes) \n",
      "\n",
      "Rating label: pos \t Sentiment analysis label: neg \t rating: 4.0 \t compound score: -0.4404\n",
      "I have got a bit defective product, wherein coating at handle got chipped after some time \n",
      "\n",
      "Rating label: pos \t Sentiment analysis label: neg \t rating: 4.0 \t compound score: -0.3291\n",
      "Iti purchased Inalsa  airfrier in june'20, but it stopped working within less than two months ( during 3rd use). How can I avail warrenty. It is NOT  a return for money spent \n",
      "\n",
      "Rating label: pos \t Sentiment analysis label: neg \t rating: 3.0 \t compound score: -0.5267\n",
      "The product is OK.It has a difficult handle and one tends to forget not to press the release lever while handling the hot food. \n",
      "\n",
      "Rating label: pos \t Sentiment analysis label: neg \t rating: 3.0 \t compound score: -0.3204\n",
      "Release button got stuck inside on the fourth use itself . Handle quality is not satisfactory. Rest fryer works fine . \n",
      "\n",
      "Rating label: pos \t Sentiment analysis label: neg \t rating: 3.0 \t compound score: -0.5116\n",
      "Not useful for Vegeterians. Use limited to Making Fries.. \n",
      "\n",
      "Rating label: pos \t Sentiment analysis label: neg \t rating: 5.0 \t compound score: -0.3071\n",
      "I loved it..I like fried food but due to oil..had stopped...now no guilt. \n",
      "\n",
      "Rating label: pos \t Sentiment analysis label: neg \t rating: 3.0 \t compound score: -0.2411\n",
      "The product has come without Product Manual and Warranty Card. Also not sure about cooking pan/ basket \n",
      "\n",
      "Rating label: pos \t Sentiment analysis label: neg \t rating: 4.0 \t compound score: -0.3832\n",
      "Slightly damaged product \n",
      "\n",
      "Rating label: pos \t Sentiment analysis label: neg \t rating: 3.0 \t compound score: -0.5096\n",
      "Not a great product, doesn't work every second time. Many a times have to shift half cooked dishes. \n",
      "\n",
      "Rating label: pos \t Sentiment analysis label: neg \t rating: 4.0 \t compound score: -0.2152\n",
      "Very easy to use but its handle is loose \n",
      "\n",
      "Rating label: pos \t Sentiment analysis label: neg \t rating: 5.0 \t compound score: -0.2144\n",
      "Overall good, but I have not received any recipe book and even warranty card was missing. \n",
      "\n",
      "Rating label: pos \t Sentiment analysis label: neg \t rating: 4.0 \t compound score: -0.0475\n",
      "This is an air fryer for all those budget-conscious foodies who want to help their hearts eat healthily.It's not the best in the market, but it does its job okay for cooking that takes less than half an hour.The handle quality is bad. Use carefully. I got the entire unit replaced the second day itself.The control knobs are below average.The replaced one is working well for over two months now without any issues.The taste of food reduces greatly, of course. I little bit of oil or butter can be brushed at the end for taste. Little means, very little. \n",
      "\n",
      "Rating label: pos \t Sentiment analysis label: neg \t rating: 5.0 \t compound score: -0.0644\n",
      "Although the product is great in usage, but there was no instructions manual or any warranty card in the package.. so a bit disappointed.. \n",
      "\n",
      "Rating label: pos \t Sentiment analysis label: neg \t rating: 3.0 \t compound score: -0.4201\n",
      "Very low quality product plus the lock got damaged in 2 days itself. Better to pay a few bucks extra and buy Philips that we used for 8 years without any issues \n",
      "\n"
     ]
    }
   ],
   "source": [
    "neg = temp[temp['vader_label']=='neg']\n",
    "for i in range(len(neg)):\n",
    "    print(f'Rating label: {neg.iloc[i,-3]} \\t Sentiment analysis label: {neg.iloc[i,-1]} \\t rating: {neg.iloc[i,0]} \\t compound score: {neg.iloc[i,-2]}')\n",
    "    print(f'{neg.iloc[i,-4]} \\n')"
   ]
  },
  {
   "cell_type": "markdown",
   "metadata": {},
   "source": [
    "### Rated pos and vader neg\n",
    "<ul>\n",
    "    <li>Mostly customers who are otherwise satisfies but are critical in writing reviews (interesting people!)</li>\n",
    "    <li>Few positive reviews which Vader wrongly classified as negative</li>\n",
    "</ul>\n",
    "\n",
    "### Rated neg and vader pos\n",
    "<ul>\n",
    "    <li>Mostly Vader wrongly classified negative reviews as positive</li>\n",
    "    <li>Few Customers who are happy with the product but wrongly rated the product as worst (Amazon must work on this :P) </li>\n",
    "</ul>"
   ]
  },
  {
   "cell_type": "code",
   "execution_count": 21,
   "metadata": {
    "ExecuteTime": {
     "end_time": "2021-04-17T10:12:53.877197Z",
     "start_time": "2021-04-17T10:12:53.812200Z"
    }
   },
   "outputs": [
    {
     "data": {
      "text/html": [
       "<div>\n",
       "<style scoped>\n",
       "    .dataframe tbody tr th:only-of-type {\n",
       "        vertical-align: middle;\n",
       "    }\n",
       "\n",
       "    .dataframe tbody tr th {\n",
       "        vertical-align: top;\n",
       "    }\n",
       "\n",
       "    .dataframe thead th {\n",
       "        text-align: right;\n",
       "    }\n",
       "</style>\n",
       "<table border=\"1\" class=\"dataframe\">\n",
       "  <thead>\n",
       "    <tr style=\"text-align: right;\">\n",
       "      <th></th>\n",
       "      <th>rating</th>\n",
       "      <th>review</th>\n",
       "      <th>rating_label</th>\n",
       "      <th>compound_score</th>\n",
       "      <th>vader_label</th>\n",
       "      <th>Final label</th>\n",
       "    </tr>\n",
       "  </thead>\n",
       "  <tbody>\n",
       "    <tr>\n",
       "      <th>0</th>\n",
       "      <td>5.0</td>\n",
       "      <td>IT IS MORE THAN VALUE FOR MONEY HAPPY WITH THE...</td>\n",
       "      <td>pos</td>\n",
       "      <td>0.9813</td>\n",
       "      <td>pos</td>\n",
       "      <td>pos</td>\n",
       "    </tr>\n",
       "    <tr>\n",
       "      <th>1</th>\n",
       "      <td>1.0</td>\n",
       "      <td>Earlier I gave a positive review, but after us...</td>\n",
       "      <td>neg</td>\n",
       "      <td>0.7941</td>\n",
       "      <td>pos</td>\n",
       "      <td>neg</td>\n",
       "    </tr>\n",
       "    <tr>\n",
       "      <th>2</th>\n",
       "      <td>5.0</td>\n",
       "      <td>Inalsa Air Fryer...this is awesome product ......</td>\n",
       "      <td>pos</td>\n",
       "      <td>0.6249</td>\n",
       "      <td>pos</td>\n",
       "      <td>pos</td>\n",
       "    </tr>\n",
       "    <tr>\n",
       "      <th>3</th>\n",
       "      <td>2.0</td>\n",
       "      <td>I bought this in the prime day sale on 15th Ju...</td>\n",
       "      <td>neg</td>\n",
       "      <td>-0.6808</td>\n",
       "      <td>neg</td>\n",
       "      <td>neg</td>\n",
       "    </tr>\n",
       "    <tr>\n",
       "      <th>4</th>\n",
       "      <td>1.0</td>\n",
       "      <td>Product has manufacturing defect as the right ...</td>\n",
       "      <td>neg</td>\n",
       "      <td>-0.8519</td>\n",
       "      <td>neg</td>\n",
       "      <td>neg</td>\n",
       "    </tr>\n",
       "  </tbody>\n",
       "</table>\n",
       "</div>"
      ],
      "text/plain": [
       "   rating                                             review rating_label  \\\n",
       "0     5.0  IT IS MORE THAN VALUE FOR MONEY HAPPY WITH THE...          pos   \n",
       "1     1.0  Earlier I gave a positive review, but after us...          neg   \n",
       "2     5.0  Inalsa Air Fryer...this is awesome product ......          pos   \n",
       "3     2.0  I bought this in the prime day sale on 15th Ju...          neg   \n",
       "4     1.0  Product has manufacturing defect as the right ...          neg   \n",
       "\n",
       "   compound_score vader_label Final label  \n",
       "0          0.9813         pos         pos  \n",
       "1          0.7941         pos         neg  \n",
       "2          0.6249         pos         pos  \n",
       "3         -0.6808         neg         neg  \n",
       "4         -0.8519         neg         neg  "
      ]
     },
     "execution_count": 21,
     "metadata": {},
     "output_type": "execute_result"
    }
   ],
   "source": [
    "df['Final label'] = df['vader_label']\n",
    "j = df.columns.get_loc('Final label')\n",
    "for i in temp.index.values.tolist():\n",
    "    df.iloc[i,j] = 'neg'\n",
    "df.head()"
   ]
  },
  {
   "cell_type": "code",
   "execution_count": 22,
   "metadata": {
    "ExecuteTime": {
     "end_time": "2021-04-17T10:12:56.810091Z",
     "start_time": "2021-04-17T10:12:56.634728Z"
    }
   },
   "outputs": [
    {
     "data": {
      "image/png": "[encoded data removed]",
      "text/plain": [
       "<Figure size 432x288 with 1 Axes>"
      ]
     },
     "metadata": {
      "needs_background": "light"
     },
     "output_type": "display_data"
    }
   ],
   "source": [
    "sns.countplot(data= df, x='Final label')\n",
    "plt.title('Classification count plot');"
   ]
  },
  {
   "cell_type": "code",
   "execution_count": 23,
   "metadata": {
    "ExecuteTime": {
     "end_time": "2021-04-17T10:13:00.922503Z",
     "start_time": "2021-04-17T10:13:00.523966Z"
    }
   },
   "outputs": [
    {
     "data": {
      "image/png": "[encoded data removed]",
      "text/plain": [
       "<Figure size 432x288 with 1 Axes>"
      ]
     },
     "metadata": {
      "needs_background": "light"
     },
     "output_type": "display_data"
    }
   ],
   "source": [
    "sns.boxplot(data=df,x='compound_score')\n",
    "plt.title('Distribution of compound scores');\n",
    "# 3 out 4 customers are happy with the product"
   ]
  },
  {
   "cell_type": "code",
   "execution_count": 24,
   "metadata": {
    "ExecuteTime": {
     "end_time": "2021-04-17T10:13:06.978307Z",
     "start_time": "2021-04-17T10:13:06.068609Z"
    }
   },
   "outputs": [
    {
     "data": {
      "text/plain": [
       "pos    0.754039\n",
       "neg    0.245961\n",
       "Name: Final label, dtype: float64"
      ]
     },
     "execution_count": 24,
     "metadata": {},
     "output_type": "execute_result"
    }
   ],
   "source": [
    "df['Final label'].value_counts()/len(df)"
   ]
  },
  {
   "cell_type": "code",
   "execution_count": 25,
   "metadata": {
    "ExecuteTime": {
     "end_time": "2021-04-17T10:13:10.711720Z",
     "start_time": "2021-04-17T10:13:10.271083Z"
    }
   },
   "outputs": [
    {
     "name": "stdout",
     "output_type": "stream",
     "text": [
      "0.9353680430879713\n",
      "              precision    recall  f1-score   support\n",
      "\n",
      "         neg       1.00      0.74      0.85       137\n",
      "         pos       0.92      1.00      0.96       420\n",
      "\n",
      "    accuracy                           0.94       557\n",
      "   macro avg       0.96      0.87      0.90       557\n",
      "weighted avg       0.94      0.94      0.93       557\n",
      "\n",
      "[[101  36]\n",
      " [  0 420]]\n"
     ]
    }
   ],
   "source": [
    "print(accuracy_score(df['Final label'],df['vader_label']))\n",
    "print(classification_report(df['Final label'],df['vader_label']))\n",
    "print(confusion_matrix(df['Final label'],df['vader_label']))"
   ]
  },
  {
   "cell_type": "markdown",
   "metadata": {},
   "source": [
    "Nevertheless vader has helped us filter misclassified reviews and improve our labels with some manual intervention.\n",
    "More importantly it has provided us with a quantitative measure which can be leveraged for further classification."
   ]
  },
  {
   "cell_type": "code",
   "execution_count": 27,
   "metadata": {
    "ExecuteTime": {
     "end_time": "2021-04-17T10:13:46.746339Z",
     "start_time": "2021-04-17T10:13:46.718311Z"
    }
   },
   "outputs": [
    {
     "ename": "AttributeError",
     "evalue": "module 'seaborn' has no attribute 'histplot'",
     "output_type": "error",
     "traceback": [
      "\u001b[1;31m---------------------------------------------------------------------------\u001b[0m",
      "\u001b[1;31mAttributeError\u001b[0m                            Traceback (most recent call last)",
      "\u001b[1;32m<ipython-input-27-9d92709ad712>\u001b[0m in \u001b[0;36m<module>\u001b[1;34m\u001b[0m\n\u001b[1;32m----> 1\u001b[1;33m \u001b[0msns\u001b[0m\u001b[1;33m.\u001b[0m\u001b[0mhistplot\u001b[0m\u001b[1;33m(\u001b[0m\u001b[0mdata\u001b[0m\u001b[1;33m=\u001b[0m\u001b[0mdf\u001b[0m\u001b[1;33m,\u001b[0m\u001b[0mx\u001b[0m\u001b[1;33m=\u001b[0m\u001b[1;34m'compound_score'\u001b[0m\u001b[1;33m,\u001b[0m\u001b[0mbins\u001b[0m\u001b[1;33m=\u001b[0m\u001b[1;36m40\u001b[0m\u001b[1;33m)\u001b[0m\u001b[1;33m;\u001b[0m\u001b[1;33m\u001b[0m\u001b[1;33m\u001b[0m\u001b[0m\n\u001b[0m\u001b[0;32m      2\u001b[0m \u001b[1;31m# Most positive people are extremely happy with the product\u001b[0m\u001b[1;33m\u001b[0m\u001b[1;33m\u001b[0m\u001b[1;33m\u001b[0m\u001b[0m\n\u001b[0;32m      3\u001b[0m \u001b[1;31m# Comparatively some are extremely disappointed\u001b[0m\u001b[1;33m\u001b[0m\u001b[1;33m\u001b[0m\u001b[1;33m\u001b[0m\u001b[0m\n",
      "\u001b[1;31mAttributeError\u001b[0m: module 'seaborn' has no attribute 'histplot'"
     ]
    }
   ],
   "source": [
    "sns.histplot(data=df,x='compound_score',bins=40);\n",
    "# Most positive people are extremely happy with the product\n",
    "# Comparatively some are extremely disappointed"
   ]
  },
  {
   "cell_type": "code",
   "execution_count": 25,
   "metadata": {},
   "outputs": [],
   "source": [
    "# Segregate positive and negative reviews using final labels \n",
    "# Plot wordcloud for each \n",
    "# Draw inferences w.r.t challenges and features"
   ]
  },
  {
   "cell_type": "code",
   "execution_count": 28,
   "metadata": {
    "ExecuteTime": {
     "end_time": "2021-04-17T10:13:52.120027Z",
     "start_time": "2021-04-17T10:13:52.107028Z"
    }
   },
   "outputs": [],
   "source": [
    "def display_wordcloud(text,bg_color):\n",
    "    #for word in []:\n",
    "    #    STOPWORDS.add(word)\n",
    "    path_to_font = 'C:/Users/priya/Downloads/bon_foyage/BonFoyageDemo.otf'\n",
    "    #path_to_image = 'C:/Users/priya/OneDrive/Desktop/NLP_Project/IMG.png'\n",
    "    # mask = np.array(Image.open(path_to_image))\n",
    "    plt.figure(figsize=(10, 10))\n",
    "    wordcloud = WordCloud(stopwords=STOPWORDS, font_path=path_to_font,\n",
    "               #mask=mask,\n",
    "               background_color=bg_color,\n",
    "               max_words=50, max_font_size=256,\n",
    "               random_state=42, width=1000,\n",
    "               height=1000).generate(text)\n",
    "    plt.imshow(wordcloud,interpolation=\"bilinear\") # display image\n",
    "    plt.axis(\"off\"); #No axis details"
   ]
  },
  {
   "cell_type": "code",
   "execution_count": 29,
   "metadata": {
    "ExecuteTime": {
     "end_time": "2021-04-17T10:13:54.321370Z",
     "start_time": "2021-04-17T10:13:54.302326Z"
    }
   },
   "outputs": [],
   "source": [
    "def clean_text(review):\n",
    "    # remove numbers\n",
    "    review = re.sub('[\\d]+','',review) \n",
    "    # remove emoticon\n",
    "    review = review.encode('ascii', 'ignore').decode('ascii') \n",
    "    # remove punctuation\n",
    "    return \"\".join([x for x in review if x not in string.punctuation])    "
   ]
  },
  {
   "cell_type": "code",
   "execution_count": 30,
   "metadata": {
    "ExecuteTime": {
     "end_time": "2021-04-17T10:13:56.142646Z",
     "start_time": "2021-04-17T10:13:56.057436Z"
    }
   },
   "outputs": [
    {
     "data": {
      "text/html": [
       "<div>\n",
       "<style scoped>\n",
       "    .dataframe tbody tr th:only-of-type {\n",
       "        vertical-align: middle;\n",
       "    }\n",
       "\n",
       "    .dataframe tbody tr th {\n",
       "        vertical-align: top;\n",
       "    }\n",
       "\n",
       "    .dataframe thead th {\n",
       "        text-align: right;\n",
       "    }\n",
       "</style>\n",
       "<table border=\"1\" class=\"dataframe\">\n",
       "  <thead>\n",
       "    <tr style=\"text-align: right;\">\n",
       "      <th></th>\n",
       "      <th>rating</th>\n",
       "      <th>review</th>\n",
       "      <th>rating_label</th>\n",
       "      <th>compound_score</th>\n",
       "      <th>vader_label</th>\n",
       "      <th>Final label</th>\n",
       "      <th>cleaned review</th>\n",
       "    </tr>\n",
       "  </thead>\n",
       "  <tbody>\n",
       "    <tr>\n",
       "      <th>0</th>\n",
       "      <td>5.0</td>\n",
       "      <td>IT IS MORE THAN VALUE FOR MONEY HAPPY WITH THE...</td>\n",
       "      <td>pos</td>\n",
       "      <td>0.9813</td>\n",
       "      <td>pos</td>\n",
       "      <td>pos</td>\n",
       "      <td>IT IS MORE THAN VALUE FOR MONEY HAPPY WITH THE...</td>\n",
       "    </tr>\n",
       "    <tr>\n",
       "      <th>1</th>\n",
       "      <td>1.0</td>\n",
       "      <td>Earlier I gave a positive review, but after us...</td>\n",
       "      <td>neg</td>\n",
       "      <td>0.7941</td>\n",
       "      <td>pos</td>\n",
       "      <td>neg</td>\n",
       "      <td>Earlier I gave a positive review but after usi...</td>\n",
       "    </tr>\n",
       "    <tr>\n",
       "      <th>2</th>\n",
       "      <td>5.0</td>\n",
       "      <td>Inalsa Air Fryer...this is awesome product ......</td>\n",
       "      <td>pos</td>\n",
       "      <td>0.6249</td>\n",
       "      <td>pos</td>\n",
       "      <td>pos</td>\n",
       "      <td>Inalsa Air Fryerthis is awesome product Value ...</td>\n",
       "    </tr>\n",
       "    <tr>\n",
       "      <th>3</th>\n",
       "      <td>2.0</td>\n",
       "      <td>I bought this in the prime day sale on 15th Ju...</td>\n",
       "      <td>neg</td>\n",
       "      <td>-0.6808</td>\n",
       "      <td>neg</td>\n",
       "      <td>neg</td>\n",
       "      <td>I bought this in the prime day sale on th July...</td>\n",
       "    </tr>\n",
       "    <tr>\n",
       "      <th>4</th>\n",
       "      <td>1.0</td>\n",
       "      <td>Product has manufacturing defect as the right ...</td>\n",
       "      <td>neg</td>\n",
       "      <td>-0.8519</td>\n",
       "      <td>neg</td>\n",
       "      <td>neg</td>\n",
       "      <td>Product has manufacturing defect as the right ...</td>\n",
       "    </tr>\n",
       "  </tbody>\n",
       "</table>\n",
       "</div>"
      ],
      "text/plain": [
       "   rating                                             review rating_label  \\\n",
       "0     5.0  IT IS MORE THAN VALUE FOR MONEY HAPPY WITH THE...          pos   \n",
       "1     1.0  Earlier I gave a positive review, but after us...          neg   \n",
       "2     5.0  Inalsa Air Fryer...this is awesome product ......          pos   \n",
       "3     2.0  I bought this in the prime day sale on 15th Ju...          neg   \n",
       "4     1.0  Product has manufacturing defect as the right ...          neg   \n",
       "\n",
       "   compound_score vader_label Final label  \\\n",
       "0          0.9813         pos         pos   \n",
       "1          0.7941         pos         neg   \n",
       "2          0.6249         pos         pos   \n",
       "3         -0.6808         neg         neg   \n",
       "4         -0.8519         neg         neg   \n",
       "\n",
       "                                      cleaned review  \n",
       "0  IT IS MORE THAN VALUE FOR MONEY HAPPY WITH THE...  \n",
       "1  Earlier I gave a positive review but after usi...  \n",
       "2  Inalsa Air Fryerthis is awesome product Value ...  \n",
       "3  I bought this in the prime day sale on th July...  \n",
       "4  Product has manufacturing defect as the right ...  "
      ]
     },
     "execution_count": 30,
     "metadata": {},
     "output_type": "execute_result"
    }
   ],
   "source": [
    "df['cleaned review'] = df['review'].apply(lambda x:clean_text(x))\n",
    "df.head()"
   ]
  },
  {
   "cell_type": "code",
   "execution_count": 31,
   "metadata": {
    "ExecuteTime": {
     "end_time": "2021-04-17T10:13:57.960163Z",
     "start_time": "2021-04-17T10:13:57.236425Z"
    }
   },
   "outputs": [
    {
     "ename": "OSError",
     "evalue": "cannot open resource",
     "output_type": "error",
     "traceback": [
      "\u001b[1;31m---------------------------------------------------------------------------\u001b[0m",
      "\u001b[1;31mOSError\u001b[0m                                   Traceback (most recent call last)",
      "\u001b[1;32m<ipython-input-31-a042ab01efb4>\u001b[0m in \u001b[0;36m<module>\u001b[1;34m\u001b[0m\n\u001b[0;32m      1\u001b[0m \u001b[0mpos_reviews\u001b[0m \u001b[1;33m=\u001b[0m \u001b[0mdf\u001b[0m\u001b[1;33m[\u001b[0m\u001b[0mdf\u001b[0m\u001b[1;33m[\u001b[0m\u001b[1;34m'Final label'\u001b[0m\u001b[1;33m]\u001b[0m\u001b[1;33m==\u001b[0m\u001b[1;34m'pos'\u001b[0m\u001b[1;33m]\u001b[0m\u001b[1;33m[\u001b[0m\u001b[1;34m'cleaned review'\u001b[0m\u001b[1;33m]\u001b[0m\u001b[1;33m.\u001b[0m\u001b[0mstr\u001b[0m\u001b[1;33m.\u001b[0m\u001b[0mcat\u001b[0m\u001b[1;33m(\u001b[0m\u001b[0msep\u001b[0m\u001b[1;33m=\u001b[0m\u001b[1;34m', '\u001b[0m\u001b[1;33m)\u001b[0m\u001b[1;33m\u001b[0m\u001b[1;33m\u001b[0m\u001b[0m\n\u001b[0;32m      2\u001b[0m \u001b[0mpos_reviews\u001b[0m \u001b[1;33m=\u001b[0m \u001b[1;34m''\u001b[0m\u001b[1;33m.\u001b[0m\u001b[0mjoin\u001b[0m\u001b[1;33m(\u001b[0m\u001b[0mpos_reviews\u001b[0m\u001b[1;33m)\u001b[0m\u001b[1;33m\u001b[0m\u001b[1;33m\u001b[0m\u001b[0m\n\u001b[1;32m----> 3\u001b[1;33m \u001b[0mdisplay_wordcloud\u001b[0m\u001b[1;33m(\u001b[0m\u001b[0mpos_reviews\u001b[0m\u001b[1;33m,\u001b[0m\u001b[1;34m'white'\u001b[0m\u001b[1;33m)\u001b[0m \u001b[1;31m# '#f5faf8'\u001b[0m\u001b[1;33m\u001b[0m\u001b[1;33m\u001b[0m\u001b[0m\n\u001b[0m",
      "\u001b[1;32m<ipython-input-28-4639a95c3e6f>\u001b[0m in \u001b[0;36mdisplay_wordcloud\u001b[1;34m(text, bg_color)\u001b[0m\n\u001b[0;32m      6\u001b[0m     \u001b[1;31m# mask = np.array(Image.open(path_to_image))\u001b[0m\u001b[1;33m\u001b[0m\u001b[1;33m\u001b[0m\u001b[1;33m\u001b[0m\u001b[0m\n\u001b[0;32m      7\u001b[0m     \u001b[0mplt\u001b[0m\u001b[1;33m.\u001b[0m\u001b[0mfigure\u001b[0m\u001b[1;33m(\u001b[0m\u001b[0mfigsize\u001b[0m\u001b[1;33m=\u001b[0m\u001b[1;33m(\u001b[0m\u001b[1;36m10\u001b[0m\u001b[1;33m,\u001b[0m \u001b[1;36m10\u001b[0m\u001b[1;33m)\u001b[0m\u001b[1;33m)\u001b[0m\u001b[1;33m\u001b[0m\u001b[1;33m\u001b[0m\u001b[0m\n\u001b[1;32m----> 8\u001b[1;33m     wordcloud = WordCloud(stopwords=STOPWORDS, font_path=path_to_font,\n\u001b[0m\u001b[0;32m      9\u001b[0m                \u001b[1;31m#mask=mask,\u001b[0m\u001b[1;33m\u001b[0m\u001b[1;33m\u001b[0m\u001b[1;33m\u001b[0m\u001b[0m\n\u001b[0;32m     10\u001b[0m                \u001b[0mbackground_color\u001b[0m\u001b[1;33m=\u001b[0m\u001b[0mbg_color\u001b[0m\u001b[1;33m,\u001b[0m\u001b[1;33m\u001b[0m\u001b[1;33m\u001b[0m\u001b[0m\n",
      "\u001b[1;32mC:\\python_install\\lib\\site-packages\\wordcloud\\wordcloud.py\u001b[0m in \u001b[0;36mgenerate\u001b[1;34m(self, text)\u001b[0m\n\u001b[0;32m    630\u001b[0m         \u001b[0mself\u001b[0m\u001b[1;33m\u001b[0m\u001b[1;33m\u001b[0m\u001b[0m\n\u001b[0;32m    631\u001b[0m         \"\"\"\n\u001b[1;32m--> 632\u001b[1;33m         \u001b[1;32mreturn\u001b[0m \u001b[0mself\u001b[0m\u001b[1;33m.\u001b[0m\u001b[0mgenerate_from_text\u001b[0m\u001b[1;33m(\u001b[0m\u001b[0mtext\u001b[0m\u001b[1;33m)\u001b[0m\u001b[1;33m\u001b[0m\u001b[1;33m\u001b[0m\u001b[0m\n\u001b[0m\u001b[0;32m    633\u001b[0m \u001b[1;33m\u001b[0m\u001b[0m\n\u001b[0;32m    634\u001b[0m     \u001b[1;32mdef\u001b[0m \u001b[0m_check_generated\u001b[0m\u001b[1;33m(\u001b[0m\u001b[0mself\u001b[0m\u001b[1;33m)\u001b[0m\u001b[1;33m:\u001b[0m\u001b[1;33m\u001b[0m\u001b[1;33m\u001b[0m\u001b[0m\n",
      "\u001b[1;32mC:\\python_install\\lib\\site-packages\\wordcloud\\wordcloud.py\u001b[0m in \u001b[0;36mgenerate_from_text\u001b[1;34m(self, text)\u001b[0m\n\u001b[0;32m    612\u001b[0m         \"\"\"\n\u001b[0;32m    613\u001b[0m         \u001b[0mwords\u001b[0m \u001b[1;33m=\u001b[0m \u001b[0mself\u001b[0m\u001b[1;33m.\u001b[0m\u001b[0mprocess_text\u001b[0m\u001b[1;33m(\u001b[0m\u001b[0mtext\u001b[0m\u001b[1;33m)\u001b[0m\u001b[1;33m\u001b[0m\u001b[1;33m\u001b[0m\u001b[0m\n\u001b[1;32m--> 614\u001b[1;33m         \u001b[0mself\u001b[0m\u001b[1;33m.\u001b[0m\u001b[0mgenerate_from_frequencies\u001b[0m\u001b[1;33m(\u001b[0m\u001b[0mwords\u001b[0m\u001b[1;33m)\u001b[0m\u001b[1;33m\u001b[0m\u001b[1;33m\u001b[0m\u001b[0m\n\u001b[0m\u001b[0;32m    615\u001b[0m         \u001b[1;32mreturn\u001b[0m \u001b[0mself\u001b[0m\u001b[1;33m\u001b[0m\u001b[1;33m\u001b[0m\u001b[0m\n\u001b[0;32m    616\u001b[0m \u001b[1;33m\u001b[0m\u001b[0m\n",
      "\u001b[1;32mC:\\python_install\\lib\\site-packages\\wordcloud\\wordcloud.py\u001b[0m in \u001b[0;36mgenerate_from_frequencies\u001b[1;34m(self, frequencies, max_font_size)\u001b[0m\n\u001b[0;32m    494\u001b[0m             \u001b[1;32mwhile\u001b[0m \u001b[1;32mTrue\u001b[0m\u001b[1;33m:\u001b[0m\u001b[1;33m\u001b[0m\u001b[1;33m\u001b[0m\u001b[0m\n\u001b[0;32m    495\u001b[0m                 \u001b[1;31m# try to find a position\u001b[0m\u001b[1;33m\u001b[0m\u001b[1;33m\u001b[0m\u001b[1;33m\u001b[0m\u001b[0m\n\u001b[1;32m--> 496\u001b[1;33m                 \u001b[0mfont\u001b[0m \u001b[1;33m=\u001b[0m \u001b[0mImageFont\u001b[0m\u001b[1;33m.\u001b[0m\u001b[0mtruetype\u001b[0m\u001b[1;33m(\u001b[0m\u001b[0mself\u001b[0m\u001b[1;33m.\u001b[0m\u001b[0mfont_path\u001b[0m\u001b[1;33m,\u001b[0m \u001b[0mfont_size\u001b[0m\u001b[1;33m)\u001b[0m\u001b[1;33m\u001b[0m\u001b[1;33m\u001b[0m\u001b[0m\n\u001b[0m\u001b[0;32m    497\u001b[0m                 \u001b[1;31m# transpose font optionally\u001b[0m\u001b[1;33m\u001b[0m\u001b[1;33m\u001b[0m\u001b[1;33m\u001b[0m\u001b[0m\n\u001b[0;32m    498\u001b[0m                 transposed_font = ImageFont.TransposedFont(\n",
      "\u001b[1;32mC:\\python_install\\lib\\site-packages\\PIL\\ImageFont.py\u001b[0m in \u001b[0;36mtruetype\u001b[1;34m(font, size, index, encoding, layout_engine)\u001b[0m\n\u001b[0;32m    653\u001b[0m \u001b[1;33m\u001b[0m\u001b[0m\n\u001b[0;32m    654\u001b[0m     \u001b[1;32mtry\u001b[0m\u001b[1;33m:\u001b[0m\u001b[1;33m\u001b[0m\u001b[1;33m\u001b[0m\u001b[0m\n\u001b[1;32m--> 655\u001b[1;33m         \u001b[1;32mreturn\u001b[0m \u001b[0mfreetype\u001b[0m\u001b[1;33m(\u001b[0m\u001b[0mfont\u001b[0m\u001b[1;33m)\u001b[0m\u001b[1;33m\u001b[0m\u001b[1;33m\u001b[0m\u001b[0m\n\u001b[0m\u001b[0;32m    656\u001b[0m     \u001b[1;32mexcept\u001b[0m \u001b[0mOSError\u001b[0m\u001b[1;33m:\u001b[0m\u001b[1;33m\u001b[0m\u001b[1;33m\u001b[0m\u001b[0m\n\u001b[0;32m    657\u001b[0m         \u001b[1;32mif\u001b[0m \u001b[1;32mnot\u001b[0m \u001b[0misPath\u001b[0m\u001b[1;33m(\u001b[0m\u001b[0mfont\u001b[0m\u001b[1;33m)\u001b[0m\u001b[1;33m:\u001b[0m\u001b[1;33m\u001b[0m\u001b[1;33m\u001b[0m\u001b[0m\n",
      "\u001b[1;32mC:\\python_install\\lib\\site-packages\\PIL\\ImageFont.py\u001b[0m in \u001b[0;36mfreetype\u001b[1;34m(font)\u001b[0m\n\u001b[0;32m    650\u001b[0m \u001b[1;33m\u001b[0m\u001b[0m\n\u001b[0;32m    651\u001b[0m     \u001b[1;32mdef\u001b[0m \u001b[0mfreetype\u001b[0m\u001b[1;33m(\u001b[0m\u001b[0mfont\u001b[0m\u001b[1;33m)\u001b[0m\u001b[1;33m:\u001b[0m\u001b[1;33m\u001b[0m\u001b[1;33m\u001b[0m\u001b[0m\n\u001b[1;32m--> 652\u001b[1;33m         \u001b[1;32mreturn\u001b[0m \u001b[0mFreeTypeFont\u001b[0m\u001b[1;33m(\u001b[0m\u001b[0mfont\u001b[0m\u001b[1;33m,\u001b[0m \u001b[0msize\u001b[0m\u001b[1;33m,\u001b[0m \u001b[0mindex\u001b[0m\u001b[1;33m,\u001b[0m \u001b[0mencoding\u001b[0m\u001b[1;33m,\u001b[0m \u001b[0mlayout_engine\u001b[0m\u001b[1;33m)\u001b[0m\u001b[1;33m\u001b[0m\u001b[1;33m\u001b[0m\u001b[0m\n\u001b[0m\u001b[0;32m    653\u001b[0m \u001b[1;33m\u001b[0m\u001b[0m\n\u001b[0;32m    654\u001b[0m     \u001b[1;32mtry\u001b[0m\u001b[1;33m:\u001b[0m\u001b[1;33m\u001b[0m\u001b[1;33m\u001b[0m\u001b[0m\n",
      "\u001b[1;32mC:\\python_install\\lib\\site-packages\\PIL\\ImageFont.py\u001b[0m in \u001b[0;36m__init__\u001b[1;34m(self, font, size, index, encoding, layout_engine)\u001b[0m\n\u001b[0;32m    191\u001b[0m                         \u001b[0mload_from_bytes\u001b[0m\u001b[1;33m(\u001b[0m\u001b[0mf\u001b[0m\u001b[1;33m)\u001b[0m\u001b[1;33m\u001b[0m\u001b[1;33m\u001b[0m\u001b[0m\n\u001b[0;32m    192\u001b[0m                     \u001b[1;32mreturn\u001b[0m\u001b[1;33m\u001b[0m\u001b[1;33m\u001b[0m\u001b[0m\n\u001b[1;32m--> 193\u001b[1;33m             self.font = core.getfont(\n\u001b[0m\u001b[0;32m    194\u001b[0m                 \u001b[0mfont\u001b[0m\u001b[1;33m,\u001b[0m \u001b[0msize\u001b[0m\u001b[1;33m,\u001b[0m \u001b[0mindex\u001b[0m\u001b[1;33m,\u001b[0m \u001b[0mencoding\u001b[0m\u001b[1;33m,\u001b[0m \u001b[0mlayout_engine\u001b[0m\u001b[1;33m=\u001b[0m\u001b[0mlayout_engine\u001b[0m\u001b[1;33m\u001b[0m\u001b[1;33m\u001b[0m\u001b[0m\n\u001b[0;32m    195\u001b[0m             )\n",
      "\u001b[1;31mOSError\u001b[0m: cannot open resource"
     ]
    },
    {
     "data": {
      "text/plain": [
       "<Figure size 720x720 with 0 Axes>"
      ]
     },
     "metadata": {},
     "output_type": "display_data"
    }
   ],
   "source": [
    "pos_reviews = df[df['Final label']=='pos']['cleaned review'].str.cat(sep=', ')\n",
    "pos_reviews = ''.join(pos_reviews)\n",
    "display_wordcloud(pos_reviews,'white') # '#f5faf8'"
   ]
  },
  {
   "cell_type": "code",
   "execution_count": 32,
   "metadata": {
    "ExecuteTime": {
     "end_time": "2021-04-17T10:13:58.383660Z",
     "start_time": "2021-04-17T10:13:58.267343Z"
    },
    "scrolled": false
   },
   "outputs": [
    {
     "ename": "OSError",
     "evalue": "cannot open resource",
     "output_type": "error",
     "traceback": [
      "\u001b[1;31m---------------------------------------------------------------------------\u001b[0m",
      "\u001b[1;31mOSError\u001b[0m                                   Traceback (most recent call last)",
      "\u001b[1;32m<ipython-input-32-54cefd0bc29f>\u001b[0m in \u001b[0;36m<module>\u001b[1;34m\u001b[0m\n\u001b[0;32m      1\u001b[0m \u001b[0mneg_reviews\u001b[0m \u001b[1;33m=\u001b[0m \u001b[0mdf\u001b[0m\u001b[1;33m[\u001b[0m\u001b[0mdf\u001b[0m\u001b[1;33m[\u001b[0m\u001b[1;34m'Final label'\u001b[0m\u001b[1;33m]\u001b[0m\u001b[1;33m==\u001b[0m\u001b[1;34m'neg'\u001b[0m\u001b[1;33m]\u001b[0m\u001b[1;33m[\u001b[0m\u001b[1;34m'cleaned review'\u001b[0m\u001b[1;33m]\u001b[0m\u001b[1;33m.\u001b[0m\u001b[0mstr\u001b[0m\u001b[1;33m.\u001b[0m\u001b[0mcat\u001b[0m\u001b[1;33m(\u001b[0m\u001b[0msep\u001b[0m\u001b[1;33m=\u001b[0m\u001b[1;34m', '\u001b[0m\u001b[1;33m)\u001b[0m\u001b[1;33m\u001b[0m\u001b[1;33m\u001b[0m\u001b[0m\n\u001b[0;32m      2\u001b[0m \u001b[0mneg_reviews\u001b[0m \u001b[1;33m=\u001b[0m \u001b[1;34m''\u001b[0m\u001b[1;33m.\u001b[0m\u001b[0mjoin\u001b[0m\u001b[1;33m(\u001b[0m\u001b[0mneg_reviews\u001b[0m\u001b[1;33m)\u001b[0m\u001b[1;33m\u001b[0m\u001b[1;33m\u001b[0m\u001b[0m\n\u001b[1;32m----> 3\u001b[1;33m \u001b[0mdisplay_wordcloud\u001b[0m\u001b[1;33m(\u001b[0m\u001b[0mneg_reviews\u001b[0m\u001b[1;33m,\u001b[0m\u001b[1;34m'black'\u001b[0m\u001b[1;33m)\u001b[0m \u001b[1;31m# '#fcf7f8'\u001b[0m\u001b[1;33m\u001b[0m\u001b[1;33m\u001b[0m\u001b[0m\n\u001b[0m",
      "\u001b[1;32m<ipython-input-28-4639a95c3e6f>\u001b[0m in \u001b[0;36mdisplay_wordcloud\u001b[1;34m(text, bg_color)\u001b[0m\n\u001b[0;32m      6\u001b[0m     \u001b[1;31m# mask = np.array(Image.open(path_to_image))\u001b[0m\u001b[1;33m\u001b[0m\u001b[1;33m\u001b[0m\u001b[1;33m\u001b[0m\u001b[0m\n\u001b[0;32m      7\u001b[0m     \u001b[0mplt\u001b[0m\u001b[1;33m.\u001b[0m\u001b[0mfigure\u001b[0m\u001b[1;33m(\u001b[0m\u001b[0mfigsize\u001b[0m\u001b[1;33m=\u001b[0m\u001b[1;33m(\u001b[0m\u001b[1;36m10\u001b[0m\u001b[1;33m,\u001b[0m \u001b[1;36m10\u001b[0m\u001b[1;33m)\u001b[0m\u001b[1;33m)\u001b[0m\u001b[1;33m\u001b[0m\u001b[1;33m\u001b[0m\u001b[0m\n\u001b[1;32m----> 8\u001b[1;33m     wordcloud = WordCloud(stopwords=STOPWORDS, font_path=path_to_font,\n\u001b[0m\u001b[0;32m      9\u001b[0m                \u001b[1;31m#mask=mask,\u001b[0m\u001b[1;33m\u001b[0m\u001b[1;33m\u001b[0m\u001b[1;33m\u001b[0m\u001b[0m\n\u001b[0;32m     10\u001b[0m                \u001b[0mbackground_color\u001b[0m\u001b[1;33m=\u001b[0m\u001b[0mbg_color\u001b[0m\u001b[1;33m,\u001b[0m\u001b[1;33m\u001b[0m\u001b[1;33m\u001b[0m\u001b[0m\n",
      "\u001b[1;32mC:\\python_install\\lib\\site-packages\\wordcloud\\wordcloud.py\u001b[0m in \u001b[0;36mgenerate\u001b[1;34m(self, text)\u001b[0m\n\u001b[0;32m    630\u001b[0m         \u001b[0mself\u001b[0m\u001b[1;33m\u001b[0m\u001b[1;33m\u001b[0m\u001b[0m\n\u001b[0;32m    631\u001b[0m         \"\"\"\n\u001b[1;32m--> 632\u001b[1;33m         \u001b[1;32mreturn\u001b[0m \u001b[0mself\u001b[0m\u001b[1;33m.\u001b[0m\u001b[0mgenerate_from_text\u001b[0m\u001b[1;33m(\u001b[0m\u001b[0mtext\u001b[0m\u001b[1;33m)\u001b[0m\u001b[1;33m\u001b[0m\u001b[1;33m\u001b[0m\u001b[0m\n\u001b[0m\u001b[0;32m    633\u001b[0m \u001b[1;33m\u001b[0m\u001b[0m\n\u001b[0;32m    634\u001b[0m     \u001b[1;32mdef\u001b[0m \u001b[0m_check_generated\u001b[0m\u001b[1;33m(\u001b[0m\u001b[0mself\u001b[0m\u001b[1;33m)\u001b[0m\u001b[1;33m:\u001b[0m\u001b[1;33m\u001b[0m\u001b[1;33m\u001b[0m\u001b[0m\n",
      "\u001b[1;32mC:\\python_install\\lib\\site-packages\\wordcloud\\wordcloud.py\u001b[0m in \u001b[0;36mgenerate_from_text\u001b[1;34m(self, text)\u001b[0m\n\u001b[0;32m    612\u001b[0m         \"\"\"\n\u001b[0;32m    613\u001b[0m         \u001b[0mwords\u001b[0m \u001b[1;33m=\u001b[0m \u001b[0mself\u001b[0m\u001b[1;33m.\u001b[0m\u001b[0mprocess_text\u001b[0m\u001b[1;33m(\u001b[0m\u001b[0mtext\u001b[0m\u001b[1;33m)\u001b[0m\u001b[1;33m\u001b[0m\u001b[1;33m\u001b[0m\u001b[0m\n\u001b[1;32m--> 614\u001b[1;33m         \u001b[0mself\u001b[0m\u001b[1;33m.\u001b[0m\u001b[0mgenerate_from_frequencies\u001b[0m\u001b[1;33m(\u001b[0m\u001b[0mwords\u001b[0m\u001b[1;33m)\u001b[0m\u001b[1;33m\u001b[0m\u001b[1;33m\u001b[0m\u001b[0m\n\u001b[0m\u001b[0;32m    615\u001b[0m         \u001b[1;32mreturn\u001b[0m \u001b[0mself\u001b[0m\u001b[1;33m\u001b[0m\u001b[1;33m\u001b[0m\u001b[0m\n\u001b[0;32m    616\u001b[0m \u001b[1;33m\u001b[0m\u001b[0m\n",
      "\u001b[1;32mC:\\python_install\\lib\\site-packages\\wordcloud\\wordcloud.py\u001b[0m in \u001b[0;36mgenerate_from_frequencies\u001b[1;34m(self, frequencies, max_font_size)\u001b[0m\n\u001b[0;32m    494\u001b[0m             \u001b[1;32mwhile\u001b[0m \u001b[1;32mTrue\u001b[0m\u001b[1;33m:\u001b[0m\u001b[1;33m\u001b[0m\u001b[1;33m\u001b[0m\u001b[0m\n\u001b[0;32m    495\u001b[0m                 \u001b[1;31m# try to find a position\u001b[0m\u001b[1;33m\u001b[0m\u001b[1;33m\u001b[0m\u001b[1;33m\u001b[0m\u001b[0m\n\u001b[1;32m--> 496\u001b[1;33m                 \u001b[0mfont\u001b[0m \u001b[1;33m=\u001b[0m \u001b[0mImageFont\u001b[0m\u001b[1;33m.\u001b[0m\u001b[0mtruetype\u001b[0m\u001b[1;33m(\u001b[0m\u001b[0mself\u001b[0m\u001b[1;33m.\u001b[0m\u001b[0mfont_path\u001b[0m\u001b[1;33m,\u001b[0m \u001b[0mfont_size\u001b[0m\u001b[1;33m)\u001b[0m\u001b[1;33m\u001b[0m\u001b[1;33m\u001b[0m\u001b[0m\n\u001b[0m\u001b[0;32m    497\u001b[0m                 \u001b[1;31m# transpose font optionally\u001b[0m\u001b[1;33m\u001b[0m\u001b[1;33m\u001b[0m\u001b[1;33m\u001b[0m\u001b[0m\n\u001b[0;32m    498\u001b[0m                 transposed_font = ImageFont.TransposedFont(\n",
      "\u001b[1;32mC:\\python_install\\lib\\site-packages\\PIL\\ImageFont.py\u001b[0m in \u001b[0;36mtruetype\u001b[1;34m(font, size, index, encoding, layout_engine)\u001b[0m\n\u001b[0;32m    653\u001b[0m \u001b[1;33m\u001b[0m\u001b[0m\n\u001b[0;32m    654\u001b[0m     \u001b[1;32mtry\u001b[0m\u001b[1;33m:\u001b[0m\u001b[1;33m\u001b[0m\u001b[1;33m\u001b[0m\u001b[0m\n\u001b[1;32m--> 655\u001b[1;33m         \u001b[1;32mreturn\u001b[0m \u001b[0mfreetype\u001b[0m\u001b[1;33m(\u001b[0m\u001b[0mfont\u001b[0m\u001b[1;33m)\u001b[0m\u001b[1;33m\u001b[0m\u001b[1;33m\u001b[0m\u001b[0m\n\u001b[0m\u001b[0;32m    656\u001b[0m     \u001b[1;32mexcept\u001b[0m \u001b[0mOSError\u001b[0m\u001b[1;33m:\u001b[0m\u001b[1;33m\u001b[0m\u001b[1;33m\u001b[0m\u001b[0m\n\u001b[0;32m    657\u001b[0m         \u001b[1;32mif\u001b[0m \u001b[1;32mnot\u001b[0m \u001b[0misPath\u001b[0m\u001b[1;33m(\u001b[0m\u001b[0mfont\u001b[0m\u001b[1;33m)\u001b[0m\u001b[1;33m:\u001b[0m\u001b[1;33m\u001b[0m\u001b[1;33m\u001b[0m\u001b[0m\n",
      "\u001b[1;32mC:\\python_install\\lib\\site-packages\\PIL\\ImageFont.py\u001b[0m in \u001b[0;36mfreetype\u001b[1;34m(font)\u001b[0m\n\u001b[0;32m    650\u001b[0m \u001b[1;33m\u001b[0m\u001b[0m\n\u001b[0;32m    651\u001b[0m     \u001b[1;32mdef\u001b[0m \u001b[0mfreetype\u001b[0m\u001b[1;33m(\u001b[0m\u001b[0mfont\u001b[0m\u001b[1;33m)\u001b[0m\u001b[1;33m:\u001b[0m\u001b[1;33m\u001b[0m\u001b[1;33m\u001b[0m\u001b[0m\n\u001b[1;32m--> 652\u001b[1;33m         \u001b[1;32mreturn\u001b[0m \u001b[0mFreeTypeFont\u001b[0m\u001b[1;33m(\u001b[0m\u001b[0mfont\u001b[0m\u001b[1;33m,\u001b[0m \u001b[0msize\u001b[0m\u001b[1;33m,\u001b[0m \u001b[0mindex\u001b[0m\u001b[1;33m,\u001b[0m \u001b[0mencoding\u001b[0m\u001b[1;33m,\u001b[0m \u001b[0mlayout_engine\u001b[0m\u001b[1;33m)\u001b[0m\u001b[1;33m\u001b[0m\u001b[1;33m\u001b[0m\u001b[0m\n\u001b[0m\u001b[0;32m    653\u001b[0m \u001b[1;33m\u001b[0m\u001b[0m\n\u001b[0;32m    654\u001b[0m     \u001b[1;32mtry\u001b[0m\u001b[1;33m:\u001b[0m\u001b[1;33m\u001b[0m\u001b[1;33m\u001b[0m\u001b[0m\n",
      "\u001b[1;32mC:\\python_install\\lib\\site-packages\\PIL\\ImageFont.py\u001b[0m in \u001b[0;36m__init__\u001b[1;34m(self, font, size, index, encoding, layout_engine)\u001b[0m\n\u001b[0;32m    191\u001b[0m                         \u001b[0mload_from_bytes\u001b[0m\u001b[1;33m(\u001b[0m\u001b[0mf\u001b[0m\u001b[1;33m)\u001b[0m\u001b[1;33m\u001b[0m\u001b[1;33m\u001b[0m\u001b[0m\n\u001b[0;32m    192\u001b[0m                     \u001b[1;32mreturn\u001b[0m\u001b[1;33m\u001b[0m\u001b[1;33m\u001b[0m\u001b[0m\n\u001b[1;32m--> 193\u001b[1;33m             self.font = core.getfont(\n\u001b[0m\u001b[0;32m    194\u001b[0m                 \u001b[0mfont\u001b[0m\u001b[1;33m,\u001b[0m \u001b[0msize\u001b[0m\u001b[1;33m,\u001b[0m \u001b[0mindex\u001b[0m\u001b[1;33m,\u001b[0m \u001b[0mencoding\u001b[0m\u001b[1;33m,\u001b[0m \u001b[0mlayout_engine\u001b[0m\u001b[1;33m=\u001b[0m\u001b[0mlayout_engine\u001b[0m\u001b[1;33m\u001b[0m\u001b[1;33m\u001b[0m\u001b[0m\n\u001b[0;32m    195\u001b[0m             )\n",
      "\u001b[1;31mOSError\u001b[0m: cannot open resource"
     ]
    },
    {
     "data": {
      "text/plain": [
       "<Figure size 720x720 with 0 Axes>"
      ]
     },
     "metadata": {},
     "output_type": "display_data"
    }
   ],
   "source": [
    "neg_reviews = df[df['Final label']=='neg']['cleaned review'].str.cat(sep=', ')\n",
    "neg_reviews = ''.join(neg_reviews)\n",
    "display_wordcloud(neg_reviews,'black') # '#fcf7f8'"
   ]
  },
  {
   "cell_type": "markdown",
   "metadata": {},
   "source": [
    "## Emotion Mining"
   ]
  },
  {
   "cell_type": "markdown",
   "metadata": {},
   "source": [
    "### Positive reviews"
   ]
  },
  {
   "cell_type": "code",
   "execution_count": 33,
   "metadata": {
    "ExecuteTime": {
     "end_time": "2021-04-17T10:14:02.596686Z",
     "start_time": "2021-04-17T10:14:02.565210Z"
    }
   },
   "outputs": [
    {
     "data": {
      "text/html": [
       "<div>\n",
       "<style scoped>\n",
       "    .dataframe tbody tr th:only-of-type {\n",
       "        vertical-align: middle;\n",
       "    }\n",
       "\n",
       "    .dataframe tbody tr th {\n",
       "        vertical-align: top;\n",
       "    }\n",
       "\n",
       "    .dataframe thead th {\n",
       "        text-align: right;\n",
       "    }\n",
       "</style>\n",
       "<table border=\"1\" class=\"dataframe\">\n",
       "  <thead>\n",
       "    <tr style=\"text-align: right;\">\n",
       "      <th></th>\n",
       "      <th>rating</th>\n",
       "      <th>review</th>\n",
       "      <th>rating_label</th>\n",
       "      <th>compound_score</th>\n",
       "      <th>vader_label</th>\n",
       "      <th>Final label</th>\n",
       "      <th>cleaned review</th>\n",
       "    </tr>\n",
       "  </thead>\n",
       "  <tbody>\n",
       "    <tr>\n",
       "      <th>0</th>\n",
       "      <td>5.0</td>\n",
       "      <td>IT IS MORE THAN VALUE FOR MONEY HAPPY WITH THE...</td>\n",
       "      <td>pos</td>\n",
       "      <td>0.9813</td>\n",
       "      <td>pos</td>\n",
       "      <td>pos</td>\n",
       "      <td>IT IS MORE THAN VALUE FOR MONEY HAPPY WITH THE...</td>\n",
       "    </tr>\n",
       "    <tr>\n",
       "      <th>2</th>\n",
       "      <td>5.0</td>\n",
       "      <td>Inalsa Air Fryer...this is awesome product ......</td>\n",
       "      <td>pos</td>\n",
       "      <td>0.6249</td>\n",
       "      <td>pos</td>\n",
       "      <td>pos</td>\n",
       "      <td>Inalsa Air Fryerthis is awesome product Value ...</td>\n",
       "    </tr>\n",
       "    <tr>\n",
       "      <th>5</th>\n",
       "      <td>4.0</td>\n",
       "      <td>My friend has this Inalsa air fryer since over...</td>\n",
       "      <td>pos</td>\n",
       "      <td>0.9809</td>\n",
       "      <td>pos</td>\n",
       "      <td>pos</td>\n",
       "      <td>My friend has this Inalsa air fryer since over...</td>\n",
       "    </tr>\n",
       "    <tr>\n",
       "      <th>6</th>\n",
       "      <td>5.0</td>\n",
       "      <td>Excellent way for cooking for veg and Non-veg ...</td>\n",
       "      <td>pos</td>\n",
       "      <td>0.9527</td>\n",
       "      <td>pos</td>\n",
       "      <td>pos</td>\n",
       "      <td>Excellent way for cooking for veg and Nonveg f...</td>\n",
       "    </tr>\n",
       "    <tr>\n",
       "      <th>8</th>\n",
       "      <td>4.0</td>\n",
       "      <td>Nice thing. We are fond of eating French fries...</td>\n",
       "      <td>pos</td>\n",
       "      <td>0.8689</td>\n",
       "      <td>pos</td>\n",
       "      <td>pos</td>\n",
       "      <td>Nice thing We are fond of eating French fries ...</td>\n",
       "    </tr>\n",
       "  </tbody>\n",
       "</table>\n",
       "</div>"
      ],
      "text/plain": [
       "   rating                                             review rating_label  \\\n",
       "0     5.0  IT IS MORE THAN VALUE FOR MONEY HAPPY WITH THE...          pos   \n",
       "2     5.0  Inalsa Air Fryer...this is awesome product ......          pos   \n",
       "5     4.0  My friend has this Inalsa air fryer since over...          pos   \n",
       "6     5.0  Excellent way for cooking for veg and Non-veg ...          pos   \n",
       "8     4.0  Nice thing. We are fond of eating French fries...          pos   \n",
       "\n",
       "   compound_score vader_label Final label  \\\n",
       "0          0.9813         pos         pos   \n",
       "2          0.6249         pos         pos   \n",
       "5          0.9809         pos         pos   \n",
       "6          0.9527         pos         pos   \n",
       "8          0.8689         pos         pos   \n",
       "\n",
       "                                      cleaned review  \n",
       "0  IT IS MORE THAN VALUE FOR MONEY HAPPY WITH THE...  \n",
       "2  Inalsa Air Fryerthis is awesome product Value ...  \n",
       "5  My friend has this Inalsa air fryer since over...  \n",
       "6  Excellent way for cooking for veg and Nonveg f...  \n",
       "8  Nice thing We are fond of eating French fries ...  "
      ]
     },
     "execution_count": 33,
     "metadata": {},
     "output_type": "execute_result"
    }
   ],
   "source": [
    "pos_reviews = df[df['Final label']=='pos']\n",
    "pos_reviews.head()"
   ]
  },
  {
   "cell_type": "code",
   "execution_count": 34,
   "metadata": {
    "ExecuteTime": {
     "end_time": "2021-04-17T10:14:03.991644Z",
     "start_time": "2021-04-17T10:14:03.975648Z"
    }
   },
   "outputs": [],
   "source": [
    "# Emotion mining for positive reviews"
   ]
  },
  {
   "cell_type": "code",
   "execution_count": null,
   "metadata": {},
   "outputs": [],
   "source": [
    "# Visualization"
   ]
  },
  {
   "cell_type": "markdown",
   "metadata": {},
   "source": [
    "### Negative reviews"
   ]
  },
  {
   "cell_type": "code",
   "execution_count": 36,
   "metadata": {
    "ExecuteTime": {
     "end_time": "2021-04-17T10:17:21.203628Z",
     "start_time": "2021-04-17T10:17:21.175621Z"
    }
   },
   "outputs": [
    {
     "data": {
      "text/html": [
       "<div>\n",
       "<style scoped>\n",
       "    .dataframe tbody tr th:only-of-type {\n",
       "        vertical-align: middle;\n",
       "    }\n",
       "\n",
       "    .dataframe tbody tr th {\n",
       "        vertical-align: top;\n",
       "    }\n",
       "\n",
       "    .dataframe thead th {\n",
       "        text-align: right;\n",
       "    }\n",
       "</style>\n",
       "<table border=\"1\" class=\"dataframe\">\n",
       "  <thead>\n",
       "    <tr style=\"text-align: right;\">\n",
       "      <th></th>\n",
       "      <th>rating</th>\n",
       "      <th>review</th>\n",
       "      <th>rating_label</th>\n",
       "      <th>compound_score</th>\n",
       "      <th>vader_label</th>\n",
       "      <th>Final label</th>\n",
       "      <th>cleaned review</th>\n",
       "    </tr>\n",
       "  </thead>\n",
       "  <tbody>\n",
       "    <tr>\n",
       "      <th>0</th>\n",
       "      <td>5.0</td>\n",
       "      <td>IT IS MORE THAN VALUE FOR MONEY HAPPY WITH THE...</td>\n",
       "      <td>pos</td>\n",
       "      <td>0.9813</td>\n",
       "      <td>pos</td>\n",
       "      <td>pos</td>\n",
       "      <td>IT IS MORE THAN VALUE FOR MONEY HAPPY WITH THE...</td>\n",
       "    </tr>\n",
       "    <tr>\n",
       "      <th>2</th>\n",
       "      <td>5.0</td>\n",
       "      <td>Inalsa Air Fryer...this is awesome product ......</td>\n",
       "      <td>pos</td>\n",
       "      <td>0.6249</td>\n",
       "      <td>pos</td>\n",
       "      <td>pos</td>\n",
       "      <td>Inalsa Air Fryerthis is awesome product Value ...</td>\n",
       "    </tr>\n",
       "    <tr>\n",
       "      <th>5</th>\n",
       "      <td>4.0</td>\n",
       "      <td>My friend has this Inalsa air fryer since over...</td>\n",
       "      <td>pos</td>\n",
       "      <td>0.9809</td>\n",
       "      <td>pos</td>\n",
       "      <td>pos</td>\n",
       "      <td>My friend has this Inalsa air fryer since over...</td>\n",
       "    </tr>\n",
       "    <tr>\n",
       "      <th>6</th>\n",
       "      <td>5.0</td>\n",
       "      <td>Excellent way for cooking for veg and Non-veg ...</td>\n",
       "      <td>pos</td>\n",
       "      <td>0.9527</td>\n",
       "      <td>pos</td>\n",
       "      <td>pos</td>\n",
       "      <td>Excellent way for cooking for veg and Nonveg f...</td>\n",
       "    </tr>\n",
       "    <tr>\n",
       "      <th>8</th>\n",
       "      <td>4.0</td>\n",
       "      <td>Nice thing. We are fond of eating French fries...</td>\n",
       "      <td>pos</td>\n",
       "      <td>0.8689</td>\n",
       "      <td>pos</td>\n",
       "      <td>pos</td>\n",
       "      <td>Nice thing We are fond of eating French fries ...</td>\n",
       "    </tr>\n",
       "  </tbody>\n",
       "</table>\n",
       "</div>"
      ],
      "text/plain": [
       "   rating                                             review rating_label  \\\n",
       "0     5.0  IT IS MORE THAN VALUE FOR MONEY HAPPY WITH THE...          pos   \n",
       "2     5.0  Inalsa Air Fryer...this is awesome product ......          pos   \n",
       "5     4.0  My friend has this Inalsa air fryer since over...          pos   \n",
       "6     5.0  Excellent way for cooking for veg and Non-veg ...          pos   \n",
       "8     4.0  Nice thing. We are fond of eating French fries...          pos   \n",
       "\n",
       "   compound_score vader_label Final label  \\\n",
       "0          0.9813         pos         pos   \n",
       "2          0.6249         pos         pos   \n",
       "5          0.9809         pos         pos   \n",
       "6          0.9527         pos         pos   \n",
       "8          0.8689         pos         pos   \n",
       "\n",
       "                                      cleaned review  \n",
       "0  IT IS MORE THAN VALUE FOR MONEY HAPPY WITH THE...  \n",
       "2  Inalsa Air Fryerthis is awesome product Value ...  \n",
       "5  My friend has this Inalsa air fryer since over...  \n",
       "6  Excellent way for cooking for veg and Nonveg f...  \n",
       "8  Nice thing We are fond of eating French fries ...  "
      ]
     },
     "execution_count": 36,
     "metadata": {},
     "output_type": "execute_result"
    }
   ],
   "source": [
    "neg_reviews = df[df['Final label']=='pos']\n",
    "neg_reviews.head()"
   ]
  },
  {
   "cell_type": "code",
   "execution_count": null,
   "metadata": {},
   "outputs": [],
   "source": [
    "# Emotion mining for negative reviews "
   ]
  },
  {
   "cell_type": "code",
   "execution_count": null,
   "metadata": {},
   "outputs": [],
   "source": [
    "# Visualization"
   ]
  },
  {
   "cell_type": "code",
   "execution_count": null,
   "metadata": {},
   "outputs": [],
   "source": []
  },
  {
   "cell_type": "markdown",
   "metadata": {},
   "source": [
    "## Parts of Speech tagging"
   ]
  },
  {
   "cell_type": "code",
   "execution_count": null,
   "metadata": {},
   "outputs": [],
   "source": [
    "nlp = spacy.load('en_core_web_sm')"
   ]
  },
  {
   "cell_type": "code",
   "execution_count": null,
   "metadata": {},
   "outputs": [],
   "source": [
    "for token in doc[0:14]:\n",
    "    print(token,end=' | ')\n",
    "print('\\n')\n",
    "for token in doc[0:14]:\n",
    "    print(token.pos_,end=' | ') "
   ]
  },
  {
   "cell_type": "code",
   "execution_count": 103,
   "metadata": {},
   "outputs": [
    {
     "data": {
      "text/plain": [
       "75"
      ]
     },
     "execution_count": 103,
     "metadata": {},
     "output_type": "execute_result"
    }
   ],
   "source": [
    "# Created a dict of all pos tags from https://github.com/explosion/spaCy/blob/master/spacy/glossary.py\n",
    "# Go at bottom of notebook to run the hard coded dict tmp\n",
    "# Run code to grab all pos tags\n",
    "\n",
    "pos_tags = ['\"\"', '#', '$', \"''\", ',', '-LRB-', '-RRB-', '.', ':', 'ADD', 'ADJ', 'ADP', 'ADV', 'AFX', 'AUX', 'BES', 'CC', \n",
    "            'CCONJ', 'CD', 'CONJ', 'DET', 'DT', 'EOL', 'EX', 'FW', 'GW', 'HVS', 'HYPH', 'IN', 'INTJ', 'JJ', 'JJR', 'JJS', \n",
    "            'LS', 'MD', 'NFP', 'NIL', 'NN', 'NNP', 'NNPS', 'NNS', 'NOUN', 'NUM', 'PART', 'PDT', 'POS', 'PRON', 'PROPN', \n",
    "            'PRP', 'PRP$', 'PUNCT', 'RB', 'RBR', 'RBS', 'RP', 'SCONJ', 'SP', 'SPACE', 'SYM', 'TO', 'UH', 'VB', 'VBD', 'VBG',\n",
    "            'VBN', 'VBP', 'VBZ', 'VERB', 'WDT', 'WP', 'WP$', 'WRB', 'X', 'XX', '``']       \n",
    "\n",
    "# Length was found as 75\n",
    "len(pos_tags) \n",
    "\n",
    "# Created a list of random colors \n",
    "import random\n",
    "random.seed(12)\n",
    "color = []\n",
    "while True:\n",
    "    for i in range(len(pos_tags)):\n",
    "        color.append(\"#%06x\" % random.randint(0, 0xFFFFFF))\n",
    "    if len(set(color))==len(pos_tags):\n",
    "        break\n",
    "color\n",
    "\n",
    "# Ensured there are 75 unique colors\n",
    "len(set(color))"
   ]
  },
  {
   "cell_type": "code",
   "execution_count": 104,
   "metadata": {
    "scrolled": true
   },
   "outputs": [],
   "source": [
    "def display_pos(text):\n",
    "    doc = nlp(text)\n",
    "    ents=[]\n",
    "    for i in range(len(doc)):\n",
    "        dicts = {}\n",
    "        dicts['start'] = doc[i].idx\n",
    "        dicts['end'] = doc[i].idx + len(doc[i])\n",
    "        dicts['label'] = doc[i].pos_\n",
    "        ents.append(dicts)\n",
    "    ents\n",
    "\n",
    "    ent_input = {\n",
    "        \"text\": text,\n",
    "        \"ents\": ents,\n",
    "        \"title\": f'Parts of speech tagging'\n",
    "    }\n",
    "\n",
    "    colors = dict(zip(pos_tags, color))\n",
    "    options = {\"ents\": pos_tags, \"colors\": colors}\n",
    "    \n",
    "    from spacy import displacy\n",
    "    displacy.render(ent_input,style='ent',jupyter=True,manual=True,options=options)\n",
    "    #displacy.serve(ent_input,style='ent',manual=True,options=options)"
   ]
  },
  {
   "cell_type": "code",
   "execution_count": 106,
   "metadata": {},
   "outputs": [
    {
     "name": "stdout",
     "output_type": "stream",
     "text": [
      "Original package had a hole on side and the product had broken handle. Received replacement which is working fine. One area of concern (reason for not giving 5 stars) is the handle to the basket is made of plastic and with no reinforcement the handle is very delicate. There is always a fear that it might break. If the handle had some kind of metal reinforcement in center then this fryer is best in its lot.\n"
     ]
    },
    {
     "data": {
      "text/html": [
       "<span class=\"tex2jax_ignore\"><h2 style=\"margin: 0\">Parts of speech tagging</h2>\n",
       "\n",
       "<div class=\"entities\" style=\"line-height: 2.5; direction: ltr\">\n",
       "<mark class=\"entity\" style=\"background: #748dcd; padding: 0.45em 0.6em; margin: 0 0.25em; line-height: 1; border-radius: 0.35em;\">\n",
       "    Original\n",
       "    <span style=\"font-size: 0.8em; font-weight: bold; line-height: 1; border-radius: 0.35em; vertical-align: middle; margin-left: 0.5rem\">ADJ</span>\n",
       "</mark>\n",
       " \n",
       "<mark class=\"entity\" style=\"background: #f41af7; padding: 0.45em 0.6em; margin: 0 0.25em; line-height: 1; border-radius: 0.35em;\">\n",
       "    package\n",
       "    <span style=\"font-size: 0.8em; font-weight: bold; line-height: 1; border-radius: 0.35em; vertical-align: middle; margin-left: 0.5rem\">NOUN</span>\n",
       "</mark>\n",
       " \n",
       "<mark class=\"entity\" style=\"background: #68a7ce; padding: 0.45em 0.6em; margin: 0 0.25em; line-height: 1; border-radius: 0.35em;\">\n",
       "    had\n",
       "    <span style=\"font-size: 0.8em; font-weight: bold; line-height: 1; border-radius: 0.35em; vertical-align: middle; margin-left: 0.5rem\">VERB</span>\n",
       "</mark>\n",
       " \n",
       "<mark class=\"entity\" style=\"background: #26333b; padding: 0.45em 0.6em; margin: 0 0.25em; line-height: 1; border-radius: 0.35em;\">\n",
       "    a\n",
       "    <span style=\"font-size: 0.8em; font-weight: bold; line-height: 1; border-radius: 0.35em; vertical-align: middle; margin-left: 0.5rem\">DET</span>\n",
       "</mark>\n",
       " \n",
       "<mark class=\"entity\" style=\"background: #f41af7; padding: 0.45em 0.6em; margin: 0 0.25em; line-height: 1; border-radius: 0.35em;\">\n",
       "    hole\n",
       "    <span style=\"font-size: 0.8em; font-weight: bold; line-height: 1; border-radius: 0.35em; vertical-align: middle; margin-left: 0.5rem\">NOUN</span>\n",
       "</mark>\n",
       " \n",
       "<mark class=\"entity\" style=\"background: #00da59; padding: 0.45em 0.6em; margin: 0 0.25em; line-height: 1; border-radius: 0.35em;\">\n",
       "    on\n",
       "    <span style=\"font-size: 0.8em; font-weight: bold; line-height: 1; border-radius: 0.35em; vertical-align: middle; margin-left: 0.5rem\">ADP</span>\n",
       "</mark>\n",
       " \n",
       "<mark class=\"entity\" style=\"background: #f41af7; padding: 0.45em 0.6em; margin: 0 0.25em; line-height: 1; border-radius: 0.35em;\">\n",
       "    side\n",
       "    <span style=\"font-size: 0.8em; font-weight: bold; line-height: 1; border-radius: 0.35em; vertical-align: middle; margin-left: 0.5rem\">NOUN</span>\n",
       "</mark>\n",
       " \n",
       "<mark class=\"entity\" style=\"background: #6ba61a; padding: 0.45em 0.6em; margin: 0 0.25em; line-height: 1; border-radius: 0.35em;\">\n",
       "    and\n",
       "    <span style=\"font-size: 0.8em; font-weight: bold; line-height: 1; border-radius: 0.35em; vertical-align: middle; margin-left: 0.5rem\">CCONJ</span>\n",
       "</mark>\n",
       " \n",
       "<mark class=\"entity\" style=\"background: #26333b; padding: 0.45em 0.6em; margin: 0 0.25em; line-height: 1; border-radius: 0.35em;\">\n",
       "    the\n",
       "    <span style=\"font-size: 0.8em; font-weight: bold; line-height: 1; border-radius: 0.35em; vertical-align: middle; margin-left: 0.5rem\">DET</span>\n",
       "</mark>\n",
       " \n",
       "<mark class=\"entity\" style=\"background: #f41af7; padding: 0.45em 0.6em; margin: 0 0.25em; line-height: 1; border-radius: 0.35em;\">\n",
       "    product\n",
       "    <span style=\"font-size: 0.8em; font-weight: bold; line-height: 1; border-radius: 0.35em; vertical-align: middle; margin-left: 0.5rem\">NOUN</span>\n",
       "</mark>\n",
       " \n",
       "<mark class=\"entity\" style=\"background: #bc3d52; padding: 0.45em 0.6em; margin: 0 0.25em; line-height: 1; border-radius: 0.35em;\">\n",
       "    had\n",
       "    <span style=\"font-size: 0.8em; font-weight: bold; line-height: 1; border-radius: 0.35em; vertical-align: middle; margin-left: 0.5rem\">AUX</span>\n",
       "</mark>\n",
       " \n",
       "<mark class=\"entity\" style=\"background: #68a7ce; padding: 0.45em 0.6em; margin: 0 0.25em; line-height: 1; border-radius: 0.35em;\">\n",
       "    broken\n",
       "    <span style=\"font-size: 0.8em; font-weight: bold; line-height: 1; border-radius: 0.35em; vertical-align: middle; margin-left: 0.5rem\">VERB</span>\n",
       "</mark>\n",
       " \n",
       "<mark class=\"entity\" style=\"background: #f41af7; padding: 0.45em 0.6em; margin: 0 0.25em; line-height: 1; border-radius: 0.35em;\">\n",
       "    handle\n",
       "    <span style=\"font-size: 0.8em; font-weight: bold; line-height: 1; border-radius: 0.35em; vertical-align: middle; margin-left: 0.5rem\">NOUN</span>\n",
       "</mark>\n",
       "\n",
       "<mark class=\"entity\" style=\"background: #9eab8e; padding: 0.45em 0.6em; margin: 0 0.25em; line-height: 1; border-radius: 0.35em;\">\n",
       "    .\n",
       "    <span style=\"font-size: 0.8em; font-weight: bold; line-height: 1; border-radius: 0.35em; vertical-align: middle; margin-left: 0.5rem\">PUNCT</span>\n",
       "</mark>\n",
       " \n",
       "<mark class=\"entity\" style=\"background: #68a7ce; padding: 0.45em 0.6em; margin: 0 0.25em; line-height: 1; border-radius: 0.35em;\">\n",
       "    Received\n",
       "    <span style=\"font-size: 0.8em; font-weight: bold; line-height: 1; border-radius: 0.35em; vertical-align: middle; margin-left: 0.5rem\">VERB</span>\n",
       "</mark>\n",
       " \n",
       "<mark class=\"entity\" style=\"background: #f41af7; padding: 0.45em 0.6em; margin: 0 0.25em; line-height: 1; border-radius: 0.35em;\">\n",
       "    replacement\n",
       "    <span style=\"font-size: 0.8em; font-weight: bold; line-height: 1; border-radius: 0.35em; vertical-align: middle; margin-left: 0.5rem\">NOUN</span>\n",
       "</mark>\n",
       " \n",
       "<mark class=\"entity\" style=\"background: #26333b; padding: 0.45em 0.6em; margin: 0 0.25em; line-height: 1; border-radius: 0.35em;\">\n",
       "    which\n",
       "    <span style=\"font-size: 0.8em; font-weight: bold; line-height: 1; border-radius: 0.35em; vertical-align: middle; margin-left: 0.5rem\">DET</span>\n",
       "</mark>\n",
       " \n",
       "<mark class=\"entity\" style=\"background: #bc3d52; padding: 0.45em 0.6em; margin: 0 0.25em; line-height: 1; border-radius: 0.35em;\">\n",
       "    is\n",
       "    <span style=\"font-size: 0.8em; font-weight: bold; line-height: 1; border-radius: 0.35em; vertical-align: middle; margin-left: 0.5rem\">AUX</span>\n",
       "</mark>\n",
       " \n",
       "<mark class=\"entity\" style=\"background: #68a7ce; padding: 0.45em 0.6em; margin: 0 0.25em; line-height: 1; border-radius: 0.35em;\">\n",
       "    working\n",
       "    <span style=\"font-size: 0.8em; font-weight: bold; line-height: 1; border-radius: 0.35em; vertical-align: middle; margin-left: 0.5rem\">VERB</span>\n",
       "</mark>\n",
       " \n",
       "<mark class=\"entity\" style=\"background: #4a6520; padding: 0.45em 0.6em; margin: 0 0.25em; line-height: 1; border-radius: 0.35em;\">\n",
       "    fine\n",
       "    <span style=\"font-size: 0.8em; font-weight: bold; line-height: 1; border-radius: 0.35em; vertical-align: middle; margin-left: 0.5rem\">ADV</span>\n",
       "</mark>\n",
       "\n",
       "<mark class=\"entity\" style=\"background: #9eab8e; padding: 0.45em 0.6em; margin: 0 0.25em; line-height: 1; border-radius: 0.35em;\">\n",
       "    .\n",
       "    <span style=\"font-size: 0.8em; font-weight: bold; line-height: 1; border-radius: 0.35em; vertical-align: middle; margin-left: 0.5rem\">PUNCT</span>\n",
       "</mark>\n",
       " \n",
       "<mark class=\"entity\" style=\"background: #c4e7da; padding: 0.45em 0.6em; margin: 0 0.25em; line-height: 1; border-radius: 0.35em;\">\n",
       "    One\n",
       "    <span style=\"font-size: 0.8em; font-weight: bold; line-height: 1; border-radius: 0.35em; vertical-align: middle; margin-left: 0.5rem\">NUM</span>\n",
       "</mark>\n",
       " \n",
       "<mark class=\"entity\" style=\"background: #f41af7; padding: 0.45em 0.6em; margin: 0 0.25em; line-height: 1; border-radius: 0.35em;\">\n",
       "    area\n",
       "    <span style=\"font-size: 0.8em; font-weight: bold; line-height: 1; border-radius: 0.35em; vertical-align: middle; margin-left: 0.5rem\">NOUN</span>\n",
       "</mark>\n",
       " \n",
       "<mark class=\"entity\" style=\"background: #00da59; padding: 0.45em 0.6em; margin: 0 0.25em; line-height: 1; border-radius: 0.35em;\">\n",
       "    of\n",
       "    <span style=\"font-size: 0.8em; font-weight: bold; line-height: 1; border-radius: 0.35em; vertical-align: middle; margin-left: 0.5rem\">ADP</span>\n",
       "</mark>\n",
       " \n",
       "<mark class=\"entity\" style=\"background: #f41af7; padding: 0.45em 0.6em; margin: 0 0.25em; line-height: 1; border-radius: 0.35em;\">\n",
       "    concern\n",
       "    <span style=\"font-size: 0.8em; font-weight: bold; line-height: 1; border-radius: 0.35em; vertical-align: middle; margin-left: 0.5rem\">NOUN</span>\n",
       "</mark>\n",
       " \n",
       "<mark class=\"entity\" style=\"background: #9eab8e; padding: 0.45em 0.6em; margin: 0 0.25em; line-height: 1; border-radius: 0.35em;\">\n",
       "    (\n",
       "    <span style=\"font-size: 0.8em; font-weight: bold; line-height: 1; border-radius: 0.35em; vertical-align: middle; margin-left: 0.5rem\">PUNCT</span>\n",
       "</mark>\n",
       "\n",
       "<mark class=\"entity\" style=\"background: #f41af7; padding: 0.45em 0.6em; margin: 0 0.25em; line-height: 1; border-radius: 0.35em;\">\n",
       "    reason\n",
       "    <span style=\"font-size: 0.8em; font-weight: bold; line-height: 1; border-radius: 0.35em; vertical-align: middle; margin-left: 0.5rem\">NOUN</span>\n",
       "</mark>\n",
       " \n",
       "<mark class=\"entity\" style=\"background: #00da59; padding: 0.45em 0.6em; margin: 0 0.25em; line-height: 1; border-radius: 0.35em;\">\n",
       "    for\n",
       "    <span style=\"font-size: 0.8em; font-weight: bold; line-height: 1; border-radius: 0.35em; vertical-align: middle; margin-left: 0.5rem\">ADP</span>\n",
       "</mark>\n",
       " \n",
       "<mark class=\"entity\" style=\"background: #0f9cf5; padding: 0.45em 0.6em; margin: 0 0.25em; line-height: 1; border-radius: 0.35em;\">\n",
       "    not\n",
       "    <span style=\"font-size: 0.8em; font-weight: bold; line-height: 1; border-radius: 0.35em; vertical-align: middle; margin-left: 0.5rem\">PART</span>\n",
       "</mark>\n",
       " \n",
       "<mark class=\"entity\" style=\"background: #68a7ce; padding: 0.45em 0.6em; margin: 0 0.25em; line-height: 1; border-radius: 0.35em;\">\n",
       "    giving\n",
       "    <span style=\"font-size: 0.8em; font-weight: bold; line-height: 1; border-radius: 0.35em; vertical-align: middle; margin-left: 0.5rem\">VERB</span>\n",
       "</mark>\n",
       " \n",
       "<mark class=\"entity\" style=\"background: #c4e7da; padding: 0.45em 0.6em; margin: 0 0.25em; line-height: 1; border-radius: 0.35em;\">\n",
       "    5\n",
       "    <span style=\"font-size: 0.8em; font-weight: bold; line-height: 1; border-radius: 0.35em; vertical-align: middle; margin-left: 0.5rem\">NUM</span>\n",
       "</mark>\n",
       " \n",
       "<mark class=\"entity\" style=\"background: #f41af7; padding: 0.45em 0.6em; margin: 0 0.25em; line-height: 1; border-radius: 0.35em;\">\n",
       "    stars\n",
       "    <span style=\"font-size: 0.8em; font-weight: bold; line-height: 1; border-radius: 0.35em; vertical-align: middle; margin-left: 0.5rem\">NOUN</span>\n",
       "</mark>\n",
       "\n",
       "<mark class=\"entity\" style=\"background: #9eab8e; padding: 0.45em 0.6em; margin: 0 0.25em; line-height: 1; border-radius: 0.35em;\">\n",
       "    )\n",
       "    <span style=\"font-size: 0.8em; font-weight: bold; line-height: 1; border-radius: 0.35em; vertical-align: middle; margin-left: 0.5rem\">PUNCT</span>\n",
       "</mark>\n",
       " \n",
       "<mark class=\"entity\" style=\"background: #bc3d52; padding: 0.45em 0.6em; margin: 0 0.25em; line-height: 1; border-radius: 0.35em;\">\n",
       "    is\n",
       "    <span style=\"font-size: 0.8em; font-weight: bold; line-height: 1; border-radius: 0.35em; vertical-align: middle; margin-left: 0.5rem\">AUX</span>\n",
       "</mark>\n",
       " \n",
       "<mark class=\"entity\" style=\"background: #26333b; padding: 0.45em 0.6em; margin: 0 0.25em; line-height: 1; border-radius: 0.35em;\">\n",
       "    the\n",
       "    <span style=\"font-size: 0.8em; font-weight: bold; line-height: 1; border-radius: 0.35em; vertical-align: middle; margin-left: 0.5rem\">DET</span>\n",
       "</mark>\n",
       " \n",
       "<mark class=\"entity\" style=\"background: #f41af7; padding: 0.45em 0.6em; margin: 0 0.25em; line-height: 1; border-radius: 0.35em;\">\n",
       "    handle\n",
       "    <span style=\"font-size: 0.8em; font-weight: bold; line-height: 1; border-radius: 0.35em; vertical-align: middle; margin-left: 0.5rem\">NOUN</span>\n",
       "</mark>\n",
       " \n",
       "<mark class=\"entity\" style=\"background: #00da59; padding: 0.45em 0.6em; margin: 0 0.25em; line-height: 1; border-radius: 0.35em;\">\n",
       "    to\n",
       "    <span style=\"font-size: 0.8em; font-weight: bold; line-height: 1; border-radius: 0.35em; vertical-align: middle; margin-left: 0.5rem\">ADP</span>\n",
       "</mark>\n",
       " \n",
       "<mark class=\"entity\" style=\"background: #26333b; padding: 0.45em 0.6em; margin: 0 0.25em; line-height: 1; border-radius: 0.35em;\">\n",
       "    the\n",
       "    <span style=\"font-size: 0.8em; font-weight: bold; line-height: 1; border-radius: 0.35em; vertical-align: middle; margin-left: 0.5rem\">DET</span>\n",
       "</mark>\n",
       " \n",
       "<mark class=\"entity\" style=\"background: #f41af7; padding: 0.45em 0.6em; margin: 0 0.25em; line-height: 1; border-radius: 0.35em;\">\n",
       "    basket\n",
       "    <span style=\"font-size: 0.8em; font-weight: bold; line-height: 1; border-radius: 0.35em; vertical-align: middle; margin-left: 0.5rem\">NOUN</span>\n",
       "</mark>\n",
       " \n",
       "<mark class=\"entity\" style=\"background: #bc3d52; padding: 0.45em 0.6em; margin: 0 0.25em; line-height: 1; border-radius: 0.35em;\">\n",
       "    is\n",
       "    <span style=\"font-size: 0.8em; font-weight: bold; line-height: 1; border-radius: 0.35em; vertical-align: middle; margin-left: 0.5rem\">AUX</span>\n",
       "</mark>\n",
       " \n",
       "<mark class=\"entity\" style=\"background: #68a7ce; padding: 0.45em 0.6em; margin: 0 0.25em; line-height: 1; border-radius: 0.35em;\">\n",
       "    made\n",
       "    <span style=\"font-size: 0.8em; font-weight: bold; line-height: 1; border-radius: 0.35em; vertical-align: middle; margin-left: 0.5rem\">VERB</span>\n",
       "</mark>\n",
       " \n",
       "<mark class=\"entity\" style=\"background: #00da59; padding: 0.45em 0.6em; margin: 0 0.25em; line-height: 1; border-radius: 0.35em;\">\n",
       "    of\n",
       "    <span style=\"font-size: 0.8em; font-weight: bold; line-height: 1; border-radius: 0.35em; vertical-align: middle; margin-left: 0.5rem\">ADP</span>\n",
       "</mark>\n",
       " \n",
       "<mark class=\"entity\" style=\"background: #f41af7; padding: 0.45em 0.6em; margin: 0 0.25em; line-height: 1; border-radius: 0.35em;\">\n",
       "    plastic\n",
       "    <span style=\"font-size: 0.8em; font-weight: bold; line-height: 1; border-radius: 0.35em; vertical-align: middle; margin-left: 0.5rem\">NOUN</span>\n",
       "</mark>\n",
       " \n",
       "<mark class=\"entity\" style=\"background: #6ba61a; padding: 0.45em 0.6em; margin: 0 0.25em; line-height: 1; border-radius: 0.35em;\">\n",
       "    and\n",
       "    <span style=\"font-size: 0.8em; font-weight: bold; line-height: 1; border-radius: 0.35em; vertical-align: middle; margin-left: 0.5rem\">CCONJ</span>\n",
       "</mark>\n",
       " \n",
       "<mark class=\"entity\" style=\"background: #00da59; padding: 0.45em 0.6em; margin: 0 0.25em; line-height: 1; border-radius: 0.35em;\">\n",
       "    with\n",
       "    <span style=\"font-size: 0.8em; font-weight: bold; line-height: 1; border-radius: 0.35em; vertical-align: middle; margin-left: 0.5rem\">ADP</span>\n",
       "</mark>\n",
       " \n",
       "<mark class=\"entity\" style=\"background: #26333b; padding: 0.45em 0.6em; margin: 0 0.25em; line-height: 1; border-radius: 0.35em;\">\n",
       "    no\n",
       "    <span style=\"font-size: 0.8em; font-weight: bold; line-height: 1; border-radius: 0.35em; vertical-align: middle; margin-left: 0.5rem\">DET</span>\n",
       "</mark>\n",
       " \n",
       "<mark class=\"entity\" style=\"background: #f41af7; padding: 0.45em 0.6em; margin: 0 0.25em; line-height: 1; border-radius: 0.35em;\">\n",
       "    reinforcement\n",
       "    <span style=\"font-size: 0.8em; font-weight: bold; line-height: 1; border-radius: 0.35em; vertical-align: middle; margin-left: 0.5rem\">NOUN</span>\n",
       "</mark>\n",
       " \n",
       "<mark class=\"entity\" style=\"background: #26333b; padding: 0.45em 0.6em; margin: 0 0.25em; line-height: 1; border-radius: 0.35em;\">\n",
       "    the\n",
       "    <span style=\"font-size: 0.8em; font-weight: bold; line-height: 1; border-radius: 0.35em; vertical-align: middle; margin-left: 0.5rem\">DET</span>\n",
       "</mark>\n",
       " \n",
       "<mark class=\"entity\" style=\"background: #f41af7; padding: 0.45em 0.6em; margin: 0 0.25em; line-height: 1; border-radius: 0.35em;\">\n",
       "    handle\n",
       "    <span style=\"font-size: 0.8em; font-weight: bold; line-height: 1; border-radius: 0.35em; vertical-align: middle; margin-left: 0.5rem\">NOUN</span>\n",
       "</mark>\n",
       " \n",
       "<mark class=\"entity\" style=\"background: #68a7ce; padding: 0.45em 0.6em; margin: 0 0.25em; line-height: 1; border-radius: 0.35em;\">\n",
       "    is\n",
       "    <span style=\"font-size: 0.8em; font-weight: bold; line-height: 1; border-radius: 0.35em; vertical-align: middle; margin-left: 0.5rem\">VERB</span>\n",
       "</mark>\n",
       " \n",
       "<mark class=\"entity\" style=\"background: #4a6520; padding: 0.45em 0.6em; margin: 0 0.25em; line-height: 1; border-radius: 0.35em;\">\n",
       "    very\n",
       "    <span style=\"font-size: 0.8em; font-weight: bold; line-height: 1; border-radius: 0.35em; vertical-align: middle; margin-left: 0.5rem\">ADV</span>\n",
       "</mark>\n",
       " \n",
       "<mark class=\"entity\" style=\"background: #748dcd; padding: 0.45em 0.6em; margin: 0 0.25em; line-height: 1; border-radius: 0.35em;\">\n",
       "    delicate\n",
       "    <span style=\"font-size: 0.8em; font-weight: bold; line-height: 1; border-radius: 0.35em; vertical-align: middle; margin-left: 0.5rem\">ADJ</span>\n",
       "</mark>\n",
       "\n",
       "<mark class=\"entity\" style=\"background: #9eab8e; padding: 0.45em 0.6em; margin: 0 0.25em; line-height: 1; border-radius: 0.35em;\">\n",
       "    .\n",
       "    <span style=\"font-size: 0.8em; font-weight: bold; line-height: 1; border-radius: 0.35em; vertical-align: middle; margin-left: 0.5rem\">PUNCT</span>\n",
       "</mark>\n",
       " \n",
       "<mark class=\"entity\" style=\"background: #85ebae; padding: 0.45em 0.6em; margin: 0 0.25em; line-height: 1; border-radius: 0.35em;\">\n",
       "    There\n",
       "    <span style=\"font-size: 0.8em; font-weight: bold; line-height: 1; border-radius: 0.35em; vertical-align: middle; margin-left: 0.5rem\">PRON</span>\n",
       "</mark>\n",
       " \n",
       "<mark class=\"entity\" style=\"background: #bc3d52; padding: 0.45em 0.6em; margin: 0 0.25em; line-height: 1; border-radius: 0.35em;\">\n",
       "    is\n",
       "    <span style=\"font-size: 0.8em; font-weight: bold; line-height: 1; border-radius: 0.35em; vertical-align: middle; margin-left: 0.5rem\">AUX</span>\n",
       "</mark>\n",
       " \n",
       "<mark class=\"entity\" style=\"background: #4a6520; padding: 0.45em 0.6em; margin: 0 0.25em; line-height: 1; border-radius: 0.35em;\">\n",
       "    always\n",
       "    <span style=\"font-size: 0.8em; font-weight: bold; line-height: 1; border-radius: 0.35em; vertical-align: middle; margin-left: 0.5rem\">ADV</span>\n",
       "</mark>\n",
       " \n",
       "<mark class=\"entity\" style=\"background: #26333b; padding: 0.45em 0.6em; margin: 0 0.25em; line-height: 1; border-radius: 0.35em;\">\n",
       "    a\n",
       "    <span style=\"font-size: 0.8em; font-weight: bold; line-height: 1; border-radius: 0.35em; vertical-align: middle; margin-left: 0.5rem\">DET</span>\n",
       "</mark>\n",
       " \n",
       "<mark class=\"entity\" style=\"background: #f41af7; padding: 0.45em 0.6em; margin: 0 0.25em; line-height: 1; border-radius: 0.35em;\">\n",
       "    fear\n",
       "    <span style=\"font-size: 0.8em; font-weight: bold; line-height: 1; border-radius: 0.35em; vertical-align: middle; margin-left: 0.5rem\">NOUN</span>\n",
       "</mark>\n",
       " \n",
       "<mark class=\"entity\" style=\"background: #ba0564; padding: 0.45em 0.6em; margin: 0 0.25em; line-height: 1; border-radius: 0.35em;\">\n",
       "    that\n",
       "    <span style=\"font-size: 0.8em; font-weight: bold; line-height: 1; border-radius: 0.35em; vertical-align: middle; margin-left: 0.5rem\">SCONJ</span>\n",
       "</mark>\n",
       " \n",
       "<mark class=\"entity\" style=\"background: #85ebae; padding: 0.45em 0.6em; margin: 0 0.25em; line-height: 1; border-radius: 0.35em;\">\n",
       "    it\n",
       "    <span style=\"font-size: 0.8em; font-weight: bold; line-height: 1; border-radius: 0.35em; vertical-align: middle; margin-left: 0.5rem\">PRON</span>\n",
       "</mark>\n",
       " \n",
       "<mark class=\"entity\" style=\"background: #bc3d52; padding: 0.45em 0.6em; margin: 0 0.25em; line-height: 1; border-radius: 0.35em;\">\n",
       "    might\n",
       "    <span style=\"font-size: 0.8em; font-weight: bold; line-height: 1; border-radius: 0.35em; vertical-align: middle; margin-left: 0.5rem\">AUX</span>\n",
       "</mark>\n",
       " \n",
       "<mark class=\"entity\" style=\"background: #68a7ce; padding: 0.45em 0.6em; margin: 0 0.25em; line-height: 1; border-radius: 0.35em;\">\n",
       "    break\n",
       "    <span style=\"font-size: 0.8em; font-weight: bold; line-height: 1; border-radius: 0.35em; vertical-align: middle; margin-left: 0.5rem\">VERB</span>\n",
       "</mark>\n",
       "\n",
       "<mark class=\"entity\" style=\"background: #9eab8e; padding: 0.45em 0.6em; margin: 0 0.25em; line-height: 1; border-radius: 0.35em;\">\n",
       "    .\n",
       "    <span style=\"font-size: 0.8em; font-weight: bold; line-height: 1; border-radius: 0.35em; vertical-align: middle; margin-left: 0.5rem\">PUNCT</span>\n",
       "</mark>\n",
       " \n",
       "<mark class=\"entity\" style=\"background: #ba0564; padding: 0.45em 0.6em; margin: 0 0.25em; line-height: 1; border-radius: 0.35em;\">\n",
       "    If\n",
       "    <span style=\"font-size: 0.8em; font-weight: bold; line-height: 1; border-radius: 0.35em; vertical-align: middle; margin-left: 0.5rem\">SCONJ</span>\n",
       "</mark>\n",
       " \n",
       "<mark class=\"entity\" style=\"background: #26333b; padding: 0.45em 0.6em; margin: 0 0.25em; line-height: 1; border-radius: 0.35em;\">\n",
       "    the\n",
       "    <span style=\"font-size: 0.8em; font-weight: bold; line-height: 1; border-radius: 0.35em; vertical-align: middle; margin-left: 0.5rem\">DET</span>\n",
       "</mark>\n",
       " \n",
       "<mark class=\"entity\" style=\"background: #f41af7; padding: 0.45em 0.6em; margin: 0 0.25em; line-height: 1; border-radius: 0.35em;\">\n",
       "    handle\n",
       "    <span style=\"font-size: 0.8em; font-weight: bold; line-height: 1; border-radius: 0.35em; vertical-align: middle; margin-left: 0.5rem\">NOUN</span>\n",
       "</mark>\n",
       " \n",
       "<mark class=\"entity\" style=\"background: #68a7ce; padding: 0.45em 0.6em; margin: 0 0.25em; line-height: 1; border-radius: 0.35em;\">\n",
       "    had\n",
       "    <span style=\"font-size: 0.8em; font-weight: bold; line-height: 1; border-radius: 0.35em; vertical-align: middle; margin-left: 0.5rem\">VERB</span>\n",
       "</mark>\n",
       " \n",
       "<mark class=\"entity\" style=\"background: #26333b; padding: 0.45em 0.6em; margin: 0 0.25em; line-height: 1; border-radius: 0.35em;\">\n",
       "    some\n",
       "    <span style=\"font-size: 0.8em; font-weight: bold; line-height: 1; border-radius: 0.35em; vertical-align: middle; margin-left: 0.5rem\">DET</span>\n",
       "</mark>\n",
       " \n",
       "<mark class=\"entity\" style=\"background: #f41af7; padding: 0.45em 0.6em; margin: 0 0.25em; line-height: 1; border-radius: 0.35em;\">\n",
       "    kind\n",
       "    <span style=\"font-size: 0.8em; font-weight: bold; line-height: 1; border-radius: 0.35em; vertical-align: middle; margin-left: 0.5rem\">NOUN</span>\n",
       "</mark>\n",
       " \n",
       "<mark class=\"entity\" style=\"background: #00da59; padding: 0.45em 0.6em; margin: 0 0.25em; line-height: 1; border-radius: 0.35em;\">\n",
       "    of\n",
       "    <span style=\"font-size: 0.8em; font-weight: bold; line-height: 1; border-radius: 0.35em; vertical-align: middle; margin-left: 0.5rem\">ADP</span>\n",
       "</mark>\n",
       " \n",
       "<mark class=\"entity\" style=\"background: #f41af7; padding: 0.45em 0.6em; margin: 0 0.25em; line-height: 1; border-radius: 0.35em;\">\n",
       "    metal\n",
       "    <span style=\"font-size: 0.8em; font-weight: bold; line-height: 1; border-radius: 0.35em; vertical-align: middle; margin-left: 0.5rem\">NOUN</span>\n",
       "</mark>\n",
       " \n",
       "<mark class=\"entity\" style=\"background: #f41af7; padding: 0.45em 0.6em; margin: 0 0.25em; line-height: 1; border-radius: 0.35em;\">\n",
       "    reinforcement\n",
       "    <span style=\"font-size: 0.8em; font-weight: bold; line-height: 1; border-radius: 0.35em; vertical-align: middle; margin-left: 0.5rem\">NOUN</span>\n",
       "</mark>\n",
       " \n",
       "<mark class=\"entity\" style=\"background: #00da59; padding: 0.45em 0.6em; margin: 0 0.25em; line-height: 1; border-radius: 0.35em;\">\n",
       "    in\n",
       "    <span style=\"font-size: 0.8em; font-weight: bold; line-height: 1; border-radius: 0.35em; vertical-align: middle; margin-left: 0.5rem\">ADP</span>\n",
       "</mark>\n",
       " \n",
       "<mark class=\"entity\" style=\"background: #f41af7; padding: 0.45em 0.6em; margin: 0 0.25em; line-height: 1; border-radius: 0.35em;\">\n",
       "    center\n",
       "    <span style=\"font-size: 0.8em; font-weight: bold; line-height: 1; border-radius: 0.35em; vertical-align: middle; margin-left: 0.5rem\">NOUN</span>\n",
       "</mark>\n",
       " \n",
       "<mark class=\"entity\" style=\"background: #4a6520; padding: 0.45em 0.6em; margin: 0 0.25em; line-height: 1; border-radius: 0.35em;\">\n",
       "    then\n",
       "    <span style=\"font-size: 0.8em; font-weight: bold; line-height: 1; border-radius: 0.35em; vertical-align: middle; margin-left: 0.5rem\">ADV</span>\n",
       "</mark>\n",
       " \n",
       "<mark class=\"entity\" style=\"background: #26333b; padding: 0.45em 0.6em; margin: 0 0.25em; line-height: 1; border-radius: 0.35em;\">\n",
       "    this\n",
       "    <span style=\"font-size: 0.8em; font-weight: bold; line-height: 1; border-radius: 0.35em; vertical-align: middle; margin-left: 0.5rem\">DET</span>\n",
       "</mark>\n",
       " \n",
       "<mark class=\"entity\" style=\"background: #f41af7; padding: 0.45em 0.6em; margin: 0 0.25em; line-height: 1; border-radius: 0.35em;\">\n",
       "    fryer\n",
       "    <span style=\"font-size: 0.8em; font-weight: bold; line-height: 1; border-radius: 0.35em; vertical-align: middle; margin-left: 0.5rem\">NOUN</span>\n",
       "</mark>\n",
       " \n",
       "<mark class=\"entity\" style=\"background: #bc3d52; padding: 0.45em 0.6em; margin: 0 0.25em; line-height: 1; border-radius: 0.35em;\">\n",
       "    is\n",
       "    <span style=\"font-size: 0.8em; font-weight: bold; line-height: 1; border-radius: 0.35em; vertical-align: middle; margin-left: 0.5rem\">AUX</span>\n",
       "</mark>\n",
       " \n",
       "<mark class=\"entity\" style=\"background: #748dcd; padding: 0.45em 0.6em; margin: 0 0.25em; line-height: 1; border-radius: 0.35em;\">\n",
       "    best\n",
       "    <span style=\"font-size: 0.8em; font-weight: bold; line-height: 1; border-radius: 0.35em; vertical-align: middle; margin-left: 0.5rem\">ADJ</span>\n",
       "</mark>\n",
       " \n",
       "<mark class=\"entity\" style=\"background: #00da59; padding: 0.45em 0.6em; margin: 0 0.25em; line-height: 1; border-radius: 0.35em;\">\n",
       "    in\n",
       "    <span style=\"font-size: 0.8em; font-weight: bold; line-height: 1; border-radius: 0.35em; vertical-align: middle; margin-left: 0.5rem\">ADP</span>\n",
       "</mark>\n",
       " \n",
       "<mark class=\"entity\" style=\"background: #85ebae; padding: 0.45em 0.6em; margin: 0 0.25em; line-height: 1; border-radius: 0.35em;\">\n",
       "    its\n",
       "    <span style=\"font-size: 0.8em; font-weight: bold; line-height: 1; border-radius: 0.35em; vertical-align: middle; margin-left: 0.5rem\">PRON</span>\n",
       "</mark>\n",
       " \n",
       "<mark class=\"entity\" style=\"background: #f41af7; padding: 0.45em 0.6em; margin: 0 0.25em; line-height: 1; border-radius: 0.35em;\">\n",
       "    lot\n",
       "    <span style=\"font-size: 0.8em; font-weight: bold; line-height: 1; border-radius: 0.35em; vertical-align: middle; margin-left: 0.5rem\">NOUN</span>\n",
       "</mark>\n",
       "\n",
       "<mark class=\"entity\" style=\"background: #9eab8e; padding: 0.45em 0.6em; margin: 0 0.25em; line-height: 1; border-radius: 0.35em;\">\n",
       "    .\n",
       "    <span style=\"font-size: 0.8em; font-weight: bold; line-height: 1; border-radius: 0.35em; vertical-align: middle; margin-left: 0.5rem\">PUNCT</span>\n",
       "</mark>\n",
       "</div></span>"
      ],
      "text/plain": [
       "<IPython.core.display.HTML object>"
      ]
     },
     "metadata": {},
     "output_type": "display_data"
    }
   ],
   "source": [
    "text = temp['review'][33]\n",
    "print(text)\n",
    "display_pos(text)"
   ]
  },
  {
   "cell_type": "markdown",
   "metadata": {},
   "source": [
    "'broken handle' --> VERB + NOUN<br>\n",
    "'very delicate' --> ADV + ADJ<br>"
   ]
  },
  {
   "cell_type": "code",
   "execution_count": 121,
   "metadata": {},
   "outputs": [
    {
     "name": "stdout",
     "output_type": "stream",
     "text": [
      "I have not seen other compeny Air fryer so I can not compare ..About this product I make 🍟 but it's not that mark .. uneven cooking was seen , one side of 🥔 was cooked and other raw even though I shake them several times during cooking .. And same was with chicken wings ...\n"
     ]
    },
    {
     "data": {
      "text/html": [
       "<span class=\"tex2jax_ignore\"><h2 style=\"margin: 0\">Parts of speech tagging</h2>\n",
       "\n",
       "<div class=\"entities\" style=\"line-height: 2.5; direction: ltr\">\n",
       "<mark class=\"entity\" style=\"background: #85ebae; padding: 0.45em 0.6em; margin: 0 0.25em; line-height: 1; border-radius: 0.35em;\">\n",
       "    I\n",
       "    <span style=\"font-size: 0.8em; font-weight: bold; line-height: 1; border-radius: 0.35em; vertical-align: middle; margin-left: 0.5rem\">PRON</span>\n",
       "</mark>\n",
       " \n",
       "<mark class=\"entity\" style=\"background: #bc3d52; padding: 0.45em 0.6em; margin: 0 0.25em; line-height: 1; border-radius: 0.35em;\">\n",
       "    have\n",
       "    <span style=\"font-size: 0.8em; font-weight: bold; line-height: 1; border-radius: 0.35em; vertical-align: middle; margin-left: 0.5rem\">AUX</span>\n",
       "</mark>\n",
       " \n",
       "<mark class=\"entity\" style=\"background: #0f9cf5; padding: 0.45em 0.6em; margin: 0 0.25em; line-height: 1; border-radius: 0.35em;\">\n",
       "    not\n",
       "    <span style=\"font-size: 0.8em; font-weight: bold; line-height: 1; border-radius: 0.35em; vertical-align: middle; margin-left: 0.5rem\">PART</span>\n",
       "</mark>\n",
       " \n",
       "<mark class=\"entity\" style=\"background: #68a7ce; padding: 0.45em 0.6em; margin: 0 0.25em; line-height: 1; border-radius: 0.35em;\">\n",
       "    seen\n",
       "    <span style=\"font-size: 0.8em; font-weight: bold; line-height: 1; border-radius: 0.35em; vertical-align: middle; margin-left: 0.5rem\">VERB</span>\n",
       "</mark>\n",
       " \n",
       "<mark class=\"entity\" style=\"background: #748dcd; padding: 0.45em 0.6em; margin: 0 0.25em; line-height: 1; border-radius: 0.35em;\">\n",
       "    other\n",
       "    <span style=\"font-size: 0.8em; font-weight: bold; line-height: 1; border-radius: 0.35em; vertical-align: middle; margin-left: 0.5rem\">ADJ</span>\n",
       "</mark>\n",
       " \n",
       "<mark class=\"entity\" style=\"background: #f41af7; padding: 0.45em 0.6em; margin: 0 0.25em; line-height: 1; border-radius: 0.35em;\">\n",
       "    compeny\n",
       "    <span style=\"font-size: 0.8em; font-weight: bold; line-height: 1; border-radius: 0.35em; vertical-align: middle; margin-left: 0.5rem\">NOUN</span>\n",
       "</mark>\n",
       " \n",
       "<mark class=\"entity\" style=\"background: #f41af7; padding: 0.45em 0.6em; margin: 0 0.25em; line-height: 1; border-radius: 0.35em;\">\n",
       "    Air\n",
       "    <span style=\"font-size: 0.8em; font-weight: bold; line-height: 1; border-radius: 0.35em; vertical-align: middle; margin-left: 0.5rem\">NOUN</span>\n",
       "</mark>\n",
       " \n",
       "<mark class=\"entity\" style=\"background: #f41af7; padding: 0.45em 0.6em; margin: 0 0.25em; line-height: 1; border-radius: 0.35em;\">\n",
       "    fryer\n",
       "    <span style=\"font-size: 0.8em; font-weight: bold; line-height: 1; border-radius: 0.35em; vertical-align: middle; margin-left: 0.5rem\">NOUN</span>\n",
       "</mark>\n",
       " \n",
       "<mark class=\"entity\" style=\"background: #ba0564; padding: 0.45em 0.6em; margin: 0 0.25em; line-height: 1; border-radius: 0.35em;\">\n",
       "    so\n",
       "    <span style=\"font-size: 0.8em; font-weight: bold; line-height: 1; border-radius: 0.35em; vertical-align: middle; margin-left: 0.5rem\">SCONJ</span>\n",
       "</mark>\n",
       " \n",
       "<mark class=\"entity\" style=\"background: #85ebae; padding: 0.45em 0.6em; margin: 0 0.25em; line-height: 1; border-radius: 0.35em;\">\n",
       "    I\n",
       "    <span style=\"font-size: 0.8em; font-weight: bold; line-height: 1; border-radius: 0.35em; vertical-align: middle; margin-left: 0.5rem\">PRON</span>\n",
       "</mark>\n",
       " \n",
       "<mark class=\"entity\" style=\"background: #bc3d52; padding: 0.45em 0.6em; margin: 0 0.25em; line-height: 1; border-radius: 0.35em;\">\n",
       "    can\n",
       "    <span style=\"font-size: 0.8em; font-weight: bold; line-height: 1; border-radius: 0.35em; vertical-align: middle; margin-left: 0.5rem\">AUX</span>\n",
       "</mark>\n",
       " \n",
       "<mark class=\"entity\" style=\"background: #0f9cf5; padding: 0.45em 0.6em; margin: 0 0.25em; line-height: 1; border-radius: 0.35em;\">\n",
       "    not\n",
       "    <span style=\"font-size: 0.8em; font-weight: bold; line-height: 1; border-radius: 0.35em; vertical-align: middle; margin-left: 0.5rem\">PART</span>\n",
       "</mark>\n",
       " \n",
       "<mark class=\"entity\" style=\"background: #68a7ce; padding: 0.45em 0.6em; margin: 0 0.25em; line-height: 1; border-radius: 0.35em;\">\n",
       "    compare\n",
       "    <span style=\"font-size: 0.8em; font-weight: bold; line-height: 1; border-radius: 0.35em; vertical-align: middle; margin-left: 0.5rem\">VERB</span>\n",
       "</mark>\n",
       " \n",
       "<mark class=\"entity\" style=\"background: #9eab8e; padding: 0.45em 0.6em; margin: 0 0.25em; line-height: 1; border-radius: 0.35em;\">\n",
       "    ..\n",
       "    <span style=\"font-size: 0.8em; font-weight: bold; line-height: 1; border-radius: 0.35em; vertical-align: middle; margin-left: 0.5rem\">PUNCT</span>\n",
       "</mark>\n",
       "\n",
       "<mark class=\"entity\" style=\"background: #00da59; padding: 0.45em 0.6em; margin: 0 0.25em; line-height: 1; border-radius: 0.35em;\">\n",
       "    About\n",
       "    <span style=\"font-size: 0.8em; font-weight: bold; line-height: 1; border-radius: 0.35em; vertical-align: middle; margin-left: 0.5rem\">ADP</span>\n",
       "</mark>\n",
       " \n",
       "<mark class=\"entity\" style=\"background: #26333b; padding: 0.45em 0.6em; margin: 0 0.25em; line-height: 1; border-radius: 0.35em;\">\n",
       "    this\n",
       "    <span style=\"font-size: 0.8em; font-weight: bold; line-height: 1; border-radius: 0.35em; vertical-align: middle; margin-left: 0.5rem\">DET</span>\n",
       "</mark>\n",
       " \n",
       "<mark class=\"entity\" style=\"background: #f41af7; padding: 0.45em 0.6em; margin: 0 0.25em; line-height: 1; border-radius: 0.35em;\">\n",
       "    product\n",
       "    <span style=\"font-size: 0.8em; font-weight: bold; line-height: 1; border-radius: 0.35em; vertical-align: middle; margin-left: 0.5rem\">NOUN</span>\n",
       "</mark>\n",
       " \n",
       "<mark class=\"entity\" style=\"background: #85ebae; padding: 0.45em 0.6em; margin: 0 0.25em; line-height: 1; border-radius: 0.35em;\">\n",
       "    I\n",
       "    <span style=\"font-size: 0.8em; font-weight: bold; line-height: 1; border-radius: 0.35em; vertical-align: middle; margin-left: 0.5rem\">PRON</span>\n",
       "</mark>\n",
       " \n",
       "<mark class=\"entity\" style=\"background: #68a7ce; padding: 0.45em 0.6em; margin: 0 0.25em; line-height: 1; border-radius: 0.35em;\">\n",
       "    make\n",
       "    <span style=\"font-size: 0.8em; font-weight: bold; line-height: 1; border-radius: 0.35em; vertical-align: middle; margin-left: 0.5rem\">VERB</span>\n",
       "</mark>\n",
       " \n",
       "<mark class=\"entity\" style=\"background: #85ebae; padding: 0.45em 0.6em; margin: 0 0.25em; line-height: 1; border-radius: 0.35em;\">\n",
       "    🍟\n",
       "    <span style=\"font-size: 0.8em; font-weight: bold; line-height: 1; border-radius: 0.35em; vertical-align: middle; margin-left: 0.5rem\">PRON</span>\n",
       "</mark>\n",
       " \n",
       "<mark class=\"entity\" style=\"background: #6ba61a; padding: 0.45em 0.6em; margin: 0 0.25em; line-height: 1; border-radius: 0.35em;\">\n",
       "    but\n",
       "    <span style=\"font-size: 0.8em; font-weight: bold; line-height: 1; border-radius: 0.35em; vertical-align: middle; margin-left: 0.5rem\">CCONJ</span>\n",
       "</mark>\n",
       " \n",
       "<mark class=\"entity\" style=\"background: #85ebae; padding: 0.45em 0.6em; margin: 0 0.25em; line-height: 1; border-radius: 0.35em;\">\n",
       "    it\n",
       "    <span style=\"font-size: 0.8em; font-weight: bold; line-height: 1; border-radius: 0.35em; vertical-align: middle; margin-left: 0.5rem\">PRON</span>\n",
       "</mark>\n",
       "\n",
       "<mark class=\"entity\" style=\"background: #bc3d52; padding: 0.45em 0.6em; margin: 0 0.25em; line-height: 1; border-radius: 0.35em;\">\n",
       "    's\n",
       "    <span style=\"font-size: 0.8em; font-weight: bold; line-height: 1; border-radius: 0.35em; vertical-align: middle; margin-left: 0.5rem\">AUX</span>\n",
       "</mark>\n",
       " \n",
       "<mark class=\"entity\" style=\"background: #0f9cf5; padding: 0.45em 0.6em; margin: 0 0.25em; line-height: 1; border-radius: 0.35em;\">\n",
       "    not\n",
       "    <span style=\"font-size: 0.8em; font-weight: bold; line-height: 1; border-radius: 0.35em; vertical-align: middle; margin-left: 0.5rem\">PART</span>\n",
       "</mark>\n",
       " \n",
       "<mark class=\"entity\" style=\"background: #26333b; padding: 0.45em 0.6em; margin: 0 0.25em; line-height: 1; border-radius: 0.35em;\">\n",
       "    that\n",
       "    <span style=\"font-size: 0.8em; font-weight: bold; line-height: 1; border-radius: 0.35em; vertical-align: middle; margin-left: 0.5rem\">DET</span>\n",
       "</mark>\n",
       " \n",
       "<mark class=\"entity\" style=\"background: #f41af7; padding: 0.45em 0.6em; margin: 0 0.25em; line-height: 1; border-radius: 0.35em;\">\n",
       "    mark\n",
       "    <span style=\"font-size: 0.8em; font-weight: bold; line-height: 1; border-radius: 0.35em; vertical-align: middle; margin-left: 0.5rem\">NOUN</span>\n",
       "</mark>\n",
       " \n",
       "<mark class=\"entity\" style=\"background: #9eab8e; padding: 0.45em 0.6em; margin: 0 0.25em; line-height: 1; border-radius: 0.35em;\">\n",
       "    ..\n",
       "    <span style=\"font-size: 0.8em; font-weight: bold; line-height: 1; border-radius: 0.35em; vertical-align: middle; margin-left: 0.5rem\">PUNCT</span>\n",
       "</mark>\n",
       " \n",
       "<mark class=\"entity\" style=\"background: #748dcd; padding: 0.45em 0.6em; margin: 0 0.25em; line-height: 1; border-radius: 0.35em;\">\n",
       "    uneven\n",
       "    <span style=\"font-size: 0.8em; font-weight: bold; line-height: 1; border-radius: 0.35em; vertical-align: middle; margin-left: 0.5rem\">ADJ</span>\n",
       "</mark>\n",
       " \n",
       "<mark class=\"entity\" style=\"background: #f41af7; padding: 0.45em 0.6em; margin: 0 0.25em; line-height: 1; border-radius: 0.35em;\">\n",
       "    cooking\n",
       "    <span style=\"font-size: 0.8em; font-weight: bold; line-height: 1; border-radius: 0.35em; vertical-align: middle; margin-left: 0.5rem\">NOUN</span>\n",
       "</mark>\n",
       " \n",
       "<mark class=\"entity\" style=\"background: #bc3d52; padding: 0.45em 0.6em; margin: 0 0.25em; line-height: 1; border-radius: 0.35em;\">\n",
       "    was\n",
       "    <span style=\"font-size: 0.8em; font-weight: bold; line-height: 1; border-radius: 0.35em; vertical-align: middle; margin-left: 0.5rem\">AUX</span>\n",
       "</mark>\n",
       " \n",
       "<mark class=\"entity\" style=\"background: #68a7ce; padding: 0.45em 0.6em; margin: 0 0.25em; line-height: 1; border-radius: 0.35em;\">\n",
       "    seen\n",
       "    <span style=\"font-size: 0.8em; font-weight: bold; line-height: 1; border-radius: 0.35em; vertical-align: middle; margin-left: 0.5rem\">VERB</span>\n",
       "</mark>\n",
       " \n",
       "<mark class=\"entity\" style=\"background: #9eab8e; padding: 0.45em 0.6em; margin: 0 0.25em; line-height: 1; border-radius: 0.35em;\">\n",
       "    ,\n",
       "    <span style=\"font-size: 0.8em; font-weight: bold; line-height: 1; border-radius: 0.35em; vertical-align: middle; margin-left: 0.5rem\">PUNCT</span>\n",
       "</mark>\n",
       " \n",
       "<mark class=\"entity\" style=\"background: #c4e7da; padding: 0.45em 0.6em; margin: 0 0.25em; line-height: 1; border-radius: 0.35em;\">\n",
       "    one\n",
       "    <span style=\"font-size: 0.8em; font-weight: bold; line-height: 1; border-radius: 0.35em; vertical-align: middle; margin-left: 0.5rem\">NUM</span>\n",
       "</mark>\n",
       " \n",
       "<mark class=\"entity\" style=\"background: #f41af7; padding: 0.45em 0.6em; margin: 0 0.25em; line-height: 1; border-radius: 0.35em;\">\n",
       "    side\n",
       "    <span style=\"font-size: 0.8em; font-weight: bold; line-height: 1; border-radius: 0.35em; vertical-align: middle; margin-left: 0.5rem\">NOUN</span>\n",
       "</mark>\n",
       " \n",
       "<mark class=\"entity\" style=\"background: #00da59; padding: 0.45em 0.6em; margin: 0 0.25em; line-height: 1; border-radius: 0.35em;\">\n",
       "    of\n",
       "    <span style=\"font-size: 0.8em; font-weight: bold; line-height: 1; border-radius: 0.35em; vertical-align: middle; margin-left: 0.5rem\">ADP</span>\n",
       "</mark>\n",
       " \n",
       "<mark class=\"entity\" style=\"background: #9eab8e; padding: 0.45em 0.6em; margin: 0 0.25em; line-height: 1; border-radius: 0.35em;\">\n",
       "    🥔\n",
       "    <span style=\"font-size: 0.8em; font-weight: bold; line-height: 1; border-radius: 0.35em; vertical-align: middle; margin-left: 0.5rem\">PUNCT</span>\n",
       "</mark>\n",
       " \n",
       "<mark class=\"entity\" style=\"background: #bc3d52; padding: 0.45em 0.6em; margin: 0 0.25em; line-height: 1; border-radius: 0.35em;\">\n",
       "    was\n",
       "    <span style=\"font-size: 0.8em; font-weight: bold; line-height: 1; border-radius: 0.35em; vertical-align: middle; margin-left: 0.5rem\">AUX</span>\n",
       "</mark>\n",
       " \n",
       "<mark class=\"entity\" style=\"background: #68a7ce; padding: 0.45em 0.6em; margin: 0 0.25em; line-height: 1; border-radius: 0.35em;\">\n",
       "    cooked\n",
       "    <span style=\"font-size: 0.8em; font-weight: bold; line-height: 1; border-radius: 0.35em; vertical-align: middle; margin-left: 0.5rem\">VERB</span>\n",
       "</mark>\n",
       " \n",
       "<mark class=\"entity\" style=\"background: #6ba61a; padding: 0.45em 0.6em; margin: 0 0.25em; line-height: 1; border-radius: 0.35em;\">\n",
       "    and\n",
       "    <span style=\"font-size: 0.8em; font-weight: bold; line-height: 1; border-radius: 0.35em; vertical-align: middle; margin-left: 0.5rem\">CCONJ</span>\n",
       "</mark>\n",
       " \n",
       "<mark class=\"entity\" style=\"background: #748dcd; padding: 0.45em 0.6em; margin: 0 0.25em; line-height: 1; border-radius: 0.35em;\">\n",
       "    other\n",
       "    <span style=\"font-size: 0.8em; font-weight: bold; line-height: 1; border-radius: 0.35em; vertical-align: middle; margin-left: 0.5rem\">ADJ</span>\n",
       "</mark>\n",
       " \n",
       "<mark class=\"entity\" style=\"background: #f41af7; padding: 0.45em 0.6em; margin: 0 0.25em; line-height: 1; border-radius: 0.35em;\">\n",
       "    raw\n",
       "    <span style=\"font-size: 0.8em; font-weight: bold; line-height: 1; border-radius: 0.35em; vertical-align: middle; margin-left: 0.5rem\">NOUN</span>\n",
       "</mark>\n",
       " \n",
       "<mark class=\"entity\" style=\"background: #4a6520; padding: 0.45em 0.6em; margin: 0 0.25em; line-height: 1; border-radius: 0.35em;\">\n",
       "    even\n",
       "    <span style=\"font-size: 0.8em; font-weight: bold; line-height: 1; border-radius: 0.35em; vertical-align: middle; margin-left: 0.5rem\">ADV</span>\n",
       "</mark>\n",
       " \n",
       "<mark class=\"entity\" style=\"background: #ba0564; padding: 0.45em 0.6em; margin: 0 0.25em; line-height: 1; border-radius: 0.35em;\">\n",
       "    though\n",
       "    <span style=\"font-size: 0.8em; font-weight: bold; line-height: 1; border-radius: 0.35em; vertical-align: middle; margin-left: 0.5rem\">SCONJ</span>\n",
       "</mark>\n",
       " \n",
       "<mark class=\"entity\" style=\"background: #85ebae; padding: 0.45em 0.6em; margin: 0 0.25em; line-height: 1; border-radius: 0.35em;\">\n",
       "    I\n",
       "    <span style=\"font-size: 0.8em; font-weight: bold; line-height: 1; border-radius: 0.35em; vertical-align: middle; margin-left: 0.5rem\">PRON</span>\n",
       "</mark>\n",
       " \n",
       "<mark class=\"entity\" style=\"background: #68a7ce; padding: 0.45em 0.6em; margin: 0 0.25em; line-height: 1; border-radius: 0.35em;\">\n",
       "    shake\n",
       "    <span style=\"font-size: 0.8em; font-weight: bold; line-height: 1; border-radius: 0.35em; vertical-align: middle; margin-left: 0.5rem\">VERB</span>\n",
       "</mark>\n",
       " \n",
       "<mark class=\"entity\" style=\"background: #85ebae; padding: 0.45em 0.6em; margin: 0 0.25em; line-height: 1; border-radius: 0.35em;\">\n",
       "    them\n",
       "    <span style=\"font-size: 0.8em; font-weight: bold; line-height: 1; border-radius: 0.35em; vertical-align: middle; margin-left: 0.5rem\">PRON</span>\n",
       "</mark>\n",
       " \n",
       "<mark class=\"entity\" style=\"background: #748dcd; padding: 0.45em 0.6em; margin: 0 0.25em; line-height: 1; border-radius: 0.35em;\">\n",
       "    several\n",
       "    <span style=\"font-size: 0.8em; font-weight: bold; line-height: 1; border-radius: 0.35em; vertical-align: middle; margin-left: 0.5rem\">ADJ</span>\n",
       "</mark>\n",
       " \n",
       "<mark class=\"entity\" style=\"background: #f41af7; padding: 0.45em 0.6em; margin: 0 0.25em; line-height: 1; border-radius: 0.35em;\">\n",
       "    times\n",
       "    <span style=\"font-size: 0.8em; font-weight: bold; line-height: 1; border-radius: 0.35em; vertical-align: middle; margin-left: 0.5rem\">NOUN</span>\n",
       "</mark>\n",
       " \n",
       "<mark class=\"entity\" style=\"background: #00da59; padding: 0.45em 0.6em; margin: 0 0.25em; line-height: 1; border-radius: 0.35em;\">\n",
       "    during\n",
       "    <span style=\"font-size: 0.8em; font-weight: bold; line-height: 1; border-radius: 0.35em; vertical-align: middle; margin-left: 0.5rem\">ADP</span>\n",
       "</mark>\n",
       " \n",
       "<mark class=\"entity\" style=\"background: #f41af7; padding: 0.45em 0.6em; margin: 0 0.25em; line-height: 1; border-radius: 0.35em;\">\n",
       "    cooking\n",
       "    <span style=\"font-size: 0.8em; font-weight: bold; line-height: 1; border-radius: 0.35em; vertical-align: middle; margin-left: 0.5rem\">NOUN</span>\n",
       "</mark>\n",
       " \n",
       "<mark class=\"entity\" style=\"background: #9eab8e; padding: 0.45em 0.6em; margin: 0 0.25em; line-height: 1; border-radius: 0.35em;\">\n",
       "    ..\n",
       "    <span style=\"font-size: 0.8em; font-weight: bold; line-height: 1; border-radius: 0.35em; vertical-align: middle; margin-left: 0.5rem\">PUNCT</span>\n",
       "</mark>\n",
       " \n",
       "<mark class=\"entity\" style=\"background: #6ba61a; padding: 0.45em 0.6em; margin: 0 0.25em; line-height: 1; border-radius: 0.35em;\">\n",
       "    And\n",
       "    <span style=\"font-size: 0.8em; font-weight: bold; line-height: 1; border-radius: 0.35em; vertical-align: middle; margin-left: 0.5rem\">CCONJ</span>\n",
       "</mark>\n",
       " \n",
       "<mark class=\"entity\" style=\"background: #748dcd; padding: 0.45em 0.6em; margin: 0 0.25em; line-height: 1; border-radius: 0.35em;\">\n",
       "    same\n",
       "    <span style=\"font-size: 0.8em; font-weight: bold; line-height: 1; border-radius: 0.35em; vertical-align: middle; margin-left: 0.5rem\">ADJ</span>\n",
       "</mark>\n",
       " \n",
       "<mark class=\"entity\" style=\"background: #bc3d52; padding: 0.45em 0.6em; margin: 0 0.25em; line-height: 1; border-radius: 0.35em;\">\n",
       "    was\n",
       "    <span style=\"font-size: 0.8em; font-weight: bold; line-height: 1; border-radius: 0.35em; vertical-align: middle; margin-left: 0.5rem\">AUX</span>\n",
       "</mark>\n",
       " \n",
       "<mark class=\"entity\" style=\"background: #00da59; padding: 0.45em 0.6em; margin: 0 0.25em; line-height: 1; border-radius: 0.35em;\">\n",
       "    with\n",
       "    <span style=\"font-size: 0.8em; font-weight: bold; line-height: 1; border-radius: 0.35em; vertical-align: middle; margin-left: 0.5rem\">ADP</span>\n",
       "</mark>\n",
       " \n",
       "<mark class=\"entity\" style=\"background: #f41af7; padding: 0.45em 0.6em; margin: 0 0.25em; line-height: 1; border-radius: 0.35em;\">\n",
       "    chicken\n",
       "    <span style=\"font-size: 0.8em; font-weight: bold; line-height: 1; border-radius: 0.35em; vertical-align: middle; margin-left: 0.5rem\">NOUN</span>\n",
       "</mark>\n",
       " \n",
       "<mark class=\"entity\" style=\"background: #f41af7; padding: 0.45em 0.6em; margin: 0 0.25em; line-height: 1; border-radius: 0.35em;\">\n",
       "    wings\n",
       "    <span style=\"font-size: 0.8em; font-weight: bold; line-height: 1; border-radius: 0.35em; vertical-align: middle; margin-left: 0.5rem\">NOUN</span>\n",
       "</mark>\n",
       " \n",
       "<mark class=\"entity\" style=\"background: #9eab8e; padding: 0.45em 0.6em; margin: 0 0.25em; line-height: 1; border-radius: 0.35em;\">\n",
       "    ...\n",
       "    <span style=\"font-size: 0.8em; font-weight: bold; line-height: 1; border-radius: 0.35em; vertical-align: middle; margin-left: 0.5rem\">PUNCT</span>\n",
       "</mark>\n",
       "</div></span>"
      ],
      "text/plain": [
       "<IPython.core.display.HTML object>"
      ]
     },
     "metadata": {},
     "output_type": "display_data"
    }
   ],
   "source": [
    "text = temp['review'][19]\n",
    "print(text)\n",
    "display_pos(text)"
   ]
  },
  {
   "cell_type": "markdown",
   "metadata": {},
   "source": [
    "'uneven cooking' --> ADJ + NN"
   ]
  },
  {
   "cell_type": "code",
   "execution_count": 110,
   "metadata": {
    "scrolled": true
   },
   "outputs": [
    {
     "data": {
      "text/plain": [
       "Int64Index([  1,  11,  15,  19,  33,  34,  39,  42,  52,  61,  62,  72,  73,\n",
       "             77,  82,  95, 109, 125, 144, 163, 173, 174, 175, 186, 196, 220,\n",
       "            228, 234, 236, 249, 251, 273, 291, 316, 338, 344, 349, 382, 407,\n",
       "            410, 423, 426, 429, 450, 466, 467, 476, 488, 494, 496, 515, 522,\n",
       "            523, 527, 528, 534],\n",
       "           dtype='int64')"
      ]
     },
     "execution_count": 110,
     "metadata": {},
     "output_type": "execute_result"
    }
   ],
   "source": [
    "temp.index"
   ]
  },
  {
   "cell_type": "markdown",
   "metadata": {},
   "source": [
    "'uneven cooking' --> ADJ + NOUN \n",
    "'broken handle' --> VERB + NOUN\n",
    "'very delicate' --> ADV + ADJ \n",
    "'made in china' --> VERB + ADP + PROPN\n",
    "'Not working' --> PART + VERB\n",
    "'easy to use' --> ADJ + PART + VERB\n",
    "'Issue with packaging' --> VERB + ADP + NOUN\n",
    "'1 use' --> NUM + NOUN\n",
    "'stoped working' --> VERB + VERB\n",
    "'user guide' --> NOUN + NOUN\n",
    "#'brand like Phillip' --> NOUN + ADP + PROPN\n",
    "#'go for havells or philips' --> VERB + ADP + NOUN + CCONJ + NOUN\n",
    "'handle quality is bad' --> NOUN + NOUN + AUX + ADJ"
   ]
  },
  {
   "cell_type": "code",
   "execution_count": 171,
   "metadata": {
    "scrolled": false
   },
   "outputs": [
    {
     "name": "stdout",
     "output_type": "stream",
     "text": [
      "I bought this product on 19th july and it stopped working abruptly after few days(the day I am writing this product the date is 2nd of august).Please go with a better brand like Prestige or Phillip's\n"
     ]
    },
    {
     "data": {
      "text/html": [
       "<span class=\"tex2jax_ignore\"><div class=\"entities\" style=\"line-height: 2.5; direction: ltr\">I bought this product on \n",
       "<mark class=\"entity\" style=\"background: #bfe1d9; padding: 0.45em 0.6em; margin: 0 0.25em; line-height: 1; border-radius: 0.35em;\">\n",
       "    19th july\n",
       "    <span style=\"font-size: 0.8em; font-weight: bold; line-height: 1; border-radius: 0.35em; vertical-align: middle; margin-left: 0.5rem\">DATE</span>\n",
       "</mark>\n",
       " and it stopped working abruptly after few days(the day I am writing this product the date is \n",
       "<mark class=\"entity\" style=\"background: #e4e7d2; padding: 0.45em 0.6em; margin: 0 0.25em; line-height: 1; border-radius: 0.35em;\">\n",
       "    2nd\n",
       "    <span style=\"font-size: 0.8em; font-weight: bold; line-height: 1; border-radius: 0.35em; vertical-align: middle; margin-left: 0.5rem\">ORDINAL</span>\n",
       "</mark>\n",
       " of august).Please go with a better brand like \n",
       "<mark class=\"entity\" style=\"background: #aa9cfc; padding: 0.45em 0.6em; margin: 0 0.25em; line-height: 1; border-radius: 0.35em;\">\n",
       "    Prestige\n",
       "    <span style=\"font-size: 0.8em; font-weight: bold; line-height: 1; border-radius: 0.35em; vertical-align: middle; margin-left: 0.5rem\">PERSON</span>\n",
       "</mark>\n",
       " or \n",
       "<mark class=\"entity\" style=\"background: #aa9cfc; padding: 0.45em 0.6em; margin: 0 0.25em; line-height: 1; border-radius: 0.35em;\">\n",
       "    Phillip\n",
       "    <span style=\"font-size: 0.8em; font-weight: bold; line-height: 1; border-radius: 0.35em; vertical-align: middle; margin-left: 0.5rem\">PERSON</span>\n",
       "</mark>\n",
       "'s</div></span>"
      ],
      "text/plain": [
       "<IPython.core.display.HTML object>"
      ]
     },
     "metadata": {},
     "output_type": "display_data"
    }
   ],
   "source": [
    "text = temp['review'][173]\n",
    "print(text)\n",
    "displacy.render(nlp(text),style='ent',jupyter=True)"
   ]
  },
  {
   "cell_type": "code",
   "execution_count": 182,
   "metadata": {},
   "outputs": [],
   "source": [
    "def match(pattern, doc, name):\n",
    "    from spacy.matcher import Matcher\n",
    "    from spacy.attrs import POS\n",
    "    matcher = Matcher(nlp.vocab)\n",
    "    if not any(isinstance(p, list) for p in pattern):\n",
    "        pattern = [pattern]\n",
    "    matcher.add(name,pattern)\n",
    "\n",
    "    return matcher(doc)"
   ]
  },
  {
   "cell_type": "code",
   "execution_count": 183,
   "metadata": {},
   "outputs": [],
   "source": [
    "pattern = [\n",
    "            {'POS': 'ADJ'}, \n",
    "            {'POS': 'NOUN'}\n",
    "        ]"
   ]
  },
  {
   "cell_type": "code",
   "execution_count": null,
   "metadata": {},
   "outputs": [],
   "source": [
    "text = df[df['Final label']=='neg']['review'].str.cat(sep=', ')\n",
    "doc = nlp(text)"
   ]
  },
  {
   "cell_type": "code",
   "execution_count": null,
   "metadata": {},
   "outputs": [],
   "source": [
    "found_matches = match(pattern,doc,'pattern')"
   ]
  },
  {
   "cell_type": "code",
   "execution_count": 188,
   "metadata": {},
   "outputs": [
    {
     "data": {
      "text/plain": [
       "76"
      ]
     },
     "execution_count": 188,
     "metadata": {},
     "output_type": "execute_result"
    }
   ],
   "source": [
    "features = []\n",
    "for i,start,end in found_matches:\n",
    "    features.append(doc[start:end])\n",
    "len(features)"
   ]
  },
  {
   "cell_type": "code",
   "execution_count": 179,
   "metadata": {},
   "outputs": [
    {
     "name": "stdout",
     "output_type": "stream",
     "text": [
      "[positive review, good things, fake commitments, prime day, great value, other products, first try, loose grip, more tries, other brand, other time, right side, plastic body, apparent damage, french fries, next lot, third time, poor mechanism, unlock mechanism, red color, second time, Top cover, heavy object, faulty product, first place, other fryers, other models, righteous choice, light use, cheap quality, dry light, first time, other compeny, uneven cooking, other raw, several times, defective piece, disappointing experience, defective product, Original package, inner container, second product, defective product, defective items, reliable amazon, 11th feb, next day, few items, particular product, major issues, regular basis, poor quality, Pathetic product, top part, good condition, broken box, new customer, good product, proper packaging, first time, worst condition, eject button, much heat, poor quality, Japanese brand, first sight, next day, poor quality, few operations, first day, Plastic smell, early use, defective motor, new unit, above surface, positive reviews, Damaged product, damaged product, defective product, non working, 19th aug, anytime break, instructional manual, 3rd use, local shop, difficult handle, hot food, fourth use, Poor quality, non stick, chinese product, better brand, worst brand, disappointed 😞, ur house, bad waste, faulty product, actual product, few cooking, Outer basket, definite improvement, other brand, front pannel, great product, second time, manual efforts, bad quality, last week, first time, Worst product, Defective product, pathetic customer, Chinese product, Worst product, defective product, bad product, much time, much time, defective product, Bad experience, 1st use, Chinese brand, Worst product, Lock switch, 19th october, same product, same issue, worst product, much trust, 1st use, cheap quality, honest review, 1st time, defective product, faulty piece, best service, ur customer, bad quality, conscious foodies, entire unit, second day, little bit, Little means, residential complex, initial experience, acceptable standards, highest temp, thin home, cheaper price, average product, delicate plastic, other kind, low quality, few bucks, bad product, good service, bad customer, poor quality, first day, second piece]\n"
     ]
    }
   ],
   "source": [
    "print(features)"
   ]
  },
  {
   "cell_type": "code",
   "execution_count": 228,
   "metadata": {},
   "outputs": [
    {
     "data": {
      "image/png": "[encoded data removed]",
      "text/plain": [
       "<Figure size 432x288 with 1 Axes>"
      ]
     },
     "metadata": {
      "needs_background": "light"
     },
     "output_type": "display_data"
    }
   ],
   "source": [
    "red_neg =' '.join([str(word) for word in features])\n",
    "wordcloud_neg = WordCloud(\n",
    "        background_color = 'black',\n",
    "        width = 1800,\n",
    "        height = 1400\n",
    "        ).generate(red_neg)\n",
    "plt.imshow(wordcloud_neg)\n",
    "plt.axis('off');"
   ]
  },
  {
   "cell_type": "markdown",
   "metadata": {},
   "source": [
    "Defective product - suggestions better quality standard check, packaging, built quality<br><br>\n",
    "\n",
    "Product breakdown in first few usage<br><br>\n",
    "\n",
    "Product design- plastic smell, handle, unlock mechanism, outer basket, inner container, uneven cooking, temperature, eject button, front pannel, rusting<br><br>\n",
    "\n",
    "service - customer service, no user guide/manual instructions, warranty card <br><br>\n",
    "\n",
    "Chinese product<br><br>"
   ]
  },
  {
   "cell_type": "code",
   "execution_count": 241,
   "metadata": {},
   "outputs": [],
   "source": [
    "pattern = [\n",
    "            {'POS': 'VERB'}, \n",
    "            {'POS':'ADP','OP':'?'},\n",
    "            {'POS': 'NOUN'}\n",
    "        ]"
   ]
  },
  {
   "cell_type": "code",
   "execution_count": 242,
   "metadata": {},
   "outputs": [],
   "source": [
    "text = df[df['Final label']=='neg']['review'].str.cat(sep=', ')\n",
    "doc = nlp(text)"
   ]
  },
  {
   "cell_type": "code",
   "execution_count": 243,
   "metadata": {},
   "outputs": [],
   "source": [
    "found_matches = match(pattern,doc,'pattern')"
   ]
  },
  {
   "cell_type": "code",
   "execution_count": 244,
   "metadata": {},
   "outputs": [
    {
     "data": {
      "text/plain": [
       "96"
      ]
     },
     "execution_count": 244,
     "metadata": {},
     "output_type": "execute_result"
    }
   ],
   "source": [
    "features = []\n",
    "for i,start,end in found_matches:\n",
    "    features.append(doc[start:end])\n",
    "len(features)"
   ]
  },
  {
   "cell_type": "code",
   "execution_count": 245,
   "metadata": {},
   "outputs": [
    {
     "name": "stdout",
     "output_type": "stream",
     "text": [
      "[using mccain, manufacturing defect, overlooked as box, delivered on evening, took lots, lasting product, lead to unlocking, removing contents, baking tray, rust developing, continue operation, purchased hairdryer, opened seal, working evening, broken handle, Received replacement, made of plastic, sealed by tape, opened box, have rust, attaching pics, requesting exchange, LURING PLANS, given by people, release push, providing stopper, burning smell, properly;Issues with packaging, assembled price, Built quality, clean food, came today, need replacement, Returned for refund, go for phillips, burning plastic, looking at majority, missing user, recipe book, contact support, broken handle, contacting customer, lodged complain, missing papers, avail warrenty, wasted time, need replacement, need money, replaced asap, facing switch, related issue, fried chicken, get smell, receive warranty, take care, burned mark, contact insalsa, peeling off oyn, fried food, cooking pan/, damaged product, cooked dishes, caught fire, take help, cook things, tried bhindi, damaged product, initiated retun, delivered today, damaged product, go for philips, u pls, avail warranty, know today, come today, return as product, purchased air, labeled products, release locking, asked for product, asking for refund, cheat customer, raising in consumer, burnt smell, go for havells, damaged as default, having replacemeny, called customer, requested for replacement, recommended time, get crispy, provided by company, Build quality, gain popularity, take action, give money]\n"
     ]
    }
   ],
   "source": [
    "print(features)"
   ]
  },
  {
   "cell_type": "code",
   "execution_count": null,
   "metadata": {},
   "outputs": [],
   "source": []
  },
  {
   "cell_type": "code",
   "execution_count": null,
   "metadata": {},
   "outputs": [],
   "source": []
  },
  {
   "cell_type": "markdown",
   "metadata": {},
   "source": [
    "## Topic modelling"
   ]
  },
  {
   "cell_type": "code",
   "execution_count": 205,
   "metadata": {},
   "outputs": [],
   "source": [
    "from sklearn.feature_extraction.text import CountVectorizer\n",
    "cv = CountVectorizer(stop_words='english')"
   ]
  },
  {
   "cell_type": "code",
   "execution_count": 246,
   "metadata": {},
   "outputs": [
    {
     "data": {
      "text/plain": [
       "<137x867 sparse matrix of type '<class 'numpy.int64'>'\n",
       "\twith 1832 stored elements in Compressed Sparse Row format>"
      ]
     },
     "execution_count": 246,
     "metadata": {},
     "output_type": "execute_result"
    }
   ],
   "source": [
    "dtm = cv.fit_transform(neg_review['cleaned review'])\n",
    "dtm"
   ]
  },
  {
   "cell_type": "code",
   "execution_count": 253,
   "metadata": {},
   "outputs": [],
   "source": [
    "# Perform LDA\n",
    "from sklearn.decomposition import LatentDirichletAllocation\n",
    "lda = LatentDirichletAllocation(n_components=2,random_state=42) # No of components is number of topics you expect"
   ]
  },
  {
   "cell_type": "code",
   "execution_count": 255,
   "metadata": {},
   "outputs": [
    {
     "data": {
      "text/plain": [
       "LatentDirichletAllocation(batch_size=128, doc_topic_prior=None,\n",
       "                          evaluate_every=-1, learning_decay=0.7,\n",
       "                          learning_method='batch', learning_offset=10.0,\n",
       "                          max_doc_update_iter=100, max_iter=10,\n",
       "                          mean_change_tol=0.001, n_components=2, n_jobs=None,\n",
       "                          perp_tol=0.1, random_state=42, topic_word_prior=None,\n",
       "                          total_samples=1000000.0, verbose=0)"
      ]
     },
     "execution_count": 255,
     "metadata": {},
     "output_type": "execute_result"
    }
   ],
   "source": [
    "lda.fit(dtm)"
   ]
  },
  {
   "cell_type": "code",
   "execution_count": 256,
   "metadata": {},
   "outputs": [
    {
     "name": "stdout",
     "output_type": "stream",
     "text": [
      "Top 20 words for Topic #0 :\n",
      "['dont', 'doesnt', 'work', 'use', 'box', 'warranty', 'defective', 'buy', 'stopped', 'inalsa', 'today', 'received', 'service', 'time', 'got', 'heating', 'damaged', 'customer', 'working', 'product']\n",
      "\n",
      "\n",
      "\n",
      "Top 20 words for Topic #1 :\n",
      "['inalsa', 'basket', 'return', 'amazon', 'poor', 'cooking', 'day', 'broken', 'air', 'time', 'food', 'got', 'bad', 'stopped', 'fryer', 'use', 'quality', 'handle', 'working', 'product']\n",
      "\n",
      "\n",
      "\n"
     ]
    }
   ],
   "source": [
    "# Grab highest probability words per topic\n",
    "for i in range(len(lda.components_)):\n",
    "    print(f'Top 20 words for Topic #{i} :') \n",
    "    single_topic = lda.components_[i]\n",
    "    single_topic.argsort() # sorts the values from lowest to highest returning a list of indices, gives the index we must look for highest probability\n",
    "    # top 10 words with highest probability values is given by \n",
    "    print([cv.get_feature_names()[index] for index in single_topic.argsort()[-20:]])\n",
    "    print('\\n\\n')"
   ]
  },
  {
   "cell_type": "code",
   "execution_count": null,
   "metadata": {},
   "outputs": [],
   "source": [
    "Topic #0 : customer service, defective product, stopped working/doesnt work\n",
    "Topic #1 : handle, basket, quality, broken, issues with food, cooking time - design and built quality"
   ]
  },
  {
   "cell_type": "code",
   "execution_count": 257,
   "metadata": {},
   "outputs": [
    {
     "name": "stderr",
     "output_type": "stream",
     "text": [
      "<ipython-input-257-be4449f34853>:2: SettingWithCopyWarning: \n",
      "A value is trying to be set on a copy of a slice from a DataFrame.\n",
      "Try using .loc[row_indexer,col_indexer] = value instead\n",
      "\n",
      "See the caveats in the documentation: http://pandas.pydata.org/pandas-docs/stable/user_guide/indexing.html#returning-a-view-versus-a-copy\n",
      "  neg_review['Topic']=topic_results.argmax(axis=1)\n"
     ]
    },
    {
     "data": {
      "text/html": [
       "<div>\n",
       "<style scoped>\n",
       "    .dataframe tbody tr th:only-of-type {\n",
       "        vertical-align: middle;\n",
       "    }\n",
       "\n",
       "    .dataframe tbody tr th {\n",
       "        vertical-align: top;\n",
       "    }\n",
       "\n",
       "    .dataframe thead th {\n",
       "        text-align: right;\n",
       "    }\n",
       "</style>\n",
       "<table border=\"1\" class=\"dataframe\">\n",
       "  <thead>\n",
       "    <tr style=\"text-align: right;\">\n",
       "      <th></th>\n",
       "      <th>rating</th>\n",
       "      <th>review</th>\n",
       "      <th>rating_label</th>\n",
       "      <th>compound_score</th>\n",
       "      <th>vader_label</th>\n",
       "      <th>Final label</th>\n",
       "      <th>cleaned review</th>\n",
       "      <th>summary</th>\n",
       "      <th>Topic</th>\n",
       "    </tr>\n",
       "  </thead>\n",
       "  <tbody>\n",
       "    <tr>\n",
       "      <th>1</th>\n",
       "      <td>1.0</td>\n",
       "      <td>Earlier I gave a positive review, but after us...</td>\n",
       "      <td>neg</td>\n",
       "      <td>0.7941</td>\n",
       "      <td>pos</td>\n",
       "      <td>neg</td>\n",
       "      <td>Earlier I gave a positive review but after usi...</td>\n",
       "      <td>positive review to take good things said about...</td>\n",
       "      <td>0</td>\n",
       "    </tr>\n",
       "    <tr>\n",
       "      <th>3</th>\n",
       "      <td>2.0</td>\n",
       "      <td>I bought this in the prime day sale on 15th Ju...</td>\n",
       "      <td>neg</td>\n",
       "      <td>-0.6808</td>\n",
       "      <td>neg</td>\n",
       "      <td>neg</td>\n",
       "      <td>I bought this in the prime day sale on th July...</td>\n",
       "      <td>prime day day sale brand value inalsa products...</td>\n",
       "      <td>0</td>\n",
       "    </tr>\n",
       "    <tr>\n",
       "      <th>4</th>\n",
       "      <td>1.0</td>\n",
       "      <td>Product has manufacturing defect as the right ...</td>\n",
       "      <td>neg</td>\n",
       "      <td>-0.8519</td>\n",
       "      <td>neg</td>\n",
       "      <td>neg</td>\n",
       "      <td>Product has manufacturing defect as the right ...</td>\n",
       "      <td>has manufacturing manufacturing defect right s...</td>\n",
       "      <td>0</td>\n",
       "    </tr>\n",
       "    <tr>\n",
       "      <th>7</th>\n",
       "      <td>1.0</td>\n",
       "      <td>An impulse purchase based on Inalsa Brand name...</td>\n",
       "      <td>neg</td>\n",
       "      <td>-0.2263</td>\n",
       "      <td>neg</td>\n",
       "      <td>neg</td>\n",
       "      <td>An impulse purchase based on Inalsa Brand name...</td>\n",
       "      <td>impulse purchase based on based on Inalsa deli...</td>\n",
       "      <td>1</td>\n",
       "    </tr>\n",
       "    <tr>\n",
       "      <th>9</th>\n",
       "      <td>1.0</td>\n",
       "      <td>Paint of the baking tray coming off.  If its p...</td>\n",
       "      <td>neg</td>\n",
       "      <td>-0.1280</td>\n",
       "      <td>neg</td>\n",
       "      <td>neg</td>\n",
       "      <td>Paint of the baking tray coming off  If its pa...</td>\n",
       "      <td>baking tray coming off healthThen rust rust de...</td>\n",
       "      <td>0</td>\n",
       "    </tr>\n",
       "    <tr>\n",
       "      <th>...</th>\n",
       "      <td>...</td>\n",
       "      <td>...</td>\n",
       "      <td>...</td>\n",
       "      <td>...</td>\n",
       "      <td>...</td>\n",
       "      <td>...</td>\n",
       "      <td>...</td>\n",
       "      <td>...</td>\n",
       "      <td>...</td>\n",
       "    </tr>\n",
       "    <tr>\n",
       "      <th>528</th>\n",
       "      <td>2.0</td>\n",
       "      <td>An average product with delicate plastic compo...</td>\n",
       "      <td>neg</td>\n",
       "      <td>0.2732</td>\n",
       "      <td>pos</td>\n",
       "      <td>neg</td>\n",
       "      <td>An average product with delicate plastic compo...</td>\n",
       "      <td>average product delicate plastic plastic compo...</td>\n",
       "      <td>0</td>\n",
       "    </tr>\n",
       "    <tr>\n",
       "      <th>534</th>\n",
       "      <td>3.0</td>\n",
       "      <td>Very low quality product plus the lock got dam...</td>\n",
       "      <td>pos</td>\n",
       "      <td>-0.4201</td>\n",
       "      <td>neg</td>\n",
       "      <td>neg</td>\n",
       "      <td>Very low quality product plus the lock got dam...</td>\n",
       "      <td>low quality quality product damaged in to pay ...</td>\n",
       "      <td>0</td>\n",
       "    </tr>\n",
       "    <tr>\n",
       "      <th>550</th>\n",
       "      <td>1.0</td>\n",
       "      <td>Stopped working only after a month. Very bad p...</td>\n",
       "      <td>neg</td>\n",
       "      <td>-0.4818</td>\n",
       "      <td>neg</td>\n",
       "      <td>neg</td>\n",
       "      <td>Stopped working only after a month Very bad pr...</td>\n",
       "      <td>Stopped working bad product nt buy</td>\n",
       "      <td>0</td>\n",
       "    </tr>\n",
       "    <tr>\n",
       "      <th>553</th>\n",
       "      <td>1.0</td>\n",
       "      <td>We expected good service but I salsa is very b...</td>\n",
       "      <td>neg</td>\n",
       "      <td>-0.6046</td>\n",
       "      <td>neg</td>\n",
       "      <td>neg</td>\n",
       "      <td>We expected good service but I salsa is very b...</td>\n",
       "      <td>good service bad customer take action insala p...</td>\n",
       "      <td>0</td>\n",
       "    </tr>\n",
       "    <tr>\n",
       "      <th>555</th>\n",
       "      <td>1.0</td>\n",
       "      <td>Hate to say I order two for my sister to gift ...</td>\n",
       "      <td>neg</td>\n",
       "      <td>-0.9100</td>\n",
       "      <td>neg</td>\n",
       "      <td>neg</td>\n",
       "      <td>Hate to say I order two for my sister to gift ...</td>\n",
       "      <td>to say poor quality made handle first day seco...</td>\n",
       "      <td>1</td>\n",
       "    </tr>\n",
       "  </tbody>\n",
       "</table>\n",
       "<p>137 rows × 9 columns</p>\n",
       "</div>"
      ],
      "text/plain": [
       "     rating                                             review rating_label  \\\n",
       "1       1.0  Earlier I gave a positive review, but after us...          neg   \n",
       "3       2.0  I bought this in the prime day sale on 15th Ju...          neg   \n",
       "4       1.0  Product has manufacturing defect as the right ...          neg   \n",
       "7       1.0  An impulse purchase based on Inalsa Brand name...          neg   \n",
       "9       1.0  Paint of the baking tray coming off.  If its p...          neg   \n",
       "..      ...                                                ...          ...   \n",
       "528     2.0  An average product with delicate plastic compo...          neg   \n",
       "534     3.0  Very low quality product plus the lock got dam...          pos   \n",
       "550     1.0  Stopped working only after a month. Very bad p...          neg   \n",
       "553     1.0  We expected good service but I salsa is very b...          neg   \n",
       "555     1.0  Hate to say I order two for my sister to gift ...          neg   \n",
       "\n",
       "     compound_score vader_label Final label  \\\n",
       "1            0.7941         pos         neg   \n",
       "3           -0.6808         neg         neg   \n",
       "4           -0.8519         neg         neg   \n",
       "7           -0.2263         neg         neg   \n",
       "9           -0.1280         neg         neg   \n",
       "..              ...         ...         ...   \n",
       "528          0.2732         pos         neg   \n",
       "534         -0.4201         neg         neg   \n",
       "550         -0.4818         neg         neg   \n",
       "553         -0.6046         neg         neg   \n",
       "555         -0.9100         neg         neg   \n",
       "\n",
       "                                        cleaned review  \\\n",
       "1    Earlier I gave a positive review but after usi...   \n",
       "3    I bought this in the prime day sale on th July...   \n",
       "4    Product has manufacturing defect as the right ...   \n",
       "7    An impulse purchase based on Inalsa Brand name...   \n",
       "9    Paint of the baking tray coming off  If its pa...   \n",
       "..                                                 ...   \n",
       "528  An average product with delicate plastic compo...   \n",
       "534  Very low quality product plus the lock got dam...   \n",
       "550  Stopped working only after a month Very bad pr...   \n",
       "553  We expected good service but I salsa is very b...   \n",
       "555  Hate to say I order two for my sister to gift ...   \n",
       "\n",
       "                                               summary  Topic  \n",
       "1    positive review to take good things said about...      0  \n",
       "3    prime day day sale brand value inalsa products...      0  \n",
       "4    has manufacturing manufacturing defect right s...      0  \n",
       "7    impulse purchase based on based on Inalsa deli...      1  \n",
       "9    baking tray coming off healthThen rust rust de...      0  \n",
       "..                                                 ...    ...  \n",
       "528  average product delicate plastic plastic compo...      0  \n",
       "534  low quality quality product damaged in to pay ...      0  \n",
       "550                 Stopped working bad product nt buy      0  \n",
       "553  good service bad customer take action insala p...      0  \n",
       "555  to say poor quality made handle first day seco...      1  \n",
       "\n",
       "[137 rows x 9 columns]"
      ]
     },
     "execution_count": 257,
     "metadata": {},
     "output_type": "execute_result"
    }
   ],
   "source": [
    "topic_results = lda.transform(dtm)\n",
    "neg_review['Topic']=topic_results.argmax(axis=1)\n",
    "neg_review"
   ]
  },
  {
   "cell_type": "code",
   "execution_count": 258,
   "metadata": {},
   "outputs": [
    {
     "name": "stderr",
     "output_type": "stream",
     "text": [
      "C:\\Users\\priya\\anaconda3\\lib\\site-packages\\seaborn\\_decorators.py:36: FutureWarning: Pass the following variable as a keyword arg: x. From version 0.12, the only valid positional argument will be `data`, and passing other arguments without an explicit keyword will result in an error or misinterpretation.\n",
      "  warnings.warn(\n"
     ]
    },
    {
     "data": {
      "text/plain": [
       "<AxesSubplot:xlabel='Topic', ylabel='count'>"
      ]
     },
     "execution_count": 258,
     "metadata": {},
     "output_type": "execute_result"
    },
    {
     "data": {
      "image/png": "[encoded data removed]",
      "text/plain": [
       "<Figure size 432x288 with 1 Axes>"
      ]
     },
     "metadata": {
      "needs_background": "light"
     },
     "output_type": "display_data"
    }
   ],
   "source": [
    "sns.countplot(neg_review['Topic'])"
   ]
  },
  {
   "cell_type": "code",
   "execution_count": null,
   "metadata": {},
   "outputs": [],
   "source": []
  },
  {
   "cell_type": "markdown",
   "metadata": {},
   "source": [
    "## Competitor products"
   ]
  },
  {
   "cell_type": "code",
   "execution_count": 2,
   "metadata": {
    "ExecuteTime": {
     "end_time": "2021-04-17T10:29:51.147216Z",
     "start_time": "2021-04-17T10:29:50.933002Z"
    }
   },
   "outputs": [
    {
     "name": "stdout",
     "output_type": "stream",
     "text": [
      "(691, 4)\n"
     ]
    },
    {
     "data": {
      "text/html": [
       "<div>\n",
       "<style scoped>\n",
       "    .dataframe tbody tr th:only-of-type {\n",
       "        vertical-align: middle;\n",
       "    }\n",
       "\n",
       "    .dataframe tbody tr th {\n",
       "        vertical-align: top;\n",
       "    }\n",
       "\n",
       "    .dataframe thead th {\n",
       "        text-align: right;\n",
       "    }\n",
       "</style>\n",
       "<table border=\"1\" class=\"dataframe\">\n",
       "  <thead>\n",
       "    <tr style=\"text-align: right;\">\n",
       "      <th></th>\n",
       "      <th>review_title</th>\n",
       "      <th>rating</th>\n",
       "      <th>review</th>\n",
       "      <th>date</th>\n",
       "    </tr>\n",
       "  </thead>\n",
       "  <tbody>\n",
       "    <tr>\n",
       "      <th>0</th>\n",
       "      <td>Great 4.5 L Air fryer. Works nice. Looks great!</td>\n",
       "      <td>4.0</td>\n",
       "      <td>First review : Got this a week back and so far...</td>\n",
       "      <td>3-Feb-21</td>\n",
       "    </tr>\n",
       "    <tr>\n",
       "      <th>1</th>\n",
       "      <td>An emerging brand that is gonna give a tough c...</td>\n",
       "      <td>5.0</td>\n",
       "      <td>The fryer feels premium and is working really ...</td>\n",
       "      <td>26-Mar-21</td>\n",
       "    </tr>\n",
       "    <tr>\n",
       "      <th>2</th>\n",
       "      <td>Nice, easy to use , make the food real fast an...</td>\n",
       "      <td>4.0</td>\n",
       "      <td>It seems to be nice. It makes food really cris...</td>\n",
       "      <td>9-Feb-21</td>\n",
       "    </tr>\n",
       "    <tr>\n",
       "      <th>3</th>\n",
       "      <td>Varada's Great Air Fryer  first time I am usin...</td>\n",
       "      <td>5.0</td>\n",
       "      <td>4.5 lit capacity Air fryer will fits the need ...</td>\n",
       "      <td>16-Mar-21</td>\n",
       "    </tr>\n",
       "    <tr>\n",
       "      <th>4</th>\n",
       "      <td>Elegant red air fryer..must buy</td>\n",
       "      <td>4.0</td>\n",
       "      <td>Amazing product ,it's very user friendly and t...</td>\n",
       "      <td>27-Mar-21</td>\n",
       "    </tr>\n",
       "  </tbody>\n",
       "</table>\n",
       "</div>"
      ],
      "text/plain": [
       "                                        review_title  rating  \\\n",
       "0    Great 4.5 L Air fryer. Works nice. Looks great!     4.0   \n",
       "1  An emerging brand that is gonna give a tough c...     5.0   \n",
       "2  Nice, easy to use , make the food real fast an...     4.0   \n",
       "3  Varada's Great Air Fryer  first time I am usin...     5.0   \n",
       "4                    Elegant red air fryer..must buy     4.0   \n",
       "\n",
       "                                              review       date  \n",
       "0  First review : Got this a week back and so far...   3-Feb-21  \n",
       "1  The fryer feels premium and is working really ...  26-Mar-21  \n",
       "2  It seems to be nice. It makes food really cris...   9-Feb-21  \n",
       "3  4.5 lit capacity Air fryer will fits the need ...  16-Mar-21  \n",
       "4  Amazing product ,it's very user friendly and t...  27-Mar-21  "
      ]
     },
     "execution_count": 2,
     "metadata": {},
     "output_type": "execute_result"
    }
   ],
   "source": [
    "Varada_data = pd.read_csv(\"Varada_reviews.csv\")\n",
    "American_data = pd.read_csv(\"Americanmicronic_reviews.csv\")\n",
    "philipsneg_data = pd.read_csv(\"bestsellerphillips_negreviews.csv\")\n",
    "philipspos_data = pd.read_csv(\"bestsellerphillips_posreviews.csv\")\n",
    "\n",
    "\n",
    "data = pd.concat([Varada_data,American_data, philipsneg_data,philipspos_data])\n",
    "data = data.rename(columns = {'title': 'review_title', 'rating': 'rating', 'body': 'review','date':'date'}, inplace = False)\n",
    "print(data.shape)\n",
    "data.head()"
   ]
  },
  {
   "cell_type": "code",
   "execution_count": 3,
   "metadata": {
    "ExecuteTime": {
     "end_time": "2021-04-17T10:29:53.496453Z",
     "start_time": "2021-04-17T10:29:53.477453Z"
    }
   },
   "outputs": [
    {
     "name": "stdout",
     "output_type": "stream",
     "text": [
      "691\n"
     ]
    },
    {
     "data": {
      "text/html": [
       "<div>\n",
       "<style scoped>\n",
       "    .dataframe tbody tr th:only-of-type {\n",
       "        vertical-align: middle;\n",
       "    }\n",
       "\n",
       "    .dataframe tbody tr th {\n",
       "        vertical-align: top;\n",
       "    }\n",
       "\n",
       "    .dataframe thead th {\n",
       "        text-align: right;\n",
       "    }\n",
       "</style>\n",
       "<table border=\"1\" class=\"dataframe\">\n",
       "  <thead>\n",
       "    <tr style=\"text-align: right;\">\n",
       "      <th></th>\n",
       "      <th>rating</th>\n",
       "      <th>review</th>\n",
       "    </tr>\n",
       "  </thead>\n",
       "  <tbody>\n",
       "    <tr>\n",
       "      <th>0</th>\n",
       "      <td>4.0</td>\n",
       "      <td>First review : Got this a week back and so far...</td>\n",
       "    </tr>\n",
       "    <tr>\n",
       "      <th>1</th>\n",
       "      <td>5.0</td>\n",
       "      <td>The fryer feels premium and is working really ...</td>\n",
       "    </tr>\n",
       "    <tr>\n",
       "      <th>2</th>\n",
       "      <td>4.0</td>\n",
       "      <td>It seems to be nice. It makes food really cris...</td>\n",
       "    </tr>\n",
       "    <tr>\n",
       "      <th>3</th>\n",
       "      <td>5.0</td>\n",
       "      <td>4.5 lit capacity Air fryer will fits the need ...</td>\n",
       "    </tr>\n",
       "    <tr>\n",
       "      <th>4</th>\n",
       "      <td>4.0</td>\n",
       "      <td>Amazing product ,it's very user friendly and t...</td>\n",
       "    </tr>\n",
       "  </tbody>\n",
       "</table>\n",
       "</div>"
      ],
      "text/plain": [
       "   rating                                             review\n",
       "0     4.0  First review : Got this a week back and so far...\n",
       "1     5.0  The fryer feels premium and is working really ...\n",
       "2     4.0  It seems to be nice. It makes food really cris...\n",
       "3     5.0  4.5 lit capacity Air fryer will fits the need ...\n",
       "4     4.0  Amazing product ,it's very user friendly and t..."
      ]
     },
     "execution_count": 3,
     "metadata": {},
     "output_type": "execute_result"
    }
   ],
   "source": [
    "df = data.copy().drop(columns=['date', 'review_title'])\n",
    "print(len(df))\n",
    "df.head()"
   ]
  },
  {
   "cell_type": "code",
   "execution_count": 4,
   "metadata": {
    "ExecuteTime": {
     "end_time": "2021-04-17T10:29:56.486529Z",
     "start_time": "2021-04-17T10:29:56.065987Z"
    },
    "scrolled": true
   },
   "outputs": [
    {
     "data": {
      "image/png": "[encoded data removed]",
      "text/plain": [
       "<Figure size 432x288 with 1 Axes>"
      ]
     },
     "metadata": {
      "needs_background": "light"
     },
     "output_type": "display_data"
    }
   ],
   "source": [
    "sns.countplot(data= df, x='rating')\n",
    "plt.title('Distribution of ratings');"
   ]
  },
  {
   "cell_type": "code",
   "execution_count": 5,
   "metadata": {
    "ExecuteTime": {
     "end_time": "2021-04-17T10:29:58.710927Z",
     "start_time": "2021-04-17T10:29:58.702928Z"
    }
   },
   "outputs": [],
   "source": [
    "def labeling(rating):\n",
    "    if rating >=3:\n",
    "        return 'pos'\n",
    "    else:\n",
    "        return 'neg'"
   ]
  },
  {
   "cell_type": "code",
   "execution_count": 6,
   "metadata": {
    "ExecuteTime": {
     "end_time": "2021-04-17T10:30:00.727326Z",
     "start_time": "2021-04-17T10:30:00.704281Z"
    }
   },
   "outputs": [
    {
     "data": {
      "text/html": [
       "<div>\n",
       "<style scoped>\n",
       "    .dataframe tbody tr th:only-of-type {\n",
       "        vertical-align: middle;\n",
       "    }\n",
       "\n",
       "    .dataframe tbody tr th {\n",
       "        vertical-align: top;\n",
       "    }\n",
       "\n",
       "    .dataframe thead th {\n",
       "        text-align: right;\n",
       "    }\n",
       "</style>\n",
       "<table border=\"1\" class=\"dataframe\">\n",
       "  <thead>\n",
       "    <tr style=\"text-align: right;\">\n",
       "      <th></th>\n",
       "      <th>rating</th>\n",
       "      <th>review</th>\n",
       "      <th>rating_label</th>\n",
       "    </tr>\n",
       "  </thead>\n",
       "  <tbody>\n",
       "    <tr>\n",
       "      <th>0</th>\n",
       "      <td>4.0</td>\n",
       "      <td>First review : Got this a week back and so far...</td>\n",
       "      <td>pos</td>\n",
       "    </tr>\n",
       "    <tr>\n",
       "      <th>1</th>\n",
       "      <td>5.0</td>\n",
       "      <td>The fryer feels premium and is working really ...</td>\n",
       "      <td>pos</td>\n",
       "    </tr>\n",
       "    <tr>\n",
       "      <th>2</th>\n",
       "      <td>4.0</td>\n",
       "      <td>It seems to be nice. It makes food really cris...</td>\n",
       "      <td>pos</td>\n",
       "    </tr>\n",
       "    <tr>\n",
       "      <th>3</th>\n",
       "      <td>5.0</td>\n",
       "      <td>4.5 lit capacity Air fryer will fits the need ...</td>\n",
       "      <td>pos</td>\n",
       "    </tr>\n",
       "    <tr>\n",
       "      <th>4</th>\n",
       "      <td>4.0</td>\n",
       "      <td>Amazing product ,it's very user friendly and t...</td>\n",
       "      <td>pos</td>\n",
       "    </tr>\n",
       "  </tbody>\n",
       "</table>\n",
       "</div>"
      ],
      "text/plain": [
       "   rating                                             review rating_label\n",
       "0     4.0  First review : Got this a week back and so far...          pos\n",
       "1     5.0  The fryer feels premium and is working really ...          pos\n",
       "2     4.0  It seems to be nice. It makes food really cris...          pos\n",
       "3     5.0  4.5 lit capacity Air fryer will fits the need ...          pos\n",
       "4     4.0  Amazing product ,it's very user friendly and t...          pos"
      ]
     },
     "execution_count": 6,
     "metadata": {},
     "output_type": "execute_result"
    }
   ],
   "source": [
    "df['rating_label'] = df['rating'].apply(labeling)\n",
    "df.head()"
   ]
  },
  {
   "cell_type": "code",
   "execution_count": 7,
   "metadata": {
    "ExecuteTime": {
     "end_time": "2021-04-17T10:30:04.175683Z",
     "start_time": "2021-04-17T10:30:03.676751Z"
    },
    "scrolled": true
   },
   "outputs": [
    {
     "data": {
      "text/html": [
       "<div>\n",
       "<style scoped>\n",
       "    .dataframe tbody tr th:only-of-type {\n",
       "        vertical-align: middle;\n",
       "    }\n",
       "\n",
       "    .dataframe tbody tr th {\n",
       "        vertical-align: top;\n",
       "    }\n",
       "\n",
       "    .dataframe thead th {\n",
       "        text-align: right;\n",
       "    }\n",
       "</style>\n",
       "<table border=\"1\" class=\"dataframe\">\n",
       "  <thead>\n",
       "    <tr style=\"text-align: right;\">\n",
       "      <th></th>\n",
       "      <th>rating</th>\n",
       "      <th>review</th>\n",
       "      <th>rating_label</th>\n",
       "      <th>compound_score</th>\n",
       "      <th>vader_label</th>\n",
       "    </tr>\n",
       "  </thead>\n",
       "  <tbody>\n",
       "    <tr>\n",
       "      <th>0</th>\n",
       "      <td>4.0</td>\n",
       "      <td>First review : Got this a week back and so far...</td>\n",
       "      <td>pos</td>\n",
       "      <td>0.8020</td>\n",
       "      <td>pos</td>\n",
       "    </tr>\n",
       "    <tr>\n",
       "      <th>1</th>\n",
       "      <td>5.0</td>\n",
       "      <td>The fryer feels premium and is working really ...</td>\n",
       "      <td>pos</td>\n",
       "      <td>0.9406</td>\n",
       "      <td>pos</td>\n",
       "    </tr>\n",
       "    <tr>\n",
       "      <th>2</th>\n",
       "      <td>4.0</td>\n",
       "      <td>It seems to be nice. It makes food really cris...</td>\n",
       "      <td>pos</td>\n",
       "      <td>0.3818</td>\n",
       "      <td>pos</td>\n",
       "    </tr>\n",
       "    <tr>\n",
       "      <th>3</th>\n",
       "      <td>5.0</td>\n",
       "      <td>4.5 lit capacity Air fryer will fits the need ...</td>\n",
       "      <td>pos</td>\n",
       "      <td>0.9774</td>\n",
       "      <td>pos</td>\n",
       "    </tr>\n",
       "    <tr>\n",
       "      <th>4</th>\n",
       "      <td>4.0</td>\n",
       "      <td>Amazing product ,it's very user friendly and t...</td>\n",
       "      <td>pos</td>\n",
       "      <td>0.8801</td>\n",
       "      <td>pos</td>\n",
       "    </tr>\n",
       "  </tbody>\n",
       "</table>\n",
       "</div>"
      ],
      "text/plain": [
       "   rating                                             review rating_label  \\\n",
       "0     4.0  First review : Got this a week back and so far...          pos   \n",
       "1     5.0  The fryer feels premium and is working really ...          pos   \n",
       "2     4.0  It seems to be nice. It makes food really cris...          pos   \n",
       "3     5.0  4.5 lit capacity Air fryer will fits the need ...          pos   \n",
       "4     4.0  Amazing product ,it's very user friendly and t...          pos   \n",
       "\n",
       "   compound_score vader_label  \n",
       "0          0.8020         pos  \n",
       "1          0.9406         pos  \n",
       "2          0.3818         pos  \n",
       "3          0.9774         pos  \n",
       "4          0.8801         pos  "
      ]
     },
     "execution_count": 7,
     "metadata": {},
     "output_type": "execute_result"
    }
   ],
   "source": [
    "sid = SentimentIntensityAnalyzer()\n",
    "\n",
    "df['compound_score'] = df['review'].apply(lambda review: sid.polarity_scores(review)).apply(lambda score_dict: score_dict['compound'])\n",
    "# = df['scores']\n",
    "df['vader_label'] = df['compound_score'].apply(lambda c: 'pos' if c >= 0 else 'neg')\n",
    "df.head()"
   ]
  },
  {
   "cell_type": "code",
   "execution_count": 9,
   "metadata": {
    "ExecuteTime": {
     "end_time": "2021-04-17T10:30:21.421381Z",
     "start_time": "2021-04-17T10:30:21.400383Z"
    }
   },
   "outputs": [
    {
     "name": "stdout",
     "output_type": "stream",
     "text": [
      "Number of label mismatches: 87\n"
     ]
    }
   ],
   "source": [
    "temp = df[df['vader_label']!=df['rating_label']]\n",
    "print(f'Number of label mismatches: {len(temp)}')"
   ]
  },
  {
   "cell_type": "code",
   "execution_count": 10,
   "metadata": {
    "ExecuteTime": {
     "end_time": "2021-04-17T10:30:23.045635Z",
     "start_time": "2021-04-17T10:30:23.020688Z"
    },
    "scrolled": true
   },
   "outputs": [
    {
     "data": {
      "text/html": [
       "<div>\n",
       "<style scoped>\n",
       "    .dataframe tbody tr th:only-of-type {\n",
       "        vertical-align: middle;\n",
       "    }\n",
       "\n",
       "    .dataframe tbody tr th {\n",
       "        vertical-align: top;\n",
       "    }\n",
       "\n",
       "    .dataframe thead th {\n",
       "        text-align: right;\n",
       "    }\n",
       "</style>\n",
       "<table border=\"1\" class=\"dataframe\">\n",
       "  <thead>\n",
       "    <tr style=\"text-align: right;\">\n",
       "      <th></th>\n",
       "      <th>rating</th>\n",
       "      <th>review</th>\n",
       "      <th>rating_label</th>\n",
       "      <th>compound_score</th>\n",
       "      <th>vader_label</th>\n",
       "    </tr>\n",
       "  </thead>\n",
       "  <tbody>\n",
       "    <tr>\n",
       "      <th>7</th>\n",
       "      <td>5.0</td>\n",
       "      <td>I used to go to gym so I had to eat chicken da...</td>\n",
       "      <td>pos</td>\n",
       "      <td>-0.2003</td>\n",
       "      <td>neg</td>\n",
       "    </tr>\n",
       "    <tr>\n",
       "      <th>1</th>\n",
       "      <td>1.0</td>\n",
       "      <td>I purchased this in 2017, and have been using ...</td>\n",
       "      <td>neg</td>\n",
       "      <td>0.6655</td>\n",
       "      <td>pos</td>\n",
       "    </tr>\n",
       "    <tr>\n",
       "      <th>7</th>\n",
       "      <td>3.0</td>\n",
       "      <td>Air fryer is not bad. Well worth money? Kinda....</td>\n",
       "      <td>pos</td>\n",
       "      <td>-0.1910</td>\n",
       "      <td>neg</td>\n",
       "    </tr>\n",
       "    <tr>\n",
       "      <th>31</th>\n",
       "      <td>1.0</td>\n",
       "      <td>Better go buy a conventional oven it's better ...</td>\n",
       "      <td>neg</td>\n",
       "      <td>0.9417</td>\n",
       "      <td>pos</td>\n",
       "    </tr>\n",
       "    <tr>\n",
       "      <th>32</th>\n",
       "      <td>5.0</td>\n",
       "      <td>Used for 6 months now. Nice product. Not easy ...</td>\n",
       "      <td>pos</td>\n",
       "      <td>-0.5520</td>\n",
       "      <td>neg</td>\n",
       "    </tr>\n",
       "    <tr>\n",
       "      <th>36</th>\n",
       "      <td>1.0</td>\n",
       "      <td>Product  not in working condition even power a...</td>\n",
       "      <td>neg</td>\n",
       "      <td>0.3724</td>\n",
       "      <td>pos</td>\n",
       "    </tr>\n",
       "    <tr>\n",
       "      <th>45</th>\n",
       "      <td>5.0</td>\n",
       "      <td>My wife using it for last three months with no...</td>\n",
       "      <td>pos</td>\n",
       "      <td>-0.2960</td>\n",
       "      <td>neg</td>\n",
       "    </tr>\n",
       "  </tbody>\n",
       "</table>\n",
       "</div>"
      ],
      "text/plain": [
       "    rating                                             review rating_label  \\\n",
       "7      5.0  I used to go to gym so I had to eat chicken da...          pos   \n",
       "1      1.0  I purchased this in 2017, and have been using ...          neg   \n",
       "7      3.0  Air fryer is not bad. Well worth money? Kinda....          pos   \n",
       "31     1.0  Better go buy a conventional oven it's better ...          neg   \n",
       "32     5.0  Used for 6 months now. Nice product. Not easy ...          pos   \n",
       "36     1.0  Product  not in working condition even power a...          neg   \n",
       "45     5.0  My wife using it for last three months with no...          pos   \n",
       "\n",
       "    compound_score vader_label  \n",
       "7          -0.2003         neg  \n",
       "1           0.6655         pos  \n",
       "7          -0.1910         neg  \n",
       "31          0.9417         pos  \n",
       "32         -0.5520         neg  \n",
       "36          0.3724         pos  \n",
       "45         -0.2960         neg  "
      ]
     },
     "execution_count": 10,
     "metadata": {},
     "output_type": "execute_result"
    }
   ],
   "source": [
    "temp.head(7)"
   ]
  },
  {
   "cell_type": "code",
   "execution_count": 11,
   "metadata": {
    "ExecuteTime": {
     "end_time": "2021-04-17T10:30:25.399253Z",
     "start_time": "2021-04-17T10:30:25.227632Z"
    },
    "scrolled": true
   },
   "outputs": [
    {
     "data": {
      "image/png": "[encoded data removed]",
      "text/plain": [
       "<Figure size 432x288 with 1 Axes>"
      ]
     },
     "metadata": {
      "needs_background": "light"
     },
     "output_type": "display_data"
    }
   ],
   "source": [
    "sns.countplot(data=temp, x= 'vader_label')\n",
    "plt.title('Countplot of mismatches');"
   ]
  },
  {
   "cell_type": "code",
   "execution_count": 12,
   "metadata": {
    "ExecuteTime": {
     "end_time": "2021-04-17T10:30:26.881191Z",
     "start_time": "2021-04-17T10:30:26.812255Z"
    }
   },
   "outputs": [
    {
     "data": {
      "text/html": [
       "<div>\n",
       "<style scoped>\n",
       "    .dataframe tbody tr th:only-of-type {\n",
       "        vertical-align: middle;\n",
       "    }\n",
       "\n",
       "    .dataframe tbody tr th {\n",
       "        vertical-align: top;\n",
       "    }\n",
       "\n",
       "    .dataframe thead th {\n",
       "        text-align: right;\n",
       "    }\n",
       "</style>\n",
       "<table border=\"1\" class=\"dataframe\">\n",
       "  <thead>\n",
       "    <tr style=\"text-align: right;\">\n",
       "      <th></th>\n",
       "      <th>rating</th>\n",
       "      <th>review</th>\n",
       "      <th>rating_label</th>\n",
       "      <th>compound_score</th>\n",
       "      <th>vader_label</th>\n",
       "      <th>Final label</th>\n",
       "    </tr>\n",
       "  </thead>\n",
       "  <tbody>\n",
       "    <tr>\n",
       "      <th>0</th>\n",
       "      <td>4.0</td>\n",
       "      <td>First review : Got this a week back and so far...</td>\n",
       "      <td>pos</td>\n",
       "      <td>0.8020</td>\n",
       "      <td>pos</td>\n",
       "      <td>pos</td>\n",
       "    </tr>\n",
       "    <tr>\n",
       "      <th>1</th>\n",
       "      <td>5.0</td>\n",
       "      <td>The fryer feels premium and is working really ...</td>\n",
       "      <td>pos</td>\n",
       "      <td>0.9406</td>\n",
       "      <td>pos</td>\n",
       "      <td>neg</td>\n",
       "    </tr>\n",
       "    <tr>\n",
       "      <th>2</th>\n",
       "      <td>4.0</td>\n",
       "      <td>It seems to be nice. It makes food really cris...</td>\n",
       "      <td>pos</td>\n",
       "      <td>0.3818</td>\n",
       "      <td>pos</td>\n",
       "      <td>neg</td>\n",
       "    </tr>\n",
       "    <tr>\n",
       "      <th>3</th>\n",
       "      <td>5.0</td>\n",
       "      <td>4.5 lit capacity Air fryer will fits the need ...</td>\n",
       "      <td>pos</td>\n",
       "      <td>0.9774</td>\n",
       "      <td>pos</td>\n",
       "      <td>pos</td>\n",
       "    </tr>\n",
       "    <tr>\n",
       "      <th>4</th>\n",
       "      <td>4.0</td>\n",
       "      <td>Amazing product ,it's very user friendly and t...</td>\n",
       "      <td>pos</td>\n",
       "      <td>0.8801</td>\n",
       "      <td>pos</td>\n",
       "      <td>pos</td>\n",
       "    </tr>\n",
       "  </tbody>\n",
       "</table>\n",
       "</div>"
      ],
      "text/plain": [
       "   rating                                             review rating_label  \\\n",
       "0     4.0  First review : Got this a week back and so far...          pos   \n",
       "1     5.0  The fryer feels premium and is working really ...          pos   \n",
       "2     4.0  It seems to be nice. It makes food really cris...          pos   \n",
       "3     5.0  4.5 lit capacity Air fryer will fits the need ...          pos   \n",
       "4     4.0  Amazing product ,it's very user friendly and t...          pos   \n",
       "\n",
       "   compound_score vader_label Final label  \n",
       "0          0.8020         pos         pos  \n",
       "1          0.9406         pos         neg  \n",
       "2          0.3818         pos         neg  \n",
       "3          0.9774         pos         pos  \n",
       "4          0.8801         pos         pos  "
      ]
     },
     "execution_count": 12,
     "metadata": {},
     "output_type": "execute_result"
    }
   ],
   "source": [
    "df['Final label'] = df['vader_label']\n",
    "j = df.columns.get_loc('Final label')\n",
    "for i in temp.index.values.tolist():\n",
    "    df.iloc[i,j] = 'neg'\n",
    "df.head()\n"
   ]
  },
  {
   "cell_type": "code",
   "execution_count": 13,
   "metadata": {
    "ExecuteTime": {
     "end_time": "2021-04-17T10:30:28.216081Z",
     "start_time": "2021-04-17T10:30:28.046577Z"
    }
   },
   "outputs": [
    {
     "data": {
      "image/png": "[encoded data removed]",
      "text/plain": [
       "<Figure size 432x288 with 1 Axes>"
      ]
     },
     "metadata": {
      "needs_background": "light"
     },
     "output_type": "display_data"
    }
   ],
   "source": [
    "sns.countplot(data= df, x='Final label')\n",
    "plt.title('Classification count plot');"
   ]
  },
  {
   "cell_type": "code",
   "execution_count": 14,
   "metadata": {
    "ExecuteTime": {
     "end_time": "2021-04-17T10:30:29.557704Z",
     "start_time": "2021-04-17T10:30:29.288662Z"
    }
   },
   "outputs": [
    {
     "data": {
      "image/png": "[encoded data removed]",
      "text/plain": [
       "<Figure size 432x288 with 1 Axes>"
      ]
     },
     "metadata": {
      "needs_background": "light"
     },
     "output_type": "display_data"
    }
   ],
   "source": [
    "sns.boxplot(data=df,x='compound_score')\n",
    "plt.title('Distribution of compound scores');\n",
    "# 3 out 4 customers are happy with the product"
   ]
  },
  {
   "cell_type": "code",
   "execution_count": 15,
   "metadata": {
    "ExecuteTime": {
     "end_time": "2021-04-17T10:30:30.894483Z",
     "start_time": "2021-04-17T10:30:30.455660Z"
    }
   },
   "outputs": [
    {
     "data": {
      "text/plain": [
       "pos    0.761216\n",
       "neg    0.238784\n",
       "Name: Final label, dtype: float64"
      ]
     },
     "execution_count": 15,
     "metadata": {},
     "output_type": "execute_result"
    }
   ],
   "source": [
    "df['Final label'].value_counts()/len(df)"
   ]
  },
  {
   "cell_type": "code",
   "execution_count": 50,
   "metadata": {
    "ExecuteTime": {
     "end_time": "2021-04-17T10:21:46.385271Z",
     "start_time": "2021-04-17T10:21:39.119057Z"
    }
   },
   "outputs": [
    {
     "name": "stdout",
     "output_type": "stream",
     "text": [
      "Collecting seaborn\n",
      "  Downloading seaborn-0.11.1-py3-none-any.whl (285 kB)\n",
      "Requirement already satisfied, skipping upgrade: scipy>=1.0 in c:\\python_install\\lib\\site-packages (from seaborn) (1.5.0)\n",
      "Requirement already satisfied, skipping upgrade: numpy>=1.15 in c:\\python_install\\lib\\site-packages (from seaborn) (1.19.4)\n",
      "Requirement already satisfied, skipping upgrade: matplotlib>=2.2 in c:\\python_install\\lib\\site-packages (from seaborn) (3.2.2)\n",
      "Requirement already satisfied, skipping upgrade: pandas>=0.23 in c:\\python_install\\lib\\site-packages (from seaborn) (1.2.1)\n",
      "Requirement already satisfied, skipping upgrade: kiwisolver>=1.0.1 in c:\\python_install\\lib\\site-packages (from matplotlib>=2.2->seaborn) (1.2.0)\n",
      "Note: you may need to restart the kernel to use updated packages.\n",
      "Requirement already satisfied, skipping upgrade: cycler>=0.10 in c:\\python_install\\lib\\site-packages (from matplotlib>=2.2->seaborn) (0.10.0)\n",
      "Requirement already satisfied, skipping upgrade: python-dateutil>=2.1 in c:\\python_install\\lib\\site-packages (from matplotlib>=2.2->seaborn) (2.8.1)\n",
      "Requirement already satisfied, skipping upgrade: pyparsing!=2.0.4,!=2.1.2,!=2.1.6,>=2.0.1 in c:\\python_install\\lib\\site-packages (from matplotlib>=2.2->seaborn) (2.4.7)\n",
      "Requirement already satisfied, skipping upgrade: pytz>=2017.3 in c:\\python_install\\lib\\site-packages (from pandas>=0.23->seaborn) (2020.1)\n",
      "Requirement already satisfied, skipping upgrade: six in c:\\python_install\\lib\\site-packages (from cycler>=0.10->matplotlib>=2.2->seaborn) (1.15.0)\n",
      "Installing collected packages: seaborn\n",
      "  Attempting uninstall: seaborn\n",
      "    Found existing installation: seaborn 0.10.1\n",
      "    Uninstalling seaborn-0.10.1:\n",
      "      Successfully uninstalled seaborn-0.10.1\n",
      "Successfully installed seaborn-0.11.1\n"
     ]
    }
   ],
   "source": [
    "pip install -U seaborn"
   ]
  },
  {
   "cell_type": "code",
   "execution_count": 16,
   "metadata": {
    "ExecuteTime": {
     "end_time": "2021-04-17T10:30:40.188868Z",
     "start_time": "2021-04-17T10:30:39.667846Z"
    }
   },
   "outputs": [
    {
     "data": {
      "image/png": "[encoded data removed]",
      "text/plain": [
       "<Figure size 432x288 with 1 Axes>"
      ]
     },
     "metadata": {
      "needs_background": "light"
     },
     "output_type": "display_data"
    }
   ],
   "source": [
    "sns.histplot(data=df,x='compound_score',bins=40);\n",
    "# Most positive people are extremely happy with the product\n",
    "# Comparatively some are extremely disappointed"
   ]
  },
  {
   "cell_type": "code",
   "execution_count": 25,
   "metadata": {},
   "outputs": [],
   "source": [
    "# Segregate positive and negative reviews using final labels \n",
    "# Plot wordcloud for each \n",
    "# Draw inferences w.r.t challenges and features"
   ]
  },
  {
   "cell_type": "code",
   "execution_count": 17,
   "metadata": {
    "ExecuteTime": {
     "end_time": "2021-04-17T10:31:24.633974Z",
     "start_time": "2021-04-17T10:31:24.620008Z"
    }
   },
   "outputs": [],
   "source": [
    "def display_wordcloud(text,bg_color):\n",
    "    #for word in []:\n",
    "    #    STOPWORDS.add(word)\n",
    "    path_to_font = 'C:/Users/priya/Downloads/bon_foyage/BonFoyageDemo.otf'\n",
    "    #path_to_image = 'C:/Users/priya/OneDrive/Desktop/NLP_Project/IMG.png'\n",
    "    # mask = np.array(Image.open(path_to_image))\n",
    "    plt.figure(figsize=(10, 10))\n",
    "    wordcloud = WordCloud(stopwords=STOPWORDS, font_path=path_to_font,\n",
    "               #mask=mask,\n",
    "               background_color=bg_color,\n",
    "               max_words=50, max_font_size=256,\n",
    "               random_state=42, width=1000,\n",
    "               height=1000).generate(text)\n",
    "    plt.imshow(wordcloud,interpolation=\"bilinear\") # display image\n",
    "    plt.axis(\"off\"); #No axis details"
   ]
  },
  {
   "cell_type": "code",
   "execution_count": 18,
   "metadata": {
    "ExecuteTime": {
     "end_time": "2021-04-17T10:31:26.182337Z",
     "start_time": "2021-04-17T10:31:26.163341Z"
    }
   },
   "outputs": [],
   "source": [
    "def clean_text(review):\n",
    "    # remove numbers\n",
    "    review = re.sub('[\\d]+','',review) \n",
    "    # remove emoticon\n",
    "    review = review.encode('ascii', 'ignore').decode('ascii') \n",
    "    # remove punctuation\n",
    "    return \"\".join([x for x in review if x not in string.punctuation])    "
   ]
  },
  {
   "cell_type": "code",
   "execution_count": 19,
   "metadata": {
    "ExecuteTime": {
     "end_time": "2021-04-17T10:31:27.303313Z",
     "start_time": "2021-04-17T10:31:27.249311Z"
    }
   },
   "outputs": [
    {
     "data": {
      "text/html": [
       "<div>\n",
       "<style scoped>\n",
       "    .dataframe tbody tr th:only-of-type {\n",
       "        vertical-align: middle;\n",
       "    }\n",
       "\n",
       "    .dataframe tbody tr th {\n",
       "        vertical-align: top;\n",
       "    }\n",
       "\n",
       "    .dataframe thead th {\n",
       "        text-align: right;\n",
       "    }\n",
       "</style>\n",
       "<table border=\"1\" class=\"dataframe\">\n",
       "  <thead>\n",
       "    <tr style=\"text-align: right;\">\n",
       "      <th></th>\n",
       "      <th>rating</th>\n",
       "      <th>review</th>\n",
       "      <th>rating_label</th>\n",
       "      <th>compound_score</th>\n",
       "      <th>vader_label</th>\n",
       "      <th>Final label</th>\n",
       "      <th>cleaned review</th>\n",
       "    </tr>\n",
       "  </thead>\n",
       "  <tbody>\n",
       "    <tr>\n",
       "      <th>0</th>\n",
       "      <td>4.0</td>\n",
       "      <td>First review : Got this a week back and so far...</td>\n",
       "      <td>pos</td>\n",
       "      <td>0.8020</td>\n",
       "      <td>pos</td>\n",
       "      <td>pos</td>\n",
       "      <td>First review  Got this a week back and so far ...</td>\n",
       "    </tr>\n",
       "    <tr>\n",
       "      <th>1</th>\n",
       "      <td>5.0</td>\n",
       "      <td>The fryer feels premium and is working really ...</td>\n",
       "      <td>pos</td>\n",
       "      <td>0.9406</td>\n",
       "      <td>pos</td>\n",
       "      <td>neg</td>\n",
       "      <td>The fryer feels premium and is working really ...</td>\n",
       "    </tr>\n",
       "    <tr>\n",
       "      <th>2</th>\n",
       "      <td>4.0</td>\n",
       "      <td>It seems to be nice. It makes food really cris...</td>\n",
       "      <td>pos</td>\n",
       "      <td>0.3818</td>\n",
       "      <td>pos</td>\n",
       "      <td>neg</td>\n",
       "      <td>It seems to be nice It makes food really crisp...</td>\n",
       "    </tr>\n",
       "    <tr>\n",
       "      <th>3</th>\n",
       "      <td>5.0</td>\n",
       "      <td>4.5 lit capacity Air fryer will fits the need ...</td>\n",
       "      <td>pos</td>\n",
       "      <td>0.9774</td>\n",
       "      <td>pos</td>\n",
       "      <td>pos</td>\n",
       "      <td>lit capacity Air fryer will fits the need of ...</td>\n",
       "    </tr>\n",
       "    <tr>\n",
       "      <th>4</th>\n",
       "      <td>4.0</td>\n",
       "      <td>Amazing product ,it's very user friendly and t...</td>\n",
       "      <td>pos</td>\n",
       "      <td>0.8801</td>\n",
       "      <td>pos</td>\n",
       "      <td>pos</td>\n",
       "      <td>Amazing product its very user friendly and the...</td>\n",
       "    </tr>\n",
       "  </tbody>\n",
       "</table>\n",
       "</div>"
      ],
      "text/plain": [
       "   rating                                             review rating_label  \\\n",
       "0     4.0  First review : Got this a week back and so far...          pos   \n",
       "1     5.0  The fryer feels premium and is working really ...          pos   \n",
       "2     4.0  It seems to be nice. It makes food really cris...          pos   \n",
       "3     5.0  4.5 lit capacity Air fryer will fits the need ...          pos   \n",
       "4     4.0  Amazing product ,it's very user friendly and t...          pos   \n",
       "\n",
       "   compound_score vader_label Final label  \\\n",
       "0          0.8020         pos         pos   \n",
       "1          0.9406         pos         neg   \n",
       "2          0.3818         pos         neg   \n",
       "3          0.9774         pos         pos   \n",
       "4          0.8801         pos         pos   \n",
       "\n",
       "                                      cleaned review  \n",
       "0  First review  Got this a week back and so far ...  \n",
       "1  The fryer feels premium and is working really ...  \n",
       "2  It seems to be nice It makes food really crisp...  \n",
       "3   lit capacity Air fryer will fits the need of ...  \n",
       "4  Amazing product its very user friendly and the...  "
      ]
     },
     "execution_count": 19,
     "metadata": {},
     "output_type": "execute_result"
    }
   ],
   "source": [
    "df['cleaned review'] = df['review'].apply(lambda x:clean_text(x))\n",
    "df.head()"
   ]
  },
  {
   "cell_type": "code",
   "execution_count": 20,
   "metadata": {
    "ExecuteTime": {
     "end_time": "2021-04-17T10:31:30.818743Z",
     "start_time": "2021-04-17T10:31:28.575358Z"
    }
   },
   "outputs": [
    {
     "ename": "OSError",
     "evalue": "cannot open resource",
     "output_type": "error",
     "traceback": [
      "\u001b[1;31m---------------------------------------------------------------------------\u001b[0m",
      "\u001b[1;31mOSError\u001b[0m                                   Traceback (most recent call last)",
      "\u001b[1;32m<ipython-input-20-a042ab01efb4>\u001b[0m in \u001b[0;36m<module>\u001b[1;34m\u001b[0m\n\u001b[0;32m      1\u001b[0m \u001b[0mpos_reviews\u001b[0m \u001b[1;33m=\u001b[0m \u001b[0mdf\u001b[0m\u001b[1;33m[\u001b[0m\u001b[0mdf\u001b[0m\u001b[1;33m[\u001b[0m\u001b[1;34m'Final label'\u001b[0m\u001b[1;33m]\u001b[0m\u001b[1;33m==\u001b[0m\u001b[1;34m'pos'\u001b[0m\u001b[1;33m]\u001b[0m\u001b[1;33m[\u001b[0m\u001b[1;34m'cleaned review'\u001b[0m\u001b[1;33m]\u001b[0m\u001b[1;33m.\u001b[0m\u001b[0mstr\u001b[0m\u001b[1;33m.\u001b[0m\u001b[0mcat\u001b[0m\u001b[1;33m(\u001b[0m\u001b[0msep\u001b[0m\u001b[1;33m=\u001b[0m\u001b[1;34m', '\u001b[0m\u001b[1;33m)\u001b[0m\u001b[1;33m\u001b[0m\u001b[1;33m\u001b[0m\u001b[0m\n\u001b[0;32m      2\u001b[0m \u001b[0mpos_reviews\u001b[0m \u001b[1;33m=\u001b[0m \u001b[1;34m''\u001b[0m\u001b[1;33m.\u001b[0m\u001b[0mjoin\u001b[0m\u001b[1;33m(\u001b[0m\u001b[0mpos_reviews\u001b[0m\u001b[1;33m)\u001b[0m\u001b[1;33m\u001b[0m\u001b[1;33m\u001b[0m\u001b[0m\n\u001b[1;32m----> 3\u001b[1;33m \u001b[0mdisplay_wordcloud\u001b[0m\u001b[1;33m(\u001b[0m\u001b[0mpos_reviews\u001b[0m\u001b[1;33m,\u001b[0m\u001b[1;34m'white'\u001b[0m\u001b[1;33m)\u001b[0m \u001b[1;31m# '#f5faf8'\u001b[0m\u001b[1;33m\u001b[0m\u001b[1;33m\u001b[0m\u001b[0m\n\u001b[0m",
      "\u001b[1;32m<ipython-input-17-4639a95c3e6f>\u001b[0m in \u001b[0;36mdisplay_wordcloud\u001b[1;34m(text, bg_color)\u001b[0m\n\u001b[0;32m      6\u001b[0m     \u001b[1;31m# mask = np.array(Image.open(path_to_image))\u001b[0m\u001b[1;33m\u001b[0m\u001b[1;33m\u001b[0m\u001b[1;33m\u001b[0m\u001b[0m\n\u001b[0;32m      7\u001b[0m     \u001b[0mplt\u001b[0m\u001b[1;33m.\u001b[0m\u001b[0mfigure\u001b[0m\u001b[1;33m(\u001b[0m\u001b[0mfigsize\u001b[0m\u001b[1;33m=\u001b[0m\u001b[1;33m(\u001b[0m\u001b[1;36m10\u001b[0m\u001b[1;33m,\u001b[0m \u001b[1;36m10\u001b[0m\u001b[1;33m)\u001b[0m\u001b[1;33m)\u001b[0m\u001b[1;33m\u001b[0m\u001b[1;33m\u001b[0m\u001b[0m\n\u001b[1;32m----> 8\u001b[1;33m     wordcloud = WordCloud(stopwords=STOPWORDS, font_path=path_to_font,\n\u001b[0m\u001b[0;32m      9\u001b[0m                \u001b[1;31m#mask=mask,\u001b[0m\u001b[1;33m\u001b[0m\u001b[1;33m\u001b[0m\u001b[1;33m\u001b[0m\u001b[0m\n\u001b[0;32m     10\u001b[0m                \u001b[0mbackground_color\u001b[0m\u001b[1;33m=\u001b[0m\u001b[0mbg_color\u001b[0m\u001b[1;33m,\u001b[0m\u001b[1;33m\u001b[0m\u001b[1;33m\u001b[0m\u001b[0m\n",
      "\u001b[1;32mC:\\python_install\\lib\\site-packages\\wordcloud\\wordcloud.py\u001b[0m in \u001b[0;36mgenerate\u001b[1;34m(self, text)\u001b[0m\n\u001b[0;32m    630\u001b[0m         \u001b[0mself\u001b[0m\u001b[1;33m\u001b[0m\u001b[1;33m\u001b[0m\u001b[0m\n\u001b[0;32m    631\u001b[0m         \"\"\"\n\u001b[1;32m--> 632\u001b[1;33m         \u001b[1;32mreturn\u001b[0m \u001b[0mself\u001b[0m\u001b[1;33m.\u001b[0m\u001b[0mgenerate_from_text\u001b[0m\u001b[1;33m(\u001b[0m\u001b[0mtext\u001b[0m\u001b[1;33m)\u001b[0m\u001b[1;33m\u001b[0m\u001b[1;33m\u001b[0m\u001b[0m\n\u001b[0m\u001b[0;32m    633\u001b[0m \u001b[1;33m\u001b[0m\u001b[0m\n\u001b[0;32m    634\u001b[0m     \u001b[1;32mdef\u001b[0m \u001b[0m_check_generated\u001b[0m\u001b[1;33m(\u001b[0m\u001b[0mself\u001b[0m\u001b[1;33m)\u001b[0m\u001b[1;33m:\u001b[0m\u001b[1;33m\u001b[0m\u001b[1;33m\u001b[0m\u001b[0m\n",
      "\u001b[1;32mC:\\python_install\\lib\\site-packages\\wordcloud\\wordcloud.py\u001b[0m in \u001b[0;36mgenerate_from_text\u001b[1;34m(self, text)\u001b[0m\n\u001b[0;32m    612\u001b[0m         \"\"\"\n\u001b[0;32m    613\u001b[0m         \u001b[0mwords\u001b[0m \u001b[1;33m=\u001b[0m \u001b[0mself\u001b[0m\u001b[1;33m.\u001b[0m\u001b[0mprocess_text\u001b[0m\u001b[1;33m(\u001b[0m\u001b[0mtext\u001b[0m\u001b[1;33m)\u001b[0m\u001b[1;33m\u001b[0m\u001b[1;33m\u001b[0m\u001b[0m\n\u001b[1;32m--> 614\u001b[1;33m         \u001b[0mself\u001b[0m\u001b[1;33m.\u001b[0m\u001b[0mgenerate_from_frequencies\u001b[0m\u001b[1;33m(\u001b[0m\u001b[0mwords\u001b[0m\u001b[1;33m)\u001b[0m\u001b[1;33m\u001b[0m\u001b[1;33m\u001b[0m\u001b[0m\n\u001b[0m\u001b[0;32m    615\u001b[0m         \u001b[1;32mreturn\u001b[0m \u001b[0mself\u001b[0m\u001b[1;33m\u001b[0m\u001b[1;33m\u001b[0m\u001b[0m\n\u001b[0;32m    616\u001b[0m \u001b[1;33m\u001b[0m\u001b[0m\n",
      "\u001b[1;32mC:\\python_install\\lib\\site-packages\\wordcloud\\wordcloud.py\u001b[0m in \u001b[0;36mgenerate_from_frequencies\u001b[1;34m(self, frequencies, max_font_size)\u001b[0m\n\u001b[0;32m    494\u001b[0m             \u001b[1;32mwhile\u001b[0m \u001b[1;32mTrue\u001b[0m\u001b[1;33m:\u001b[0m\u001b[1;33m\u001b[0m\u001b[1;33m\u001b[0m\u001b[0m\n\u001b[0;32m    495\u001b[0m                 \u001b[1;31m# try to find a position\u001b[0m\u001b[1;33m\u001b[0m\u001b[1;33m\u001b[0m\u001b[1;33m\u001b[0m\u001b[0m\n\u001b[1;32m--> 496\u001b[1;33m                 \u001b[0mfont\u001b[0m \u001b[1;33m=\u001b[0m \u001b[0mImageFont\u001b[0m\u001b[1;33m.\u001b[0m\u001b[0mtruetype\u001b[0m\u001b[1;33m(\u001b[0m\u001b[0mself\u001b[0m\u001b[1;33m.\u001b[0m\u001b[0mfont_path\u001b[0m\u001b[1;33m,\u001b[0m \u001b[0mfont_size\u001b[0m\u001b[1;33m)\u001b[0m\u001b[1;33m\u001b[0m\u001b[1;33m\u001b[0m\u001b[0m\n\u001b[0m\u001b[0;32m    497\u001b[0m                 \u001b[1;31m# transpose font optionally\u001b[0m\u001b[1;33m\u001b[0m\u001b[1;33m\u001b[0m\u001b[1;33m\u001b[0m\u001b[0m\n\u001b[0;32m    498\u001b[0m                 transposed_font = ImageFont.TransposedFont(\n",
      "\u001b[1;32mC:\\python_install\\lib\\site-packages\\PIL\\ImageFont.py\u001b[0m in \u001b[0;36mtruetype\u001b[1;34m(font, size, index, encoding, layout_engine)\u001b[0m\n\u001b[0;32m    653\u001b[0m \u001b[1;33m\u001b[0m\u001b[0m\n\u001b[0;32m    654\u001b[0m     \u001b[1;32mtry\u001b[0m\u001b[1;33m:\u001b[0m\u001b[1;33m\u001b[0m\u001b[1;33m\u001b[0m\u001b[0m\n\u001b[1;32m--> 655\u001b[1;33m         \u001b[1;32mreturn\u001b[0m \u001b[0mfreetype\u001b[0m\u001b[1;33m(\u001b[0m\u001b[0mfont\u001b[0m\u001b[1;33m)\u001b[0m\u001b[1;33m\u001b[0m\u001b[1;33m\u001b[0m\u001b[0m\n\u001b[0m\u001b[0;32m    656\u001b[0m     \u001b[1;32mexcept\u001b[0m \u001b[0mOSError\u001b[0m\u001b[1;33m:\u001b[0m\u001b[1;33m\u001b[0m\u001b[1;33m\u001b[0m\u001b[0m\n\u001b[0;32m    657\u001b[0m         \u001b[1;32mif\u001b[0m \u001b[1;32mnot\u001b[0m \u001b[0misPath\u001b[0m\u001b[1;33m(\u001b[0m\u001b[0mfont\u001b[0m\u001b[1;33m)\u001b[0m\u001b[1;33m:\u001b[0m\u001b[1;33m\u001b[0m\u001b[1;33m\u001b[0m\u001b[0m\n",
      "\u001b[1;32mC:\\python_install\\lib\\site-packages\\PIL\\ImageFont.py\u001b[0m in \u001b[0;36mfreetype\u001b[1;34m(font)\u001b[0m\n\u001b[0;32m    650\u001b[0m \u001b[1;33m\u001b[0m\u001b[0m\n\u001b[0;32m    651\u001b[0m     \u001b[1;32mdef\u001b[0m \u001b[0mfreetype\u001b[0m\u001b[1;33m(\u001b[0m\u001b[0mfont\u001b[0m\u001b[1;33m)\u001b[0m\u001b[1;33m:\u001b[0m\u001b[1;33m\u001b[0m\u001b[1;33m\u001b[0m\u001b[0m\n\u001b[1;32m--> 652\u001b[1;33m         \u001b[1;32mreturn\u001b[0m \u001b[0mFreeTypeFont\u001b[0m\u001b[1;33m(\u001b[0m\u001b[0mfont\u001b[0m\u001b[1;33m,\u001b[0m \u001b[0msize\u001b[0m\u001b[1;33m,\u001b[0m \u001b[0mindex\u001b[0m\u001b[1;33m,\u001b[0m \u001b[0mencoding\u001b[0m\u001b[1;33m,\u001b[0m \u001b[0mlayout_engine\u001b[0m\u001b[1;33m)\u001b[0m\u001b[1;33m\u001b[0m\u001b[1;33m\u001b[0m\u001b[0m\n\u001b[0m\u001b[0;32m    653\u001b[0m \u001b[1;33m\u001b[0m\u001b[0m\n\u001b[0;32m    654\u001b[0m     \u001b[1;32mtry\u001b[0m\u001b[1;33m:\u001b[0m\u001b[1;33m\u001b[0m\u001b[1;33m\u001b[0m\u001b[0m\n",
      "\u001b[1;32mC:\\python_install\\lib\\site-packages\\PIL\\ImageFont.py\u001b[0m in \u001b[0;36m__init__\u001b[1;34m(self, font, size, index, encoding, layout_engine)\u001b[0m\n\u001b[0;32m    191\u001b[0m                         \u001b[0mload_from_bytes\u001b[0m\u001b[1;33m(\u001b[0m\u001b[0mf\u001b[0m\u001b[1;33m)\u001b[0m\u001b[1;33m\u001b[0m\u001b[1;33m\u001b[0m\u001b[0m\n\u001b[0;32m    192\u001b[0m                     \u001b[1;32mreturn\u001b[0m\u001b[1;33m\u001b[0m\u001b[1;33m\u001b[0m\u001b[0m\n\u001b[1;32m--> 193\u001b[1;33m             self.font = core.getfont(\n\u001b[0m\u001b[0;32m    194\u001b[0m                 \u001b[0mfont\u001b[0m\u001b[1;33m,\u001b[0m \u001b[0msize\u001b[0m\u001b[1;33m,\u001b[0m \u001b[0mindex\u001b[0m\u001b[1;33m,\u001b[0m \u001b[0mencoding\u001b[0m\u001b[1;33m,\u001b[0m \u001b[0mlayout_engine\u001b[0m\u001b[1;33m=\u001b[0m\u001b[0mlayout_engine\u001b[0m\u001b[1;33m\u001b[0m\u001b[1;33m\u001b[0m\u001b[0m\n\u001b[0;32m    195\u001b[0m             )\n",
      "\u001b[1;31mOSError\u001b[0m: cannot open resource"
     ]
    },
    {
     "data": {
      "text/plain": [
       "<Figure size 720x720 with 0 Axes>"
      ]
     },
     "metadata": {},
     "output_type": "display_data"
    }
   ],
   "source": [
    "pos_reviews = df[df['Final label']=='pos']['cleaned review'].str.cat(sep=', ')\n",
    "pos_reviews = ''.join(pos_reviews)\n",
    "display_wordcloud(pos_reviews,'white') # '#f5faf8'"
   ]
  },
  {
   "cell_type": "code",
   "execution_count": null,
   "metadata": {
    "ExecuteTime": {
     "end_time": "2021-04-17T10:31:30.827703Z",
     "start_time": "2021-04-17T10:31:30.208Z"
    },
    "scrolled": false
   },
   "outputs": [],
   "source": [
    "neg_reviews = df[df['Final label']=='neg']['cleaned review'].str.cat(sep=', ')\n",
    "neg_reviews = ''.join(neg_reviews)\n",
    "display_wordcloud(neg_reviews,'black') # '#fcf7f8'"
   ]
  },
  {
   "cell_type": "markdown",
   "metadata": {},
   "source": [
    "### Competitor's positive reviews"
   ]
  },
  {
   "cell_type": "code",
   "execution_count": 21,
   "metadata": {
    "ExecuteTime": {
     "end_time": "2021-04-17T10:31:35.516225Z",
     "start_time": "2021-04-17T10:31:35.488226Z"
    }
   },
   "outputs": [
    {
     "data": {
      "text/html": [
       "<div>\n",
       "<style scoped>\n",
       "    .dataframe tbody tr th:only-of-type {\n",
       "        vertical-align: middle;\n",
       "    }\n",
       "\n",
       "    .dataframe tbody tr th {\n",
       "        vertical-align: top;\n",
       "    }\n",
       "\n",
       "    .dataframe thead th {\n",
       "        text-align: right;\n",
       "    }\n",
       "</style>\n",
       "<table border=\"1\" class=\"dataframe\">\n",
       "  <thead>\n",
       "    <tr style=\"text-align: right;\">\n",
       "      <th></th>\n",
       "      <th>rating</th>\n",
       "      <th>review</th>\n",
       "      <th>rating_label</th>\n",
       "      <th>compound_score</th>\n",
       "      <th>vader_label</th>\n",
       "      <th>Final label</th>\n",
       "      <th>cleaned review</th>\n",
       "    </tr>\n",
       "  </thead>\n",
       "  <tbody>\n",
       "    <tr>\n",
       "      <th>0</th>\n",
       "      <td>4.0</td>\n",
       "      <td>First review : Got this a week back and so far...</td>\n",
       "      <td>pos</td>\n",
       "      <td>0.8020</td>\n",
       "      <td>pos</td>\n",
       "      <td>pos</td>\n",
       "      <td>First review  Got this a week back and so far ...</td>\n",
       "    </tr>\n",
       "    <tr>\n",
       "      <th>3</th>\n",
       "      <td>5.0</td>\n",
       "      <td>4.5 lit capacity Air fryer will fits the need ...</td>\n",
       "      <td>pos</td>\n",
       "      <td>0.9774</td>\n",
       "      <td>pos</td>\n",
       "      <td>pos</td>\n",
       "      <td>lit capacity Air fryer will fits the need of ...</td>\n",
       "    </tr>\n",
       "    <tr>\n",
       "      <th>4</th>\n",
       "      <td>4.0</td>\n",
       "      <td>Amazing product ,it's very user friendly and t...</td>\n",
       "      <td>pos</td>\n",
       "      <td>0.8801</td>\n",
       "      <td>pos</td>\n",
       "      <td>pos</td>\n",
       "      <td>Amazing product its very user friendly and the...</td>\n",
       "    </tr>\n",
       "    <tr>\n",
       "      <th>5</th>\n",
       "      <td>4.0</td>\n",
       "      <td>Easy to use.Long tongs with silicone ends are ...</td>\n",
       "      <td>pos</td>\n",
       "      <td>0.7564</td>\n",
       "      <td>pos</td>\n",
       "      <td>pos</td>\n",
       "      <td>Easy to useLong tongs with silicone ends are v...</td>\n",
       "    </tr>\n",
       "    <tr>\n",
       "      <th>8</th>\n",
       "      <td>5.0</td>\n",
       "      <td>The product is really good, easy to use, good ...</td>\n",
       "      <td>pos</td>\n",
       "      <td>0.8849</td>\n",
       "      <td>pos</td>\n",
       "      <td>pos</td>\n",
       "      <td>The product is really good easy to use good qu...</td>\n",
       "    </tr>\n",
       "  </tbody>\n",
       "</table>\n",
       "</div>"
      ],
      "text/plain": [
       "   rating                                             review rating_label  \\\n",
       "0     4.0  First review : Got this a week back and so far...          pos   \n",
       "3     5.0  4.5 lit capacity Air fryer will fits the need ...          pos   \n",
       "4     4.0  Amazing product ,it's very user friendly and t...          pos   \n",
       "5     4.0  Easy to use.Long tongs with silicone ends are ...          pos   \n",
       "8     5.0  The product is really good, easy to use, good ...          pos   \n",
       "\n",
       "   compound_score vader_label Final label  \\\n",
       "0          0.8020         pos         pos   \n",
       "3          0.9774         pos         pos   \n",
       "4          0.8801         pos         pos   \n",
       "5          0.7564         pos         pos   \n",
       "8          0.8849         pos         pos   \n",
       "\n",
       "                                      cleaned review  \n",
       "0  First review  Got this a week back and so far ...  \n",
       "3   lit capacity Air fryer will fits the need of ...  \n",
       "4  Amazing product its very user friendly and the...  \n",
       "5  Easy to useLong tongs with silicone ends are v...  \n",
       "8  The product is really good easy to use good qu...  "
      ]
     },
     "execution_count": 21,
     "metadata": {},
     "output_type": "execute_result"
    }
   ],
   "source": [
    "pos_reviews = df[df['Final label']=='pos']\n",
    "pos_reviews.head()"
   ]
  },
  {
   "cell_type": "code",
   "execution_count": null,
   "metadata": {},
   "outputs": [],
   "source": [
    "# Perform analysis for positive reviews above"
   ]
  },
  {
   "cell_type": "code",
   "execution_count": null,
   "metadata": {},
   "outputs": [],
   "source": [
    "# Related visualizations"
   ]
  },
  {
   "cell_type": "code",
   "execution_count": 24,
   "metadata": {
    "ExecuteTime": {
     "end_time": "2021-04-17T10:33:31.675603Z",
     "start_time": "2021-04-17T10:33:31.376066Z"
    }
   },
   "outputs": [
    {
     "data": {
      "image/png": "[encoded data removed]",
      "text/plain": [
       "<Figure size 432x288 with 1 Axes>"
      ]
     },
     "metadata": {
      "needs_background": "light"
     },
     "output_type": "display_data"
    }
   ],
   "source": [
    "sns.histplot(data=pos_reviews,x='compound_score',bins=40);"
   ]
  },
  {
   "cell_type": "code",
   "execution_count": 28,
   "metadata": {
    "ExecuteTime": {
     "end_time": "2021-04-17T10:37:46.334298Z",
     "start_time": "2021-04-17T10:37:46.125305Z"
    }
   },
   "outputs": [
    {
     "data": {
      "image/png": "[encoded data removed]",
      "text/plain": [
       "<Figure size 432x288 with 1 Axes>"
      ]
     },
     "metadata": {
      "needs_background": "light"
     },
     "output_type": "display_data"
    }
   ],
   "source": [
    "sns.boxplot(data=pos_reviews,x='compound_score')\n",
    "plt.title('Distribution of compound scores for positive reviews');\n",
    "# 3 out 4 customers are happy with the product"
   ]
  },
  {
   "cell_type": "code",
   "execution_count": null,
   "metadata": {},
   "outputs": [],
   "source": []
  },
  {
   "cell_type": "markdown",
   "metadata": {},
   "source": [
    "### Competitor's Negative reviews"
   ]
  },
  {
   "cell_type": "code",
   "execution_count": 30,
   "metadata": {
    "ExecuteTime": {
     "end_time": "2021-04-17T11:20:47.033340Z",
     "start_time": "2021-04-17T11:20:47.006713Z"
    }
   },
   "outputs": [
    {
     "data": {
      "text/html": [
       "<div>\n",
       "<style scoped>\n",
       "    .dataframe tbody tr th:only-of-type {\n",
       "        vertical-align: middle;\n",
       "    }\n",
       "\n",
       "    .dataframe tbody tr th {\n",
       "        vertical-align: top;\n",
       "    }\n",
       "\n",
       "    .dataframe thead th {\n",
       "        text-align: right;\n",
       "    }\n",
       "</style>\n",
       "<table border=\"1\" class=\"dataframe\">\n",
       "  <thead>\n",
       "    <tr style=\"text-align: right;\">\n",
       "      <th></th>\n",
       "      <th>rating</th>\n",
       "      <th>review</th>\n",
       "      <th>rating_label</th>\n",
       "      <th>compound_score</th>\n",
       "      <th>vader_label</th>\n",
       "      <th>Final label</th>\n",
       "      <th>cleaned review</th>\n",
       "    </tr>\n",
       "  </thead>\n",
       "  <tbody>\n",
       "    <tr>\n",
       "      <th>1</th>\n",
       "      <td>5.0</td>\n",
       "      <td>The fryer feels premium and is working really ...</td>\n",
       "      <td>pos</td>\n",
       "      <td>0.9406</td>\n",
       "      <td>pos</td>\n",
       "      <td>neg</td>\n",
       "      <td>The fryer feels premium and is working really ...</td>\n",
       "    </tr>\n",
       "    <tr>\n",
       "      <th>2</th>\n",
       "      <td>4.0</td>\n",
       "      <td>It seems to be nice. It makes food really cris...</td>\n",
       "      <td>pos</td>\n",
       "      <td>0.3818</td>\n",
       "      <td>pos</td>\n",
       "      <td>neg</td>\n",
       "      <td>It seems to be nice It makes food really crisp...</td>\n",
       "    </tr>\n",
       "    <tr>\n",
       "      <th>6</th>\n",
       "      <td>5.0</td>\n",
       "      <td>This product is amazing and delivery was fast....</td>\n",
       "      <td>pos</td>\n",
       "      <td>0.9777</td>\n",
       "      <td>pos</td>\n",
       "      <td>neg</td>\n",
       "      <td>This product is amazing and delivery was fast ...</td>\n",
       "    </tr>\n",
       "    <tr>\n",
       "      <th>7</th>\n",
       "      <td>5.0</td>\n",
       "      <td>I used to go to gym so I had to eat chicken da...</td>\n",
       "      <td>pos</td>\n",
       "      <td>-0.2003</td>\n",
       "      <td>neg</td>\n",
       "      <td>neg</td>\n",
       "      <td>I used to go to gym so I had to eat chicken da...</td>\n",
       "    </tr>\n",
       "    <tr>\n",
       "      <th>9</th>\n",
       "      <td>5.0</td>\n",
       "      <td>Your browser does not support HTML5 video.\\n\\n...</td>\n",
       "      <td>pos</td>\n",
       "      <td>0.5487</td>\n",
       "      <td>pos</td>\n",
       "      <td>neg</td>\n",
       "      <td>Your browser does not support HTML video\\n\\n\\n...</td>\n",
       "    </tr>\n",
       "  </tbody>\n",
       "</table>\n",
       "</div>"
      ],
      "text/plain": [
       "   rating                                             review rating_label  \\\n",
       "1     5.0  The fryer feels premium and is working really ...          pos   \n",
       "2     4.0  It seems to be nice. It makes food really cris...          pos   \n",
       "6     5.0  This product is amazing and delivery was fast....          pos   \n",
       "7     5.0  I used to go to gym so I had to eat chicken da...          pos   \n",
       "9     5.0  Your browser does not support HTML5 video.\\n\\n...          pos   \n",
       "\n",
       "   compound_score vader_label Final label  \\\n",
       "1          0.9406         pos         neg   \n",
       "2          0.3818         pos         neg   \n",
       "6          0.9777         pos         neg   \n",
       "7         -0.2003         neg         neg   \n",
       "9          0.5487         pos         neg   \n",
       "\n",
       "                                      cleaned review  \n",
       "1  The fryer feels premium and is working really ...  \n",
       "2  It seems to be nice It makes food really crisp...  \n",
       "6  This product is amazing and delivery was fast ...  \n",
       "7  I used to go to gym so I had to eat chicken da...  \n",
       "9  Your browser does not support HTML video\\n\\n\\n...  "
      ]
     },
     "execution_count": 30,
     "metadata": {},
     "output_type": "execute_result"
    }
   ],
   "source": [
    "neg_reviews = df[df['Final label']=='neg']\n",
    "neg_reviews.head()"
   ]
  },
  {
   "cell_type": "code",
   "execution_count": null,
   "metadata": {},
   "outputs": [],
   "source": [
    "# Perform analysis for negative reviews above"
   ]
  },
  {
   "cell_type": "code",
   "execution_count": null,
   "metadata": {},
   "outputs": [],
   "source": [
    "# Related visualizations"
   ]
  },
  {
   "cell_type": "code",
   "execution_count": 31,
   "metadata": {
    "ExecuteTime": {
     "end_time": "2021-04-17T11:21:05.463752Z",
     "start_time": "2021-04-17T11:21:05.166529Z"
    }
   },
   "outputs": [
    {
     "data": {
      "image/png": "[encoded data removed]",
      "text/plain": [
       "<Figure size 432x288 with 1 Axes>"
      ]
     },
     "metadata": {
      "needs_background": "light"
     },
     "output_type": "display_data"
    }
   ],
   "source": [
    "sns.histplot(data=neg_reviews,x='compound_score',bins=40);"
   ]
  },
  {
   "cell_type": "code",
   "execution_count": 32,
   "metadata": {
    "ExecuteTime": {
     "end_time": "2021-04-17T11:21:45.615969Z",
     "start_time": "2021-04-17T11:21:45.426016Z"
    }
   },
   "outputs": [
    {
     "data": {
      "image/png": "[encoded data removed]",
      "text/plain": [
       "<Figure size 432x288 with 1 Axes>"
      ]
     },
     "metadata": {
      "needs_background": "light"
     },
     "output_type": "display_data"
    }
   ],
   "source": [
    "sns.boxplot(data=neg_reviews,x='compound_score')\n",
    "plt.title('Distribution of compound scores for negative reviews');\n",
    "# 3 out 4 customers are happy with the product"
   ]
  },
  {
   "cell_type": "code",
   "execution_count": null,
   "metadata": {},
   "outputs": [],
   "source": []
  },
  {
   "cell_type": "code",
   "execution_count": null,
   "metadata": {},
   "outputs": [],
   "source": []
  },
  {
   "cell_type": "code",
   "execution_count": null,
   "metadata": {},
   "outputs": [],
   "source": []
  },
  {
   "cell_type": "code",
   "execution_count": null,
   "metadata": {},
   "outputs": [],
   "source": []
  },
  {
   "cell_type": "code",
   "execution_count": null,
   "metadata": {},
   "outputs": [],
   "source": []
  },
  {
   "cell_type": "code",
   "execution_count": null,
   "metadata": {},
   "outputs": [],
   "source": []
  },
  {
   "cell_type": "code",
   "execution_count": null,
   "metadata": {},
   "outputs": [],
   "source": []
  },
  {
   "cell_type": "code",
   "execution_count": null,
   "metadata": {},
   "outputs": [],
   "source": []
  },
  {
   "cell_type": "code",
   "execution_count": null,
   "metadata": {},
   "outputs": [],
   "source": []
  },
  {
   "cell_type": "code",
   "execution_count": null,
   "metadata": {},
   "outputs": [],
   "source": []
  },
  {
   "cell_type": "code",
   "execution_count": null,
   "metadata": {},
   "outputs": [],
   "source": []
  },
  {
   "cell_type": "code",
   "execution_count": null,
   "metadata": {},
   "outputs": [],
   "source": []
  },
  {
   "cell_type": "code",
   "execution_count": null,
   "metadata": {},
   "outputs": [],
   "source": []
  },
  {
   "cell_type": "code",
   "execution_count": null,
   "metadata": {},
   "outputs": [],
   "source": []
  },
  {
   "cell_type": "code",
   "execution_count": null,
   "metadata": {},
   "outputs": [],
   "source": []
  },
  {
   "cell_type": "markdown",
   "metadata": {},
   "source": [
    "## Best seller product"
   ]
  },
  {
   "cell_type": "code",
   "execution_count": null,
   "metadata": {},
   "outputs": [],
   "source": [
    "# Comparison using Bayesian statistical technique"
   ]
  },
  {
   "cell_type": "code",
   "execution_count": 33,
   "metadata": {
    "ExecuteTime": {
     "end_time": "2021-04-17T11:21:57.613822Z",
     "start_time": "2021-04-17T11:21:57.543606Z"
    }
   },
   "outputs": [],
   "source": [
    "philipsneg_data = pd.read_csv(\"bestsellerphillips_negreviews.csv\")\n",
    "philipspos_data = pd.read_csv(\"bestsellerphillips_posreviews.csv\")"
   ]
  },
  {
   "cell_type": "code",
   "execution_count": null,
   "metadata": {},
   "outputs": [],
   "source": []
  },
  {
   "cell_type": "code",
   "execution_count": null,
   "metadata": {},
   "outputs": [],
   "source": []
  },
  {
   "cell_type": "code",
   "execution_count": null,
   "metadata": {},
   "outputs": [],
   "source": []
  },
  {
   "cell_type": "code",
   "execution_count": null,
   "metadata": {},
   "outputs": [],
   "source": []
  },
  {
   "cell_type": "code",
   "execution_count": null,
   "metadata": {},
   "outputs": [],
   "source": []
  },
  {
   "cell_type": "code",
   "execution_count": null,
   "metadata": {},
   "outputs": [],
   "source": []
  },
  {
   "cell_type": "code",
   "execution_count": null,
   "metadata": {},
   "outputs": [],
   "source": []
  },
  {
   "cell_type": "code",
   "execution_count": null,
   "metadata": {},
   "outputs": [],
   "source": []
  },
  {
   "cell_type": "code",
   "execution_count": null,
   "metadata": {},
   "outputs": [],
   "source": []
  },
  {
   "cell_type": "code",
   "execution_count": null,
   "metadata": {},
   "outputs": [],
   "source": []
  },
  {
   "cell_type": "code",
   "execution_count": null,
   "metadata": {},
   "outputs": [],
   "source": []
  },
  {
   "cell_type": "code",
   "execution_count": null,
   "metadata": {},
   "outputs": [],
   "source": []
  },
  {
   "cell_type": "code",
   "execution_count": null,
   "metadata": {},
   "outputs": [],
   "source": []
  },
  {
   "cell_type": "code",
   "execution_count": null,
   "metadata": {},
   "outputs": [],
   "source": []
  }
 ],
 "metadata": {
  "kernelspec": {
   "display_name": "Python 3",
   "language": "python",
   "name": "python3"
  },
  "language_info": {
   "codemirror_mode": {
    "name": "ipython",
    "version": 3
   },
   "file_extension": ".py",
   "mimetype": "text/x-python",
   "name": "python",
   "nbconvert_exporter": "python",
   "pygments_lexer": "ipython3",
   "version": "3.8.3"
  },
  "varInspector": {
   "cols": {
    "lenName": 16,
    "lenType": 16,
    "lenVar": 40
   },
   "kernels_config": {
    "python": {
     "delete_cmd_postfix": "",
     "delete_cmd_prefix": "del ",
     "library": "var_list.py",
     "varRefreshCmd": "print(var_dic_list())"
    },
    "r": {
     "delete_cmd_postfix": ") ",
     "delete_cmd_prefix": "rm(",
     "library": "var_list.r",
     "varRefreshCmd": "cat(var_dic_list()) "
    }
   },
   "types_to_exclude": [
    "module",
    "function",
    "builtin_function_or_method",
    "instance",
    "_Feature"
   ],
   "window_display": false
  }
 },
 "nbformat": 4,
 "nbformat_minor": 5
}
